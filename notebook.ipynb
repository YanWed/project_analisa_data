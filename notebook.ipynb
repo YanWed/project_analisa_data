{
 "cells": [
  {
   "cell_type": "markdown",
   "metadata": {
    "id": "H9wADwK78DCz"
   },
   "source": [
    "# Proyek Analisis Data: [Air Quality Dataset]\n",
    "- **Nama:** [I Wayan Wedya Diatmika]\n",
    "- **Email:** [wayanwedyadiatmika@gmail.com]\n",
    "- **ID Dicoding:** [weddiat]"
   ]
  },
  {
   "cell_type": "markdown",
   "metadata": {
    "id": "eE0raob58DC0"
   },
   "source": [
    "## Menentukan Pertanyaan Bisnis"
   ]
  },
  {
   "cell_type": "markdown",
   "metadata": {
    "id": "GmQeQ5YF8DC0"
   },
   "source": [
    "- Bagaimana tren polusi udara (PM2.5 dan PM10) di keempat lokasi dalam beberapa tahun terakhir, dan apakah ada pola musiman yang dapat diidentifikasi?\n",
    "- Bagaimana pengaruh faktor cuaca (suhu, kecepatan angin, hujan) terhadap tingkat polusi udara?"
   ]
  },
  {
   "cell_type": "markdown",
   "metadata": {
    "id": "H-z4QGlO8DC1"
   },
   "source": [
    "## Import Semua Packages/Library yang Digunakan"
   ]
  },
  {
   "cell_type": "code",
   "execution_count": 854,
   "metadata": {
    "id": "FVYwaObI8DC1"
   },
   "outputs": [],
   "source": [
    "import numpy as np\n",
    "import pandas as pd\n",
    "import matplotlib.pyplot as plt\n",
    "import seaborn as sns\n",
    "import os"
   ]
  },
  {
   "cell_type": "markdown",
   "metadata": {
    "id": "h_Sh51Xy8DC1"
   },
   "source": [
    "## Data Wrangling"
   ]
  },
  {
   "cell_type": "markdown",
   "metadata": {
    "id": "sXU2GBYu8DC1"
   },
   "source": [
    "### Gathering Data"
   ]
  },
  {
   "cell_type": "code",
   "execution_count": 855,
   "metadata": {},
   "outputs": [
    {
     "name": "stdout",
     "output_type": "stream",
     "text": [
      "<class 'pandas.core.frame.DataFrame'>\n",
      "RangeIndex: 140256 entries, 0 to 140255\n",
      "Data columns (total 14 columns):\n",
      " #   Column    Non-Null Count   Dtype         \n",
      "---  ------    --------------   -----         \n",
      " 0   PM2.5     140256 non-null  float64       \n",
      " 1   PM10      140256 non-null  float64       \n",
      " 2   SO2       140256 non-null  float64       \n",
      " 3   NO2       140256 non-null  float64       \n",
      " 4   CO        140256 non-null  float64       \n",
      " 5   O3        140256 non-null  float64       \n",
      " 6   TEMP      140256 non-null  float64       \n",
      " 7   PRES      140256 non-null  float64       \n",
      " 8   DEWP      140256 non-null  float64       \n",
      " 9   RAIN      140256 non-null  float64       \n",
      " 10  wd        139817 non-null  object        \n",
      " 11  WSPM      140256 non-null  float64       \n",
      " 12  station   140256 non-null  object        \n",
      " 13  datetime  140256 non-null  datetime64[ns]\n",
      "dtypes: datetime64[ns](1), float64(11), object(2)\n",
      "memory usage: 15.0+ MB\n"
     ]
    }
   ],
   "source": [
    "selected_stations = [\n",
    "    \"PRSA_Data_Aotizhongxin_20130301-20170228.csv\",\n",
    "    \"PRSA_Data_Changping_20130301-20170228.csv\",\n",
    "    \"PRSA_Data_Dingling_20130301-20170228.csv\",\n",
    "    \"PRSA_Data_Dongsi_20130301-20170228.csv\",\n",
    "]\n",
    "\n",
    "data_dir = r\"C:\\Users\\Asus\\Desktop\\submission\\data\"  \n",
    "\n",
    "df_list = []\n",
    "for file in selected_stations:\n",
    "    file_path = os.path.join(data_dir, file) \n",
    "    df_temp = pd.read_csv(file_path)\n",
    "    df_list.append(df_temp)\n",
    "\n",
    "df = pd.concat(df_list, ignore_index=True)\n",
    "\n",
    "df.drop(columns=[\"No\"], inplace=True)\n",
    "\n",
    "df[\"date\"] = pd.to_datetime(df[\"year\"] * 10000 + df[\"month\"] * 100 + df[\"day\"], format=\"%Y%m%d\")\n",
    "df[\"datetime\"] = df[\"date\"] + pd.to_timedelta(df[\"hour\"], unit='h')\n",
    "df.drop(columns = [\"year\", \"month\", \"day\", \"hour\", \"date\"], inplace = True)\n",
    "\n",
    "numeric_cols = df.select_dtypes(include=['number']).columns\n",
    "\n",
    "df[numeric_cols] = df.groupby(\"station\")[numeric_cols].transform(lambda x: x.fillna(x.median()))\n",
    "\n",
    "df.info()"
   ]
  },
  {
   "cell_type": "code",
   "execution_count": 856,
   "metadata": {
    "id": "zjCBk1BI8DC1"
   },
   "outputs": [
    {
     "data": {
      "text/html": [
       "<div>\n",
       "<style scoped>\n",
       "    .dataframe tbody tr th:only-of-type {\n",
       "        vertical-align: middle;\n",
       "    }\n",
       "\n",
       "    .dataframe tbody tr th {\n",
       "        vertical-align: top;\n",
       "    }\n",
       "\n",
       "    .dataframe thead th {\n",
       "        text-align: right;\n",
       "    }\n",
       "</style>\n",
       "<table border=\"1\" class=\"dataframe\">\n",
       "  <thead>\n",
       "    <tr style=\"text-align: right;\">\n",
       "      <th></th>\n",
       "      <th>No</th>\n",
       "      <th>year</th>\n",
       "      <th>month</th>\n",
       "      <th>day</th>\n",
       "      <th>hour</th>\n",
       "      <th>PM2.5</th>\n",
       "      <th>PM10</th>\n",
       "      <th>SO2</th>\n",
       "      <th>NO2</th>\n",
       "      <th>CO</th>\n",
       "      <th>O3</th>\n",
       "      <th>TEMP</th>\n",
       "      <th>PRES</th>\n",
       "      <th>DEWP</th>\n",
       "      <th>RAIN</th>\n",
       "      <th>wd</th>\n",
       "      <th>WSPM</th>\n",
       "      <th>station</th>\n",
       "    </tr>\n",
       "  </thead>\n",
       "  <tbody>\n",
       "    <tr>\n",
       "      <th>0</th>\n",
       "      <td>1</td>\n",
       "      <td>2013</td>\n",
       "      <td>3</td>\n",
       "      <td>1</td>\n",
       "      <td>0</td>\n",
       "      <td>4.0</td>\n",
       "      <td>4.0</td>\n",
       "      <td>4.0</td>\n",
       "      <td>7.0</td>\n",
       "      <td>300.0</td>\n",
       "      <td>77.0</td>\n",
       "      <td>-0.7</td>\n",
       "      <td>1023.0</td>\n",
       "      <td>-18.8</td>\n",
       "      <td>0.0</td>\n",
       "      <td>NNW</td>\n",
       "      <td>4.4</td>\n",
       "      <td>Aotizhongxin</td>\n",
       "    </tr>\n",
       "    <tr>\n",
       "      <th>1</th>\n",
       "      <td>2</td>\n",
       "      <td>2013</td>\n",
       "      <td>3</td>\n",
       "      <td>1</td>\n",
       "      <td>1</td>\n",
       "      <td>8.0</td>\n",
       "      <td>8.0</td>\n",
       "      <td>4.0</td>\n",
       "      <td>7.0</td>\n",
       "      <td>300.0</td>\n",
       "      <td>77.0</td>\n",
       "      <td>-1.1</td>\n",
       "      <td>1023.2</td>\n",
       "      <td>-18.2</td>\n",
       "      <td>0.0</td>\n",
       "      <td>N</td>\n",
       "      <td>4.7</td>\n",
       "      <td>Aotizhongxin</td>\n",
       "    </tr>\n",
       "    <tr>\n",
       "      <th>2</th>\n",
       "      <td>3</td>\n",
       "      <td>2013</td>\n",
       "      <td>3</td>\n",
       "      <td>1</td>\n",
       "      <td>2</td>\n",
       "      <td>7.0</td>\n",
       "      <td>7.0</td>\n",
       "      <td>5.0</td>\n",
       "      <td>10.0</td>\n",
       "      <td>300.0</td>\n",
       "      <td>73.0</td>\n",
       "      <td>-1.1</td>\n",
       "      <td>1023.5</td>\n",
       "      <td>-18.2</td>\n",
       "      <td>0.0</td>\n",
       "      <td>NNW</td>\n",
       "      <td>5.6</td>\n",
       "      <td>Aotizhongxin</td>\n",
       "    </tr>\n",
       "    <tr>\n",
       "      <th>3</th>\n",
       "      <td>4</td>\n",
       "      <td>2013</td>\n",
       "      <td>3</td>\n",
       "      <td>1</td>\n",
       "      <td>3</td>\n",
       "      <td>6.0</td>\n",
       "      <td>6.0</td>\n",
       "      <td>11.0</td>\n",
       "      <td>11.0</td>\n",
       "      <td>300.0</td>\n",
       "      <td>72.0</td>\n",
       "      <td>-1.4</td>\n",
       "      <td>1024.5</td>\n",
       "      <td>-19.4</td>\n",
       "      <td>0.0</td>\n",
       "      <td>NW</td>\n",
       "      <td>3.1</td>\n",
       "      <td>Aotizhongxin</td>\n",
       "    </tr>\n",
       "    <tr>\n",
       "      <th>4</th>\n",
       "      <td>5</td>\n",
       "      <td>2013</td>\n",
       "      <td>3</td>\n",
       "      <td>1</td>\n",
       "      <td>4</td>\n",
       "      <td>3.0</td>\n",
       "      <td>3.0</td>\n",
       "      <td>12.0</td>\n",
       "      <td>12.0</td>\n",
       "      <td>300.0</td>\n",
       "      <td>72.0</td>\n",
       "      <td>-2.0</td>\n",
       "      <td>1025.2</td>\n",
       "      <td>-19.5</td>\n",
       "      <td>0.0</td>\n",
       "      <td>N</td>\n",
       "      <td>2.0</td>\n",
       "      <td>Aotizhongxin</td>\n",
       "    </tr>\n",
       "  </tbody>\n",
       "</table>\n",
       "</div>"
      ],
      "text/plain": [
       "   No  year  month  day  hour  PM2.5  PM10   SO2   NO2     CO    O3  TEMP  \\\n",
       "0   1  2013      3    1     0    4.0   4.0   4.0   7.0  300.0  77.0  -0.7   \n",
       "1   2  2013      3    1     1    8.0   8.0   4.0   7.0  300.0  77.0  -1.1   \n",
       "2   3  2013      3    1     2    7.0   7.0   5.0  10.0  300.0  73.0  -1.1   \n",
       "3   4  2013      3    1     3    6.0   6.0  11.0  11.0  300.0  72.0  -1.4   \n",
       "4   5  2013      3    1     4    3.0   3.0  12.0  12.0  300.0  72.0  -2.0   \n",
       "\n",
       "     PRES  DEWP  RAIN   wd  WSPM       station  \n",
       "0  1023.0 -18.8   0.0  NNW   4.4  Aotizhongxin  \n",
       "1  1023.2 -18.2   0.0    N   4.7  Aotizhongxin  \n",
       "2  1023.5 -18.2   0.0  NNW   5.6  Aotizhongxin  \n",
       "3  1024.5 -19.4   0.0   NW   3.1  Aotizhongxin  \n",
       "4  1025.2 -19.5   0.0    N   2.0  Aotizhongxin  "
      ]
     },
     "execution_count": 856,
     "metadata": {},
     "output_type": "execute_result"
    }
   ],
   "source": [
    "data1_df = pd.read_csv(r\"C:\\Users\\Asus\\Desktop\\submission\\data\\PRSA_Data_Aotizhongxin_20130301-20170228.csv\")\n",
    "data1_df.head()"
   ]
  },
  {
   "cell_type": "code",
   "execution_count": 857,
   "metadata": {},
   "outputs": [
    {
     "data": {
      "text/html": [
       "<div>\n",
       "<style scoped>\n",
       "    .dataframe tbody tr th:only-of-type {\n",
       "        vertical-align: middle;\n",
       "    }\n",
       "\n",
       "    .dataframe tbody tr th {\n",
       "        vertical-align: top;\n",
       "    }\n",
       "\n",
       "    .dataframe thead th {\n",
       "        text-align: right;\n",
       "    }\n",
       "</style>\n",
       "<table border=\"1\" class=\"dataframe\">\n",
       "  <thead>\n",
       "    <tr style=\"text-align: right;\">\n",
       "      <th></th>\n",
       "      <th>No</th>\n",
       "      <th>year</th>\n",
       "      <th>month</th>\n",
       "      <th>day</th>\n",
       "      <th>hour</th>\n",
       "      <th>PM2.5</th>\n",
       "      <th>PM10</th>\n",
       "      <th>SO2</th>\n",
       "      <th>NO2</th>\n",
       "      <th>CO</th>\n",
       "      <th>O3</th>\n",
       "      <th>TEMP</th>\n",
       "      <th>PRES</th>\n",
       "      <th>DEWP</th>\n",
       "      <th>RAIN</th>\n",
       "      <th>wd</th>\n",
       "      <th>WSPM</th>\n",
       "      <th>station</th>\n",
       "    </tr>\n",
       "  </thead>\n",
       "  <tbody>\n",
       "    <tr>\n",
       "      <th>0</th>\n",
       "      <td>1</td>\n",
       "      <td>2013</td>\n",
       "      <td>3</td>\n",
       "      <td>1</td>\n",
       "      <td>0</td>\n",
       "      <td>3.0</td>\n",
       "      <td>6.0</td>\n",
       "      <td>13.0</td>\n",
       "      <td>7.0</td>\n",
       "      <td>300.0</td>\n",
       "      <td>85.0</td>\n",
       "      <td>-2.3</td>\n",
       "      <td>1020.8</td>\n",
       "      <td>-19.7</td>\n",
       "      <td>0.0</td>\n",
       "      <td>E</td>\n",
       "      <td>0.5</td>\n",
       "      <td>Changping</td>\n",
       "    </tr>\n",
       "    <tr>\n",
       "      <th>1</th>\n",
       "      <td>2</td>\n",
       "      <td>2013</td>\n",
       "      <td>3</td>\n",
       "      <td>1</td>\n",
       "      <td>1</td>\n",
       "      <td>3.0</td>\n",
       "      <td>3.0</td>\n",
       "      <td>6.0</td>\n",
       "      <td>6.0</td>\n",
       "      <td>300.0</td>\n",
       "      <td>85.0</td>\n",
       "      <td>-2.5</td>\n",
       "      <td>1021.3</td>\n",
       "      <td>-19.0</td>\n",
       "      <td>0.0</td>\n",
       "      <td>ENE</td>\n",
       "      <td>0.7</td>\n",
       "      <td>Changping</td>\n",
       "    </tr>\n",
       "    <tr>\n",
       "      <th>2</th>\n",
       "      <td>3</td>\n",
       "      <td>2013</td>\n",
       "      <td>3</td>\n",
       "      <td>1</td>\n",
       "      <td>2</td>\n",
       "      <td>3.0</td>\n",
       "      <td>3.0</td>\n",
       "      <td>22.0</td>\n",
       "      <td>13.0</td>\n",
       "      <td>400.0</td>\n",
       "      <td>74.0</td>\n",
       "      <td>-3.0</td>\n",
       "      <td>1021.3</td>\n",
       "      <td>-19.9</td>\n",
       "      <td>0.0</td>\n",
       "      <td>ENE</td>\n",
       "      <td>0.2</td>\n",
       "      <td>Changping</td>\n",
       "    </tr>\n",
       "    <tr>\n",
       "      <th>3</th>\n",
       "      <td>4</td>\n",
       "      <td>2013</td>\n",
       "      <td>3</td>\n",
       "      <td>1</td>\n",
       "      <td>3</td>\n",
       "      <td>3.0</td>\n",
       "      <td>6.0</td>\n",
       "      <td>12.0</td>\n",
       "      <td>8.0</td>\n",
       "      <td>300.0</td>\n",
       "      <td>81.0</td>\n",
       "      <td>-3.6</td>\n",
       "      <td>1021.8</td>\n",
       "      <td>-19.1</td>\n",
       "      <td>0.0</td>\n",
       "      <td>NNE</td>\n",
       "      <td>1.0</td>\n",
       "      <td>Changping</td>\n",
       "    </tr>\n",
       "    <tr>\n",
       "      <th>4</th>\n",
       "      <td>5</td>\n",
       "      <td>2013</td>\n",
       "      <td>3</td>\n",
       "      <td>1</td>\n",
       "      <td>4</td>\n",
       "      <td>3.0</td>\n",
       "      <td>3.0</td>\n",
       "      <td>14.0</td>\n",
       "      <td>8.0</td>\n",
       "      <td>300.0</td>\n",
       "      <td>81.0</td>\n",
       "      <td>-3.5</td>\n",
       "      <td>1022.3</td>\n",
       "      <td>-19.4</td>\n",
       "      <td>0.0</td>\n",
       "      <td>N</td>\n",
       "      <td>2.1</td>\n",
       "      <td>Changping</td>\n",
       "    </tr>\n",
       "  </tbody>\n",
       "</table>\n",
       "</div>"
      ],
      "text/plain": [
       "   No  year  month  day  hour  PM2.5  PM10   SO2   NO2     CO    O3  TEMP  \\\n",
       "0   1  2013      3    1     0    3.0   6.0  13.0   7.0  300.0  85.0  -2.3   \n",
       "1   2  2013      3    1     1    3.0   3.0   6.0   6.0  300.0  85.0  -2.5   \n",
       "2   3  2013      3    1     2    3.0   3.0  22.0  13.0  400.0  74.0  -3.0   \n",
       "3   4  2013      3    1     3    3.0   6.0  12.0   8.0  300.0  81.0  -3.6   \n",
       "4   5  2013      3    1     4    3.0   3.0  14.0   8.0  300.0  81.0  -3.5   \n",
       "\n",
       "     PRES  DEWP  RAIN   wd  WSPM    station  \n",
       "0  1020.8 -19.7   0.0    E   0.5  Changping  \n",
       "1  1021.3 -19.0   0.0  ENE   0.7  Changping  \n",
       "2  1021.3 -19.9   0.0  ENE   0.2  Changping  \n",
       "3  1021.8 -19.1   0.0  NNE   1.0  Changping  \n",
       "4  1022.3 -19.4   0.0    N   2.1  Changping  "
      ]
     },
     "execution_count": 857,
     "metadata": {},
     "output_type": "execute_result"
    }
   ],
   "source": [
    "data2_df = pd.read_csv(r\"C:\\Users\\Asus\\Desktop\\submission\\data\\PRSA_Data_Changping_20130301-20170228.csv\")\n",
    "data2_df.head()"
   ]
  },
  {
   "cell_type": "code",
   "execution_count": 858,
   "metadata": {},
   "outputs": [
    {
     "data": {
      "text/html": [
       "<div>\n",
       "<style scoped>\n",
       "    .dataframe tbody tr th:only-of-type {\n",
       "        vertical-align: middle;\n",
       "    }\n",
       "\n",
       "    .dataframe tbody tr th {\n",
       "        vertical-align: top;\n",
       "    }\n",
       "\n",
       "    .dataframe thead th {\n",
       "        text-align: right;\n",
       "    }\n",
       "</style>\n",
       "<table border=\"1\" class=\"dataframe\">\n",
       "  <thead>\n",
       "    <tr style=\"text-align: right;\">\n",
       "      <th></th>\n",
       "      <th>No</th>\n",
       "      <th>year</th>\n",
       "      <th>month</th>\n",
       "      <th>day</th>\n",
       "      <th>hour</th>\n",
       "      <th>PM2.5</th>\n",
       "      <th>PM10</th>\n",
       "      <th>SO2</th>\n",
       "      <th>NO2</th>\n",
       "      <th>CO</th>\n",
       "      <th>O3</th>\n",
       "      <th>TEMP</th>\n",
       "      <th>PRES</th>\n",
       "      <th>DEWP</th>\n",
       "      <th>RAIN</th>\n",
       "      <th>wd</th>\n",
       "      <th>WSPM</th>\n",
       "      <th>station</th>\n",
       "    </tr>\n",
       "  </thead>\n",
       "  <tbody>\n",
       "    <tr>\n",
       "      <th>0</th>\n",
       "      <td>1</td>\n",
       "      <td>2013</td>\n",
       "      <td>3</td>\n",
       "      <td>1</td>\n",
       "      <td>0</td>\n",
       "      <td>4.0</td>\n",
       "      <td>4.0</td>\n",
       "      <td>3.0</td>\n",
       "      <td>NaN</td>\n",
       "      <td>200.0</td>\n",
       "      <td>82.0</td>\n",
       "      <td>-2.3</td>\n",
       "      <td>1020.8</td>\n",
       "      <td>-19.7</td>\n",
       "      <td>0.0</td>\n",
       "      <td>E</td>\n",
       "      <td>0.5</td>\n",
       "      <td>Dingling</td>\n",
       "    </tr>\n",
       "    <tr>\n",
       "      <th>1</th>\n",
       "      <td>2</td>\n",
       "      <td>2013</td>\n",
       "      <td>3</td>\n",
       "      <td>1</td>\n",
       "      <td>1</td>\n",
       "      <td>7.0</td>\n",
       "      <td>7.0</td>\n",
       "      <td>3.0</td>\n",
       "      <td>NaN</td>\n",
       "      <td>200.0</td>\n",
       "      <td>80.0</td>\n",
       "      <td>-2.5</td>\n",
       "      <td>1021.3</td>\n",
       "      <td>-19.0</td>\n",
       "      <td>0.0</td>\n",
       "      <td>ENE</td>\n",
       "      <td>0.7</td>\n",
       "      <td>Dingling</td>\n",
       "    </tr>\n",
       "    <tr>\n",
       "      <th>2</th>\n",
       "      <td>3</td>\n",
       "      <td>2013</td>\n",
       "      <td>3</td>\n",
       "      <td>1</td>\n",
       "      <td>2</td>\n",
       "      <td>5.0</td>\n",
       "      <td>5.0</td>\n",
       "      <td>3.0</td>\n",
       "      <td>2.0</td>\n",
       "      <td>200.0</td>\n",
       "      <td>79.0</td>\n",
       "      <td>-3.0</td>\n",
       "      <td>1021.3</td>\n",
       "      <td>-19.9</td>\n",
       "      <td>0.0</td>\n",
       "      <td>ENE</td>\n",
       "      <td>0.2</td>\n",
       "      <td>Dingling</td>\n",
       "    </tr>\n",
       "    <tr>\n",
       "      <th>3</th>\n",
       "      <td>4</td>\n",
       "      <td>2013</td>\n",
       "      <td>3</td>\n",
       "      <td>1</td>\n",
       "      <td>3</td>\n",
       "      <td>6.0</td>\n",
       "      <td>6.0</td>\n",
       "      <td>3.0</td>\n",
       "      <td>NaN</td>\n",
       "      <td>200.0</td>\n",
       "      <td>79.0</td>\n",
       "      <td>-3.6</td>\n",
       "      <td>1021.8</td>\n",
       "      <td>-19.1</td>\n",
       "      <td>0.0</td>\n",
       "      <td>NNE</td>\n",
       "      <td>1.0</td>\n",
       "      <td>Dingling</td>\n",
       "    </tr>\n",
       "    <tr>\n",
       "      <th>4</th>\n",
       "      <td>5</td>\n",
       "      <td>2013</td>\n",
       "      <td>3</td>\n",
       "      <td>1</td>\n",
       "      <td>4</td>\n",
       "      <td>5.0</td>\n",
       "      <td>5.0</td>\n",
       "      <td>3.0</td>\n",
       "      <td>NaN</td>\n",
       "      <td>200.0</td>\n",
       "      <td>81.0</td>\n",
       "      <td>-3.5</td>\n",
       "      <td>1022.3</td>\n",
       "      <td>-19.4</td>\n",
       "      <td>0.0</td>\n",
       "      <td>N</td>\n",
       "      <td>2.1</td>\n",
       "      <td>Dingling</td>\n",
       "    </tr>\n",
       "  </tbody>\n",
       "</table>\n",
       "</div>"
      ],
      "text/plain": [
       "   No  year  month  day  hour  PM2.5  PM10  SO2  NO2     CO    O3  TEMP  \\\n",
       "0   1  2013      3    1     0    4.0   4.0  3.0  NaN  200.0  82.0  -2.3   \n",
       "1   2  2013      3    1     1    7.0   7.0  3.0  NaN  200.0  80.0  -2.5   \n",
       "2   3  2013      3    1     2    5.0   5.0  3.0  2.0  200.0  79.0  -3.0   \n",
       "3   4  2013      3    1     3    6.0   6.0  3.0  NaN  200.0  79.0  -3.6   \n",
       "4   5  2013      3    1     4    5.0   5.0  3.0  NaN  200.0  81.0  -3.5   \n",
       "\n",
       "     PRES  DEWP  RAIN   wd  WSPM   station  \n",
       "0  1020.8 -19.7   0.0    E   0.5  Dingling  \n",
       "1  1021.3 -19.0   0.0  ENE   0.7  Dingling  \n",
       "2  1021.3 -19.9   0.0  ENE   0.2  Dingling  \n",
       "3  1021.8 -19.1   0.0  NNE   1.0  Dingling  \n",
       "4  1022.3 -19.4   0.0    N   2.1  Dingling  "
      ]
     },
     "execution_count": 858,
     "metadata": {},
     "output_type": "execute_result"
    }
   ],
   "source": [
    "data3_df = pd.read_csv(r\"C:\\Users\\Asus\\Desktop\\submission\\data\\PRSA_Data_Dingling_20130301-20170228.csv\")\n",
    "data3_df.head()"
   ]
  },
  {
   "cell_type": "code",
   "execution_count": 859,
   "metadata": {},
   "outputs": [
    {
     "data": {
      "text/html": [
       "<div>\n",
       "<style scoped>\n",
       "    .dataframe tbody tr th:only-of-type {\n",
       "        vertical-align: middle;\n",
       "    }\n",
       "\n",
       "    .dataframe tbody tr th {\n",
       "        vertical-align: top;\n",
       "    }\n",
       "\n",
       "    .dataframe thead th {\n",
       "        text-align: right;\n",
       "    }\n",
       "</style>\n",
       "<table border=\"1\" class=\"dataframe\">\n",
       "  <thead>\n",
       "    <tr style=\"text-align: right;\">\n",
       "      <th></th>\n",
       "      <th>No</th>\n",
       "      <th>year</th>\n",
       "      <th>month</th>\n",
       "      <th>day</th>\n",
       "      <th>hour</th>\n",
       "      <th>PM2.5</th>\n",
       "      <th>PM10</th>\n",
       "      <th>SO2</th>\n",
       "      <th>NO2</th>\n",
       "      <th>CO</th>\n",
       "      <th>O3</th>\n",
       "      <th>TEMP</th>\n",
       "      <th>PRES</th>\n",
       "      <th>DEWP</th>\n",
       "      <th>RAIN</th>\n",
       "      <th>wd</th>\n",
       "      <th>WSPM</th>\n",
       "      <th>station</th>\n",
       "    </tr>\n",
       "  </thead>\n",
       "  <tbody>\n",
       "    <tr>\n",
       "      <th>0</th>\n",
       "      <td>1</td>\n",
       "      <td>2013</td>\n",
       "      <td>3</td>\n",
       "      <td>1</td>\n",
       "      <td>0</td>\n",
       "      <td>9.0</td>\n",
       "      <td>9.0</td>\n",
       "      <td>3.0</td>\n",
       "      <td>17.0</td>\n",
       "      <td>300.0</td>\n",
       "      <td>89.0</td>\n",
       "      <td>-0.5</td>\n",
       "      <td>1024.5</td>\n",
       "      <td>-21.4</td>\n",
       "      <td>0.0</td>\n",
       "      <td>NNW</td>\n",
       "      <td>5.7</td>\n",
       "      <td>Dongsi</td>\n",
       "    </tr>\n",
       "    <tr>\n",
       "      <th>1</th>\n",
       "      <td>2</td>\n",
       "      <td>2013</td>\n",
       "      <td>3</td>\n",
       "      <td>1</td>\n",
       "      <td>1</td>\n",
       "      <td>4.0</td>\n",
       "      <td>4.0</td>\n",
       "      <td>3.0</td>\n",
       "      <td>16.0</td>\n",
       "      <td>300.0</td>\n",
       "      <td>88.0</td>\n",
       "      <td>-0.7</td>\n",
       "      <td>1025.1</td>\n",
       "      <td>-22.1</td>\n",
       "      <td>0.0</td>\n",
       "      <td>NW</td>\n",
       "      <td>3.9</td>\n",
       "      <td>Dongsi</td>\n",
       "    </tr>\n",
       "    <tr>\n",
       "      <th>2</th>\n",
       "      <td>3</td>\n",
       "      <td>2013</td>\n",
       "      <td>3</td>\n",
       "      <td>1</td>\n",
       "      <td>2</td>\n",
       "      <td>7.0</td>\n",
       "      <td>7.0</td>\n",
       "      <td>NaN</td>\n",
       "      <td>17.0</td>\n",
       "      <td>300.0</td>\n",
       "      <td>60.0</td>\n",
       "      <td>-1.2</td>\n",
       "      <td>1025.3</td>\n",
       "      <td>-24.6</td>\n",
       "      <td>0.0</td>\n",
       "      <td>NNW</td>\n",
       "      <td>5.3</td>\n",
       "      <td>Dongsi</td>\n",
       "    </tr>\n",
       "    <tr>\n",
       "      <th>3</th>\n",
       "      <td>4</td>\n",
       "      <td>2013</td>\n",
       "      <td>3</td>\n",
       "      <td>1</td>\n",
       "      <td>3</td>\n",
       "      <td>3.0</td>\n",
       "      <td>3.0</td>\n",
       "      <td>5.0</td>\n",
       "      <td>18.0</td>\n",
       "      <td>NaN</td>\n",
       "      <td>NaN</td>\n",
       "      <td>-1.4</td>\n",
       "      <td>1026.2</td>\n",
       "      <td>-25.5</td>\n",
       "      <td>0.0</td>\n",
       "      <td>N</td>\n",
       "      <td>4.9</td>\n",
       "      <td>Dongsi</td>\n",
       "    </tr>\n",
       "    <tr>\n",
       "      <th>4</th>\n",
       "      <td>5</td>\n",
       "      <td>2013</td>\n",
       "      <td>3</td>\n",
       "      <td>1</td>\n",
       "      <td>4</td>\n",
       "      <td>3.0</td>\n",
       "      <td>3.0</td>\n",
       "      <td>7.0</td>\n",
       "      <td>NaN</td>\n",
       "      <td>200.0</td>\n",
       "      <td>84.0</td>\n",
       "      <td>-1.9</td>\n",
       "      <td>1027.1</td>\n",
       "      <td>-24.5</td>\n",
       "      <td>0.0</td>\n",
       "      <td>NNW</td>\n",
       "      <td>3.2</td>\n",
       "      <td>Dongsi</td>\n",
       "    </tr>\n",
       "  </tbody>\n",
       "</table>\n",
       "</div>"
      ],
      "text/plain": [
       "   No  year  month  day  hour  PM2.5  PM10  SO2   NO2     CO    O3  TEMP  \\\n",
       "0   1  2013      3    1     0    9.0   9.0  3.0  17.0  300.0  89.0  -0.5   \n",
       "1   2  2013      3    1     1    4.0   4.0  3.0  16.0  300.0  88.0  -0.7   \n",
       "2   3  2013      3    1     2    7.0   7.0  NaN  17.0  300.0  60.0  -1.2   \n",
       "3   4  2013      3    1     3    3.0   3.0  5.0  18.0    NaN   NaN  -1.4   \n",
       "4   5  2013      3    1     4    3.0   3.0  7.0   NaN  200.0  84.0  -1.9   \n",
       "\n",
       "     PRES  DEWP  RAIN   wd  WSPM station  \n",
       "0  1024.5 -21.4   0.0  NNW   5.7  Dongsi  \n",
       "1  1025.1 -22.1   0.0   NW   3.9  Dongsi  \n",
       "2  1025.3 -24.6   0.0  NNW   5.3  Dongsi  \n",
       "3  1026.2 -25.5   0.0    N   4.9  Dongsi  \n",
       "4  1027.1 -24.5   0.0  NNW   3.2  Dongsi  "
      ]
     },
     "execution_count": 859,
     "metadata": {},
     "output_type": "execute_result"
    }
   ],
   "source": [
    "data4_df = pd.read_csv(r\"C:\\Users\\Asus\\Desktop\\submission\\data\\PRSA_Data_Dongsi_20130301-20170228.csv\")\n",
    "data4_df.head()"
   ]
  },
  {
   "cell_type": "code",
   "execution_count": 860,
   "metadata": {},
   "outputs": [
    {
     "data": {
      "text/html": [
       "<div>\n",
       "<style scoped>\n",
       "    .dataframe tbody tr th:only-of-type {\n",
       "        vertical-align: middle;\n",
       "    }\n",
       "\n",
       "    .dataframe tbody tr th {\n",
       "        vertical-align: top;\n",
       "    }\n",
       "\n",
       "    .dataframe thead th {\n",
       "        text-align: right;\n",
       "    }\n",
       "</style>\n",
       "<table border=\"1\" class=\"dataframe\">\n",
       "  <thead>\n",
       "    <tr style=\"text-align: right;\">\n",
       "      <th></th>\n",
       "      <th>No</th>\n",
       "      <th>year</th>\n",
       "      <th>month</th>\n",
       "      <th>day</th>\n",
       "      <th>hour</th>\n",
       "      <th>PM2.5</th>\n",
       "      <th>PM10</th>\n",
       "      <th>SO2</th>\n",
       "      <th>NO2</th>\n",
       "      <th>CO</th>\n",
       "      <th>O3</th>\n",
       "      <th>TEMP</th>\n",
       "      <th>PRES</th>\n",
       "      <th>DEWP</th>\n",
       "      <th>RAIN</th>\n",
       "      <th>wd</th>\n",
       "      <th>WSPM</th>\n",
       "      <th>station</th>\n",
       "    </tr>\n",
       "  </thead>\n",
       "  <tbody>\n",
       "    <tr>\n",
       "      <th>0</th>\n",
       "      <td>1</td>\n",
       "      <td>2013</td>\n",
       "      <td>3</td>\n",
       "      <td>1</td>\n",
       "      <td>0</td>\n",
       "      <td>4.0</td>\n",
       "      <td>4.0</td>\n",
       "      <td>14.0</td>\n",
       "      <td>20.0</td>\n",
       "      <td>300.0</td>\n",
       "      <td>69.0</td>\n",
       "      <td>-0.7</td>\n",
       "      <td>1023.0</td>\n",
       "      <td>-18.8</td>\n",
       "      <td>0.0</td>\n",
       "      <td>NNW</td>\n",
       "      <td>4.4</td>\n",
       "      <td>Guanyuan</td>\n",
       "    </tr>\n",
       "    <tr>\n",
       "      <th>1</th>\n",
       "      <td>2</td>\n",
       "      <td>2013</td>\n",
       "      <td>3</td>\n",
       "      <td>1</td>\n",
       "      <td>1</td>\n",
       "      <td>4.0</td>\n",
       "      <td>4.0</td>\n",
       "      <td>13.0</td>\n",
       "      <td>17.0</td>\n",
       "      <td>300.0</td>\n",
       "      <td>72.0</td>\n",
       "      <td>-1.1</td>\n",
       "      <td>1023.2</td>\n",
       "      <td>-18.2</td>\n",
       "      <td>0.0</td>\n",
       "      <td>N</td>\n",
       "      <td>4.7</td>\n",
       "      <td>Guanyuan</td>\n",
       "    </tr>\n",
       "    <tr>\n",
       "      <th>2</th>\n",
       "      <td>3</td>\n",
       "      <td>2013</td>\n",
       "      <td>3</td>\n",
       "      <td>1</td>\n",
       "      <td>2</td>\n",
       "      <td>3.0</td>\n",
       "      <td>3.0</td>\n",
       "      <td>10.0</td>\n",
       "      <td>19.0</td>\n",
       "      <td>300.0</td>\n",
       "      <td>69.0</td>\n",
       "      <td>-1.1</td>\n",
       "      <td>1023.5</td>\n",
       "      <td>-18.2</td>\n",
       "      <td>0.0</td>\n",
       "      <td>NNW</td>\n",
       "      <td>5.6</td>\n",
       "      <td>Guanyuan</td>\n",
       "    </tr>\n",
       "    <tr>\n",
       "      <th>3</th>\n",
       "      <td>4</td>\n",
       "      <td>2013</td>\n",
       "      <td>3</td>\n",
       "      <td>1</td>\n",
       "      <td>3</td>\n",
       "      <td>3.0</td>\n",
       "      <td>6.0</td>\n",
       "      <td>7.0</td>\n",
       "      <td>24.0</td>\n",
       "      <td>400.0</td>\n",
       "      <td>62.0</td>\n",
       "      <td>-1.4</td>\n",
       "      <td>1024.5</td>\n",
       "      <td>-19.4</td>\n",
       "      <td>0.0</td>\n",
       "      <td>NW</td>\n",
       "      <td>3.1</td>\n",
       "      <td>Guanyuan</td>\n",
       "    </tr>\n",
       "    <tr>\n",
       "      <th>4</th>\n",
       "      <td>5</td>\n",
       "      <td>2013</td>\n",
       "      <td>3</td>\n",
       "      <td>1</td>\n",
       "      <td>4</td>\n",
       "      <td>3.0</td>\n",
       "      <td>6.0</td>\n",
       "      <td>5.0</td>\n",
       "      <td>14.0</td>\n",
       "      <td>400.0</td>\n",
       "      <td>71.0</td>\n",
       "      <td>-2.0</td>\n",
       "      <td>1025.2</td>\n",
       "      <td>-19.5</td>\n",
       "      <td>0.0</td>\n",
       "      <td>N</td>\n",
       "      <td>2.0</td>\n",
       "      <td>Guanyuan</td>\n",
       "    </tr>\n",
       "  </tbody>\n",
       "</table>\n",
       "</div>"
      ],
      "text/plain": [
       "   No  year  month  day  hour  PM2.5  PM10   SO2   NO2     CO    O3  TEMP  \\\n",
       "0   1  2013      3    1     0    4.0   4.0  14.0  20.0  300.0  69.0  -0.7   \n",
       "1   2  2013      3    1     1    4.0   4.0  13.0  17.0  300.0  72.0  -1.1   \n",
       "2   3  2013      3    1     2    3.0   3.0  10.0  19.0  300.0  69.0  -1.1   \n",
       "3   4  2013      3    1     3    3.0   6.0   7.0  24.0  400.0  62.0  -1.4   \n",
       "4   5  2013      3    1     4    3.0   6.0   5.0  14.0  400.0  71.0  -2.0   \n",
       "\n",
       "     PRES  DEWP  RAIN   wd  WSPM   station  \n",
       "0  1023.0 -18.8   0.0  NNW   4.4  Guanyuan  \n",
       "1  1023.2 -18.2   0.0    N   4.7  Guanyuan  \n",
       "2  1023.5 -18.2   0.0  NNW   5.6  Guanyuan  \n",
       "3  1024.5 -19.4   0.0   NW   3.1  Guanyuan  \n",
       "4  1025.2 -19.5   0.0    N   2.0  Guanyuan  "
      ]
     },
     "execution_count": 860,
     "metadata": {},
     "output_type": "execute_result"
    }
   ],
   "source": [
    "data5_df = pd.read_csv(r\"C:\\Users\\Asus\\Desktop\\submission\\data\\PRSA_Data_Guanyuan_20130301-20170228.csv\")\n",
    "data5_df.head()"
   ]
  },
  {
   "cell_type": "code",
   "execution_count": 861,
   "metadata": {},
   "outputs": [
    {
     "data": {
      "text/html": [
       "<div>\n",
       "<style scoped>\n",
       "    .dataframe tbody tr th:only-of-type {\n",
       "        vertical-align: middle;\n",
       "    }\n",
       "\n",
       "    .dataframe tbody tr th {\n",
       "        vertical-align: top;\n",
       "    }\n",
       "\n",
       "    .dataframe thead th {\n",
       "        text-align: right;\n",
       "    }\n",
       "</style>\n",
       "<table border=\"1\" class=\"dataframe\">\n",
       "  <thead>\n",
       "    <tr style=\"text-align: right;\">\n",
       "      <th></th>\n",
       "      <th>No</th>\n",
       "      <th>year</th>\n",
       "      <th>month</th>\n",
       "      <th>day</th>\n",
       "      <th>hour</th>\n",
       "      <th>PM2.5</th>\n",
       "      <th>PM10</th>\n",
       "      <th>SO2</th>\n",
       "      <th>NO2</th>\n",
       "      <th>CO</th>\n",
       "      <th>O3</th>\n",
       "      <th>TEMP</th>\n",
       "      <th>PRES</th>\n",
       "      <th>DEWP</th>\n",
       "      <th>RAIN</th>\n",
       "      <th>wd</th>\n",
       "      <th>WSPM</th>\n",
       "      <th>station</th>\n",
       "    </tr>\n",
       "  </thead>\n",
       "  <tbody>\n",
       "    <tr>\n",
       "      <th>0</th>\n",
       "      <td>1</td>\n",
       "      <td>2013</td>\n",
       "      <td>3</td>\n",
       "      <td>1</td>\n",
       "      <td>0</td>\n",
       "      <td>6.0</td>\n",
       "      <td>18.0</td>\n",
       "      <td>5.0</td>\n",
       "      <td>NaN</td>\n",
       "      <td>800.0</td>\n",
       "      <td>88.0</td>\n",
       "      <td>0.1</td>\n",
       "      <td>1021.1</td>\n",
       "      <td>-18.6</td>\n",
       "      <td>0.0</td>\n",
       "      <td>NW</td>\n",
       "      <td>4.4</td>\n",
       "      <td>Gucheng</td>\n",
       "    </tr>\n",
       "    <tr>\n",
       "      <th>1</th>\n",
       "      <td>2</td>\n",
       "      <td>2013</td>\n",
       "      <td>3</td>\n",
       "      <td>1</td>\n",
       "      <td>1</td>\n",
       "      <td>6.0</td>\n",
       "      <td>15.0</td>\n",
       "      <td>5.0</td>\n",
       "      <td>NaN</td>\n",
       "      <td>800.0</td>\n",
       "      <td>88.0</td>\n",
       "      <td>-0.3</td>\n",
       "      <td>1021.5</td>\n",
       "      <td>-19.0</td>\n",
       "      <td>0.0</td>\n",
       "      <td>NW</td>\n",
       "      <td>4.0</td>\n",
       "      <td>Gucheng</td>\n",
       "    </tr>\n",
       "    <tr>\n",
       "      <th>2</th>\n",
       "      <td>3</td>\n",
       "      <td>2013</td>\n",
       "      <td>3</td>\n",
       "      <td>1</td>\n",
       "      <td>2</td>\n",
       "      <td>5.0</td>\n",
       "      <td>18.0</td>\n",
       "      <td>NaN</td>\n",
       "      <td>NaN</td>\n",
       "      <td>700.0</td>\n",
       "      <td>52.0</td>\n",
       "      <td>-0.7</td>\n",
       "      <td>1021.5</td>\n",
       "      <td>-19.8</td>\n",
       "      <td>0.0</td>\n",
       "      <td>WNW</td>\n",
       "      <td>4.6</td>\n",
       "      <td>Gucheng</td>\n",
       "    </tr>\n",
       "    <tr>\n",
       "      <th>3</th>\n",
       "      <td>4</td>\n",
       "      <td>2013</td>\n",
       "      <td>3</td>\n",
       "      <td>1</td>\n",
       "      <td>3</td>\n",
       "      <td>6.0</td>\n",
       "      <td>20.0</td>\n",
       "      <td>6.0</td>\n",
       "      <td>NaN</td>\n",
       "      <td>NaN</td>\n",
       "      <td>NaN</td>\n",
       "      <td>-1.0</td>\n",
       "      <td>1022.7</td>\n",
       "      <td>-21.2</td>\n",
       "      <td>0.0</td>\n",
       "      <td>W</td>\n",
       "      <td>2.8</td>\n",
       "      <td>Gucheng</td>\n",
       "    </tr>\n",
       "    <tr>\n",
       "      <th>4</th>\n",
       "      <td>5</td>\n",
       "      <td>2013</td>\n",
       "      <td>3</td>\n",
       "      <td>1</td>\n",
       "      <td>4</td>\n",
       "      <td>5.0</td>\n",
       "      <td>17.0</td>\n",
       "      <td>5.0</td>\n",
       "      <td>NaN</td>\n",
       "      <td>600.0</td>\n",
       "      <td>73.0</td>\n",
       "      <td>-1.3</td>\n",
       "      <td>1023.0</td>\n",
       "      <td>-21.4</td>\n",
       "      <td>0.0</td>\n",
       "      <td>WNW</td>\n",
       "      <td>3.6</td>\n",
       "      <td>Gucheng</td>\n",
       "    </tr>\n",
       "  </tbody>\n",
       "</table>\n",
       "</div>"
      ],
      "text/plain": [
       "   No  year  month  day  hour  PM2.5  PM10  SO2  NO2     CO    O3  TEMP  \\\n",
       "0   1  2013      3    1     0    6.0  18.0  5.0  NaN  800.0  88.0   0.1   \n",
       "1   2  2013      3    1     1    6.0  15.0  5.0  NaN  800.0  88.0  -0.3   \n",
       "2   3  2013      3    1     2    5.0  18.0  NaN  NaN  700.0  52.0  -0.7   \n",
       "3   4  2013      3    1     3    6.0  20.0  6.0  NaN    NaN   NaN  -1.0   \n",
       "4   5  2013      3    1     4    5.0  17.0  5.0  NaN  600.0  73.0  -1.3   \n",
       "\n",
       "     PRES  DEWP  RAIN   wd  WSPM  station  \n",
       "0  1021.1 -18.6   0.0   NW   4.4  Gucheng  \n",
       "1  1021.5 -19.0   0.0   NW   4.0  Gucheng  \n",
       "2  1021.5 -19.8   0.0  WNW   4.6  Gucheng  \n",
       "3  1022.7 -21.2   0.0    W   2.8  Gucheng  \n",
       "4  1023.0 -21.4   0.0  WNW   3.6  Gucheng  "
      ]
     },
     "execution_count": 861,
     "metadata": {},
     "output_type": "execute_result"
    }
   ],
   "source": [
    "data6_df = pd.read_csv(r\"C:\\Users\\Asus\\Desktop\\submission\\data\\PRSA_Data_Gucheng_20130301-20170228.csv\")\n",
    "data6_df.head()"
   ]
  },
  {
   "cell_type": "code",
   "execution_count": 862,
   "metadata": {},
   "outputs": [
    {
     "data": {
      "text/html": [
       "<div>\n",
       "<style scoped>\n",
       "    .dataframe tbody tr th:only-of-type {\n",
       "        vertical-align: middle;\n",
       "    }\n",
       "\n",
       "    .dataframe tbody tr th {\n",
       "        vertical-align: top;\n",
       "    }\n",
       "\n",
       "    .dataframe thead th {\n",
       "        text-align: right;\n",
       "    }\n",
       "</style>\n",
       "<table border=\"1\" class=\"dataframe\">\n",
       "  <thead>\n",
       "    <tr style=\"text-align: right;\">\n",
       "      <th></th>\n",
       "      <th>No</th>\n",
       "      <th>year</th>\n",
       "      <th>month</th>\n",
       "      <th>day</th>\n",
       "      <th>hour</th>\n",
       "      <th>PM2.5</th>\n",
       "      <th>PM10</th>\n",
       "      <th>SO2</th>\n",
       "      <th>NO2</th>\n",
       "      <th>CO</th>\n",
       "      <th>O3</th>\n",
       "      <th>TEMP</th>\n",
       "      <th>PRES</th>\n",
       "      <th>DEWP</th>\n",
       "      <th>RAIN</th>\n",
       "      <th>wd</th>\n",
       "      <th>WSPM</th>\n",
       "      <th>station</th>\n",
       "    </tr>\n",
       "  </thead>\n",
       "  <tbody>\n",
       "    <tr>\n",
       "      <th>0</th>\n",
       "      <td>1</td>\n",
       "      <td>2013</td>\n",
       "      <td>3</td>\n",
       "      <td>1</td>\n",
       "      <td>0</td>\n",
       "      <td>7.0</td>\n",
       "      <td>7.0</td>\n",
       "      <td>3.0</td>\n",
       "      <td>2.0</td>\n",
       "      <td>100.0</td>\n",
       "      <td>91.0</td>\n",
       "      <td>-2.3</td>\n",
       "      <td>1020.3</td>\n",
       "      <td>-20.7</td>\n",
       "      <td>0.0</td>\n",
       "      <td>WNW</td>\n",
       "      <td>3.1</td>\n",
       "      <td>Huairou</td>\n",
       "    </tr>\n",
       "    <tr>\n",
       "      <th>1</th>\n",
       "      <td>2</td>\n",
       "      <td>2013</td>\n",
       "      <td>3</td>\n",
       "      <td>1</td>\n",
       "      <td>1</td>\n",
       "      <td>4.0</td>\n",
       "      <td>4.0</td>\n",
       "      <td>3.0</td>\n",
       "      <td>NaN</td>\n",
       "      <td>100.0</td>\n",
       "      <td>92.0</td>\n",
       "      <td>-2.7</td>\n",
       "      <td>1020.8</td>\n",
       "      <td>-20.5</td>\n",
       "      <td>0.0</td>\n",
       "      <td>NNW</td>\n",
       "      <td>1.5</td>\n",
       "      <td>Huairou</td>\n",
       "    </tr>\n",
       "    <tr>\n",
       "      <th>2</th>\n",
       "      <td>3</td>\n",
       "      <td>2013</td>\n",
       "      <td>3</td>\n",
       "      <td>1</td>\n",
       "      <td>2</td>\n",
       "      <td>4.0</td>\n",
       "      <td>4.0</td>\n",
       "      <td>NaN</td>\n",
       "      <td>NaN</td>\n",
       "      <td>100.0</td>\n",
       "      <td>91.0</td>\n",
       "      <td>-3.2</td>\n",
       "      <td>1020.6</td>\n",
       "      <td>-21.4</td>\n",
       "      <td>0.0</td>\n",
       "      <td>NW</td>\n",
       "      <td>1.8</td>\n",
       "      <td>Huairou</td>\n",
       "    </tr>\n",
       "    <tr>\n",
       "      <th>3</th>\n",
       "      <td>4</td>\n",
       "      <td>2013</td>\n",
       "      <td>3</td>\n",
       "      <td>1</td>\n",
       "      <td>3</td>\n",
       "      <td>3.0</td>\n",
       "      <td>3.0</td>\n",
       "      <td>3.0</td>\n",
       "      <td>2.0</td>\n",
       "      <td>NaN</td>\n",
       "      <td>NaN</td>\n",
       "      <td>-3.3</td>\n",
       "      <td>1021.3</td>\n",
       "      <td>-23.7</td>\n",
       "      <td>0.0</td>\n",
       "      <td>NNW</td>\n",
       "      <td>2.4</td>\n",
       "      <td>Huairou</td>\n",
       "    </tr>\n",
       "    <tr>\n",
       "      <th>4</th>\n",
       "      <td>5</td>\n",
       "      <td>2013</td>\n",
       "      <td>3</td>\n",
       "      <td>1</td>\n",
       "      <td>4</td>\n",
       "      <td>3.0</td>\n",
       "      <td>3.0</td>\n",
       "      <td>7.0</td>\n",
       "      <td>NaN</td>\n",
       "      <td>300.0</td>\n",
       "      <td>86.0</td>\n",
       "      <td>-4.1</td>\n",
       "      <td>1022.1</td>\n",
       "      <td>-22.7</td>\n",
       "      <td>0.0</td>\n",
       "      <td>NNW</td>\n",
       "      <td>2.2</td>\n",
       "      <td>Huairou</td>\n",
       "    </tr>\n",
       "  </tbody>\n",
       "</table>\n",
       "</div>"
      ],
      "text/plain": [
       "   No  year  month  day  hour  PM2.5  PM10  SO2  NO2     CO    O3  TEMP  \\\n",
       "0   1  2013      3    1     0    7.0   7.0  3.0  2.0  100.0  91.0  -2.3   \n",
       "1   2  2013      3    1     1    4.0   4.0  3.0  NaN  100.0  92.0  -2.7   \n",
       "2   3  2013      3    1     2    4.0   4.0  NaN  NaN  100.0  91.0  -3.2   \n",
       "3   4  2013      3    1     3    3.0   3.0  3.0  2.0    NaN   NaN  -3.3   \n",
       "4   5  2013      3    1     4    3.0   3.0  7.0  NaN  300.0  86.0  -4.1   \n",
       "\n",
       "     PRES  DEWP  RAIN   wd  WSPM  station  \n",
       "0  1020.3 -20.7   0.0  WNW   3.1  Huairou  \n",
       "1  1020.8 -20.5   0.0  NNW   1.5  Huairou  \n",
       "2  1020.6 -21.4   0.0   NW   1.8  Huairou  \n",
       "3  1021.3 -23.7   0.0  NNW   2.4  Huairou  \n",
       "4  1022.1 -22.7   0.0  NNW   2.2  Huairou  "
      ]
     },
     "execution_count": 862,
     "metadata": {},
     "output_type": "execute_result"
    }
   ],
   "source": [
    "data7_df = pd.read_csv(r\"C:\\Users\\Asus\\Desktop\\submission\\data\\PRSA_Data_Huairou_20130301-20170228.csv\")\n",
    "data7_df.head()"
   ]
  },
  {
   "cell_type": "code",
   "execution_count": 863,
   "metadata": {},
   "outputs": [
    {
     "data": {
      "text/html": [
       "<div>\n",
       "<style scoped>\n",
       "    .dataframe tbody tr th:only-of-type {\n",
       "        vertical-align: middle;\n",
       "    }\n",
       "\n",
       "    .dataframe tbody tr th {\n",
       "        vertical-align: top;\n",
       "    }\n",
       "\n",
       "    .dataframe thead th {\n",
       "        text-align: right;\n",
       "    }\n",
       "</style>\n",
       "<table border=\"1\" class=\"dataframe\">\n",
       "  <thead>\n",
       "    <tr style=\"text-align: right;\">\n",
       "      <th></th>\n",
       "      <th>No</th>\n",
       "      <th>year</th>\n",
       "      <th>month</th>\n",
       "      <th>day</th>\n",
       "      <th>hour</th>\n",
       "      <th>PM2.5</th>\n",
       "      <th>PM10</th>\n",
       "      <th>SO2</th>\n",
       "      <th>NO2</th>\n",
       "      <th>CO</th>\n",
       "      <th>O3</th>\n",
       "      <th>TEMP</th>\n",
       "      <th>PRES</th>\n",
       "      <th>DEWP</th>\n",
       "      <th>RAIN</th>\n",
       "      <th>wd</th>\n",
       "      <th>WSPM</th>\n",
       "      <th>station</th>\n",
       "    </tr>\n",
       "  </thead>\n",
       "  <tbody>\n",
       "    <tr>\n",
       "      <th>0</th>\n",
       "      <td>1</td>\n",
       "      <td>2013</td>\n",
       "      <td>3</td>\n",
       "      <td>1</td>\n",
       "      <td>0</td>\n",
       "      <td>5.0</td>\n",
       "      <td>14.0</td>\n",
       "      <td>4.0</td>\n",
       "      <td>12.0</td>\n",
       "      <td>200.0</td>\n",
       "      <td>85.0</td>\n",
       "      <td>-0.5</td>\n",
       "      <td>1024.5</td>\n",
       "      <td>-21.4</td>\n",
       "      <td>0.0</td>\n",
       "      <td>NNW</td>\n",
       "      <td>5.7</td>\n",
       "      <td>Nongzhanguan</td>\n",
       "    </tr>\n",
       "    <tr>\n",
       "      <th>1</th>\n",
       "      <td>2</td>\n",
       "      <td>2013</td>\n",
       "      <td>3</td>\n",
       "      <td>1</td>\n",
       "      <td>1</td>\n",
       "      <td>8.0</td>\n",
       "      <td>12.0</td>\n",
       "      <td>6.0</td>\n",
       "      <td>14.0</td>\n",
       "      <td>200.0</td>\n",
       "      <td>84.0</td>\n",
       "      <td>-0.7</td>\n",
       "      <td>1025.1</td>\n",
       "      <td>-22.1</td>\n",
       "      <td>0.0</td>\n",
       "      <td>NW</td>\n",
       "      <td>3.9</td>\n",
       "      <td>Nongzhanguan</td>\n",
       "    </tr>\n",
       "    <tr>\n",
       "      <th>2</th>\n",
       "      <td>3</td>\n",
       "      <td>2013</td>\n",
       "      <td>3</td>\n",
       "      <td>1</td>\n",
       "      <td>2</td>\n",
       "      <td>3.0</td>\n",
       "      <td>6.0</td>\n",
       "      <td>5.0</td>\n",
       "      <td>14.0</td>\n",
       "      <td>200.0</td>\n",
       "      <td>83.0</td>\n",
       "      <td>-1.2</td>\n",
       "      <td>1025.3</td>\n",
       "      <td>-24.6</td>\n",
       "      <td>0.0</td>\n",
       "      <td>NNW</td>\n",
       "      <td>5.3</td>\n",
       "      <td>Nongzhanguan</td>\n",
       "    </tr>\n",
       "    <tr>\n",
       "      <th>3</th>\n",
       "      <td>4</td>\n",
       "      <td>2013</td>\n",
       "      <td>3</td>\n",
       "      <td>1</td>\n",
       "      <td>3</td>\n",
       "      <td>5.0</td>\n",
       "      <td>5.0</td>\n",
       "      <td>5.0</td>\n",
       "      <td>14.0</td>\n",
       "      <td>200.0</td>\n",
       "      <td>84.0</td>\n",
       "      <td>-1.4</td>\n",
       "      <td>1026.2</td>\n",
       "      <td>-25.5</td>\n",
       "      <td>0.0</td>\n",
       "      <td>N</td>\n",
       "      <td>4.9</td>\n",
       "      <td>Nongzhanguan</td>\n",
       "    </tr>\n",
       "    <tr>\n",
       "      <th>4</th>\n",
       "      <td>5</td>\n",
       "      <td>2013</td>\n",
       "      <td>3</td>\n",
       "      <td>1</td>\n",
       "      <td>4</td>\n",
       "      <td>5.0</td>\n",
       "      <td>5.0</td>\n",
       "      <td>6.0</td>\n",
       "      <td>21.0</td>\n",
       "      <td>200.0</td>\n",
       "      <td>77.0</td>\n",
       "      <td>-1.9</td>\n",
       "      <td>1027.1</td>\n",
       "      <td>-24.5</td>\n",
       "      <td>0.0</td>\n",
       "      <td>NNW</td>\n",
       "      <td>3.2</td>\n",
       "      <td>Nongzhanguan</td>\n",
       "    </tr>\n",
       "  </tbody>\n",
       "</table>\n",
       "</div>"
      ],
      "text/plain": [
       "   No  year  month  day  hour  PM2.5  PM10  SO2   NO2     CO    O3  TEMP  \\\n",
       "0   1  2013      3    1     0    5.0  14.0  4.0  12.0  200.0  85.0  -0.5   \n",
       "1   2  2013      3    1     1    8.0  12.0  6.0  14.0  200.0  84.0  -0.7   \n",
       "2   3  2013      3    1     2    3.0   6.0  5.0  14.0  200.0  83.0  -1.2   \n",
       "3   4  2013      3    1     3    5.0   5.0  5.0  14.0  200.0  84.0  -1.4   \n",
       "4   5  2013      3    1     4    5.0   5.0  6.0  21.0  200.0  77.0  -1.9   \n",
       "\n",
       "     PRES  DEWP  RAIN   wd  WSPM       station  \n",
       "0  1024.5 -21.4   0.0  NNW   5.7  Nongzhanguan  \n",
       "1  1025.1 -22.1   0.0   NW   3.9  Nongzhanguan  \n",
       "2  1025.3 -24.6   0.0  NNW   5.3  Nongzhanguan  \n",
       "3  1026.2 -25.5   0.0    N   4.9  Nongzhanguan  \n",
       "4  1027.1 -24.5   0.0  NNW   3.2  Nongzhanguan  "
      ]
     },
     "execution_count": 863,
     "metadata": {},
     "output_type": "execute_result"
    }
   ],
   "source": [
    "data8_df = pd.read_csv(r\"C:\\Users\\Asus\\Desktop\\submission\\data\\PRSA_Data_Nongzhanguan_20130301-20170228.csv\")\n",
    "data8_df.head()"
   ]
  },
  {
   "cell_type": "code",
   "execution_count": 864,
   "metadata": {},
   "outputs": [
    {
     "data": {
      "text/html": [
       "<div>\n",
       "<style scoped>\n",
       "    .dataframe tbody tr th:only-of-type {\n",
       "        vertical-align: middle;\n",
       "    }\n",
       "\n",
       "    .dataframe tbody tr th {\n",
       "        vertical-align: top;\n",
       "    }\n",
       "\n",
       "    .dataframe thead th {\n",
       "        text-align: right;\n",
       "    }\n",
       "</style>\n",
       "<table border=\"1\" class=\"dataframe\">\n",
       "  <thead>\n",
       "    <tr style=\"text-align: right;\">\n",
       "      <th></th>\n",
       "      <th>No</th>\n",
       "      <th>year</th>\n",
       "      <th>month</th>\n",
       "      <th>day</th>\n",
       "      <th>hour</th>\n",
       "      <th>PM2.5</th>\n",
       "      <th>PM10</th>\n",
       "      <th>SO2</th>\n",
       "      <th>NO2</th>\n",
       "      <th>CO</th>\n",
       "      <th>O3</th>\n",
       "      <th>TEMP</th>\n",
       "      <th>PRES</th>\n",
       "      <th>DEWP</th>\n",
       "      <th>RAIN</th>\n",
       "      <th>wd</th>\n",
       "      <th>WSPM</th>\n",
       "      <th>station</th>\n",
       "    </tr>\n",
       "  </thead>\n",
       "  <tbody>\n",
       "    <tr>\n",
       "      <th>0</th>\n",
       "      <td>1</td>\n",
       "      <td>2013</td>\n",
       "      <td>3</td>\n",
       "      <td>1</td>\n",
       "      <td>0</td>\n",
       "      <td>3.0</td>\n",
       "      <td>6.0</td>\n",
       "      <td>3.0</td>\n",
       "      <td>8.0</td>\n",
       "      <td>300.0</td>\n",
       "      <td>44.0</td>\n",
       "      <td>-0.9</td>\n",
       "      <td>1025.8</td>\n",
       "      <td>-20.5</td>\n",
       "      <td>0.0</td>\n",
       "      <td>NW</td>\n",
       "      <td>9.3</td>\n",
       "      <td>Shunyi</td>\n",
       "    </tr>\n",
       "    <tr>\n",
       "      <th>1</th>\n",
       "      <td>2</td>\n",
       "      <td>2013</td>\n",
       "      <td>3</td>\n",
       "      <td>1</td>\n",
       "      <td>1</td>\n",
       "      <td>12.0</td>\n",
       "      <td>12.0</td>\n",
       "      <td>3.0</td>\n",
       "      <td>7.0</td>\n",
       "      <td>300.0</td>\n",
       "      <td>47.0</td>\n",
       "      <td>-1.1</td>\n",
       "      <td>1026.1</td>\n",
       "      <td>-21.3</td>\n",
       "      <td>0.0</td>\n",
       "      <td>NW</td>\n",
       "      <td>9.4</td>\n",
       "      <td>Shunyi</td>\n",
       "    </tr>\n",
       "    <tr>\n",
       "      <th>2</th>\n",
       "      <td>3</td>\n",
       "      <td>2013</td>\n",
       "      <td>3</td>\n",
       "      <td>1</td>\n",
       "      <td>2</td>\n",
       "      <td>14.0</td>\n",
       "      <td>14.0</td>\n",
       "      <td>NaN</td>\n",
       "      <td>7.0</td>\n",
       "      <td>200.0</td>\n",
       "      <td>22.0</td>\n",
       "      <td>-1.7</td>\n",
       "      <td>1026.2</td>\n",
       "      <td>-23.0</td>\n",
       "      <td>0.0</td>\n",
       "      <td>NW</td>\n",
       "      <td>8.6</td>\n",
       "      <td>Shunyi</td>\n",
       "    </tr>\n",
       "    <tr>\n",
       "      <th>3</th>\n",
       "      <td>4</td>\n",
       "      <td>2013</td>\n",
       "      <td>3</td>\n",
       "      <td>1</td>\n",
       "      <td>3</td>\n",
       "      <td>12.0</td>\n",
       "      <td>12.0</td>\n",
       "      <td>3.0</td>\n",
       "      <td>5.0</td>\n",
       "      <td>NaN</td>\n",
       "      <td>NaN</td>\n",
       "      <td>-2.1</td>\n",
       "      <td>1027.3</td>\n",
       "      <td>-23.3</td>\n",
       "      <td>0.0</td>\n",
       "      <td>NW</td>\n",
       "      <td>6.6</td>\n",
       "      <td>Shunyi</td>\n",
       "    </tr>\n",
       "    <tr>\n",
       "      <th>4</th>\n",
       "      <td>5</td>\n",
       "      <td>2013</td>\n",
       "      <td>3</td>\n",
       "      <td>1</td>\n",
       "      <td>4</td>\n",
       "      <td>12.0</td>\n",
       "      <td>12.0</td>\n",
       "      <td>3.0</td>\n",
       "      <td>NaN</td>\n",
       "      <td>200.0</td>\n",
       "      <td>11.0</td>\n",
       "      <td>-2.4</td>\n",
       "      <td>1027.7</td>\n",
       "      <td>-22.9</td>\n",
       "      <td>0.0</td>\n",
       "      <td>NW</td>\n",
       "      <td>4.5</td>\n",
       "      <td>Shunyi</td>\n",
       "    </tr>\n",
       "  </tbody>\n",
       "</table>\n",
       "</div>"
      ],
      "text/plain": [
       "   No  year  month  day  hour  PM2.5  PM10  SO2  NO2     CO    O3  TEMP  \\\n",
       "0   1  2013      3    1     0    3.0   6.0  3.0  8.0  300.0  44.0  -0.9   \n",
       "1   2  2013      3    1     1   12.0  12.0  3.0  7.0  300.0  47.0  -1.1   \n",
       "2   3  2013      3    1     2   14.0  14.0  NaN  7.0  200.0  22.0  -1.7   \n",
       "3   4  2013      3    1     3   12.0  12.0  3.0  5.0    NaN   NaN  -2.1   \n",
       "4   5  2013      3    1     4   12.0  12.0  3.0  NaN  200.0  11.0  -2.4   \n",
       "\n",
       "     PRES  DEWP  RAIN  wd  WSPM station  \n",
       "0  1025.8 -20.5   0.0  NW   9.3  Shunyi  \n",
       "1  1026.1 -21.3   0.0  NW   9.4  Shunyi  \n",
       "2  1026.2 -23.0   0.0  NW   8.6  Shunyi  \n",
       "3  1027.3 -23.3   0.0  NW   6.6  Shunyi  \n",
       "4  1027.7 -22.9   0.0  NW   4.5  Shunyi  "
      ]
     },
     "execution_count": 864,
     "metadata": {},
     "output_type": "execute_result"
    }
   ],
   "source": [
    "data9_df = pd.read_csv(r\"C:\\Users\\Asus\\Desktop\\submission\\data\\PRSA_Data_Shunyi_20130301-20170228.csv\")\n",
    "data9_df.head()"
   ]
  },
  {
   "cell_type": "code",
   "execution_count": 865,
   "metadata": {},
   "outputs": [
    {
     "data": {
      "text/html": [
       "<div>\n",
       "<style scoped>\n",
       "    .dataframe tbody tr th:only-of-type {\n",
       "        vertical-align: middle;\n",
       "    }\n",
       "\n",
       "    .dataframe tbody tr th {\n",
       "        vertical-align: top;\n",
       "    }\n",
       "\n",
       "    .dataframe thead th {\n",
       "        text-align: right;\n",
       "    }\n",
       "</style>\n",
       "<table border=\"1\" class=\"dataframe\">\n",
       "  <thead>\n",
       "    <tr style=\"text-align: right;\">\n",
       "      <th></th>\n",
       "      <th>No</th>\n",
       "      <th>year</th>\n",
       "      <th>month</th>\n",
       "      <th>day</th>\n",
       "      <th>hour</th>\n",
       "      <th>PM2.5</th>\n",
       "      <th>PM10</th>\n",
       "      <th>SO2</th>\n",
       "      <th>NO2</th>\n",
       "      <th>CO</th>\n",
       "      <th>O3</th>\n",
       "      <th>TEMP</th>\n",
       "      <th>PRES</th>\n",
       "      <th>DEWP</th>\n",
       "      <th>RAIN</th>\n",
       "      <th>wd</th>\n",
       "      <th>WSPM</th>\n",
       "      <th>station</th>\n",
       "    </tr>\n",
       "  </thead>\n",
       "  <tbody>\n",
       "    <tr>\n",
       "      <th>0</th>\n",
       "      <td>1</td>\n",
       "      <td>2013</td>\n",
       "      <td>3</td>\n",
       "      <td>1</td>\n",
       "      <td>0</td>\n",
       "      <td>6.0</td>\n",
       "      <td>6.0</td>\n",
       "      <td>4.0</td>\n",
       "      <td>8.0</td>\n",
       "      <td>300.0</td>\n",
       "      <td>81.0</td>\n",
       "      <td>-0.5</td>\n",
       "      <td>1024.5</td>\n",
       "      <td>-21.4</td>\n",
       "      <td>0.0</td>\n",
       "      <td>NNW</td>\n",
       "      <td>5.7</td>\n",
       "      <td>Tiantan</td>\n",
       "    </tr>\n",
       "    <tr>\n",
       "      <th>1</th>\n",
       "      <td>2</td>\n",
       "      <td>2013</td>\n",
       "      <td>3</td>\n",
       "      <td>1</td>\n",
       "      <td>1</td>\n",
       "      <td>6.0</td>\n",
       "      <td>29.0</td>\n",
       "      <td>5.0</td>\n",
       "      <td>9.0</td>\n",
       "      <td>300.0</td>\n",
       "      <td>80.0</td>\n",
       "      <td>-0.7</td>\n",
       "      <td>1025.1</td>\n",
       "      <td>-22.1</td>\n",
       "      <td>0.0</td>\n",
       "      <td>NW</td>\n",
       "      <td>3.9</td>\n",
       "      <td>Tiantan</td>\n",
       "    </tr>\n",
       "    <tr>\n",
       "      <th>2</th>\n",
       "      <td>3</td>\n",
       "      <td>2013</td>\n",
       "      <td>3</td>\n",
       "      <td>1</td>\n",
       "      <td>2</td>\n",
       "      <td>6.0</td>\n",
       "      <td>6.0</td>\n",
       "      <td>4.0</td>\n",
       "      <td>12.0</td>\n",
       "      <td>300.0</td>\n",
       "      <td>75.0</td>\n",
       "      <td>-1.2</td>\n",
       "      <td>1025.3</td>\n",
       "      <td>-24.6</td>\n",
       "      <td>0.0</td>\n",
       "      <td>NNW</td>\n",
       "      <td>5.3</td>\n",
       "      <td>Tiantan</td>\n",
       "    </tr>\n",
       "    <tr>\n",
       "      <th>3</th>\n",
       "      <td>4</td>\n",
       "      <td>2013</td>\n",
       "      <td>3</td>\n",
       "      <td>1</td>\n",
       "      <td>3</td>\n",
       "      <td>6.0</td>\n",
       "      <td>6.0</td>\n",
       "      <td>4.0</td>\n",
       "      <td>12.0</td>\n",
       "      <td>300.0</td>\n",
       "      <td>74.0</td>\n",
       "      <td>-1.4</td>\n",
       "      <td>1026.2</td>\n",
       "      <td>-25.5</td>\n",
       "      <td>0.0</td>\n",
       "      <td>N</td>\n",
       "      <td>4.9</td>\n",
       "      <td>Tiantan</td>\n",
       "    </tr>\n",
       "    <tr>\n",
       "      <th>4</th>\n",
       "      <td>5</td>\n",
       "      <td>2013</td>\n",
       "      <td>3</td>\n",
       "      <td>1</td>\n",
       "      <td>4</td>\n",
       "      <td>5.0</td>\n",
       "      <td>5.0</td>\n",
       "      <td>7.0</td>\n",
       "      <td>15.0</td>\n",
       "      <td>400.0</td>\n",
       "      <td>70.0</td>\n",
       "      <td>-1.9</td>\n",
       "      <td>1027.1</td>\n",
       "      <td>-24.5</td>\n",
       "      <td>0.0</td>\n",
       "      <td>NNW</td>\n",
       "      <td>3.2</td>\n",
       "      <td>Tiantan</td>\n",
       "    </tr>\n",
       "  </tbody>\n",
       "</table>\n",
       "</div>"
      ],
      "text/plain": [
       "   No  year  month  day  hour  PM2.5  PM10  SO2   NO2     CO    O3  TEMP  \\\n",
       "0   1  2013      3    1     0    6.0   6.0  4.0   8.0  300.0  81.0  -0.5   \n",
       "1   2  2013      3    1     1    6.0  29.0  5.0   9.0  300.0  80.0  -0.7   \n",
       "2   3  2013      3    1     2    6.0   6.0  4.0  12.0  300.0  75.0  -1.2   \n",
       "3   4  2013      3    1     3    6.0   6.0  4.0  12.0  300.0  74.0  -1.4   \n",
       "4   5  2013      3    1     4    5.0   5.0  7.0  15.0  400.0  70.0  -1.9   \n",
       "\n",
       "     PRES  DEWP  RAIN   wd  WSPM  station  \n",
       "0  1024.5 -21.4   0.0  NNW   5.7  Tiantan  \n",
       "1  1025.1 -22.1   0.0   NW   3.9  Tiantan  \n",
       "2  1025.3 -24.6   0.0  NNW   5.3  Tiantan  \n",
       "3  1026.2 -25.5   0.0    N   4.9  Tiantan  \n",
       "4  1027.1 -24.5   0.0  NNW   3.2  Tiantan  "
      ]
     },
     "execution_count": 865,
     "metadata": {},
     "output_type": "execute_result"
    }
   ],
   "source": [
    "data10_df = pd.read_csv(r\"C:\\Users\\Asus\\Desktop\\submission\\data\\PRSA_Data_Tiantan_20130301-20170228.csv\")\n",
    "data10_df.head()"
   ]
  },
  {
   "cell_type": "code",
   "execution_count": 866,
   "metadata": {},
   "outputs": [
    {
     "data": {
      "text/html": [
       "<div>\n",
       "<style scoped>\n",
       "    .dataframe tbody tr th:only-of-type {\n",
       "        vertical-align: middle;\n",
       "    }\n",
       "\n",
       "    .dataframe tbody tr th {\n",
       "        vertical-align: top;\n",
       "    }\n",
       "\n",
       "    .dataframe thead th {\n",
       "        text-align: right;\n",
       "    }\n",
       "</style>\n",
       "<table border=\"1\" class=\"dataframe\">\n",
       "  <thead>\n",
       "    <tr style=\"text-align: right;\">\n",
       "      <th></th>\n",
       "      <th>No</th>\n",
       "      <th>year</th>\n",
       "      <th>month</th>\n",
       "      <th>day</th>\n",
       "      <th>hour</th>\n",
       "      <th>PM2.5</th>\n",
       "      <th>PM10</th>\n",
       "      <th>SO2</th>\n",
       "      <th>NO2</th>\n",
       "      <th>CO</th>\n",
       "      <th>O3</th>\n",
       "      <th>TEMP</th>\n",
       "      <th>PRES</th>\n",
       "      <th>DEWP</th>\n",
       "      <th>RAIN</th>\n",
       "      <th>wd</th>\n",
       "      <th>WSPM</th>\n",
       "      <th>station</th>\n",
       "    </tr>\n",
       "  </thead>\n",
       "  <tbody>\n",
       "    <tr>\n",
       "      <th>0</th>\n",
       "      <td>1</td>\n",
       "      <td>2013</td>\n",
       "      <td>3</td>\n",
       "      <td>1</td>\n",
       "      <td>0</td>\n",
       "      <td>8.0</td>\n",
       "      <td>8.0</td>\n",
       "      <td>6.0</td>\n",
       "      <td>28.0</td>\n",
       "      <td>400.0</td>\n",
       "      <td>52.0</td>\n",
       "      <td>-0.7</td>\n",
       "      <td>1023.0</td>\n",
       "      <td>-18.8</td>\n",
       "      <td>0.0</td>\n",
       "      <td>NNW</td>\n",
       "      <td>4.4</td>\n",
       "      <td>Wanliu</td>\n",
       "    </tr>\n",
       "    <tr>\n",
       "      <th>1</th>\n",
       "      <td>2</td>\n",
       "      <td>2013</td>\n",
       "      <td>3</td>\n",
       "      <td>1</td>\n",
       "      <td>1</td>\n",
       "      <td>9.0</td>\n",
       "      <td>9.0</td>\n",
       "      <td>6.0</td>\n",
       "      <td>28.0</td>\n",
       "      <td>400.0</td>\n",
       "      <td>50.0</td>\n",
       "      <td>-1.1</td>\n",
       "      <td>1023.2</td>\n",
       "      <td>-18.2</td>\n",
       "      <td>0.0</td>\n",
       "      <td>N</td>\n",
       "      <td>4.7</td>\n",
       "      <td>Wanliu</td>\n",
       "    </tr>\n",
       "    <tr>\n",
       "      <th>2</th>\n",
       "      <td>3</td>\n",
       "      <td>2013</td>\n",
       "      <td>3</td>\n",
       "      <td>1</td>\n",
       "      <td>2</td>\n",
       "      <td>3.0</td>\n",
       "      <td>6.0</td>\n",
       "      <td>NaN</td>\n",
       "      <td>19.0</td>\n",
       "      <td>400.0</td>\n",
       "      <td>55.0</td>\n",
       "      <td>-1.1</td>\n",
       "      <td>1023.5</td>\n",
       "      <td>-18.2</td>\n",
       "      <td>0.0</td>\n",
       "      <td>NNW</td>\n",
       "      <td>5.6</td>\n",
       "      <td>Wanliu</td>\n",
       "    </tr>\n",
       "    <tr>\n",
       "      <th>3</th>\n",
       "      <td>4</td>\n",
       "      <td>2013</td>\n",
       "      <td>3</td>\n",
       "      <td>1</td>\n",
       "      <td>3</td>\n",
       "      <td>11.0</td>\n",
       "      <td>30.0</td>\n",
       "      <td>8.0</td>\n",
       "      <td>14.0</td>\n",
       "      <td>NaN</td>\n",
       "      <td>NaN</td>\n",
       "      <td>-1.4</td>\n",
       "      <td>1024.5</td>\n",
       "      <td>-19.4</td>\n",
       "      <td>0.0</td>\n",
       "      <td>NW</td>\n",
       "      <td>3.1</td>\n",
       "      <td>Wanliu</td>\n",
       "    </tr>\n",
       "    <tr>\n",
       "      <th>4</th>\n",
       "      <td>5</td>\n",
       "      <td>2013</td>\n",
       "      <td>3</td>\n",
       "      <td>1</td>\n",
       "      <td>4</td>\n",
       "      <td>3.0</td>\n",
       "      <td>13.0</td>\n",
       "      <td>9.0</td>\n",
       "      <td>NaN</td>\n",
       "      <td>300.0</td>\n",
       "      <td>54.0</td>\n",
       "      <td>-2.0</td>\n",
       "      <td>1025.2</td>\n",
       "      <td>-19.5</td>\n",
       "      <td>0.0</td>\n",
       "      <td>N</td>\n",
       "      <td>2.0</td>\n",
       "      <td>Wanliu</td>\n",
       "    </tr>\n",
       "  </tbody>\n",
       "</table>\n",
       "</div>"
      ],
      "text/plain": [
       "   No  year  month  day  hour  PM2.5  PM10  SO2   NO2     CO    O3  TEMP  \\\n",
       "0   1  2013      3    1     0    8.0   8.0  6.0  28.0  400.0  52.0  -0.7   \n",
       "1   2  2013      3    1     1    9.0   9.0  6.0  28.0  400.0  50.0  -1.1   \n",
       "2   3  2013      3    1     2    3.0   6.0  NaN  19.0  400.0  55.0  -1.1   \n",
       "3   4  2013      3    1     3   11.0  30.0  8.0  14.0    NaN   NaN  -1.4   \n",
       "4   5  2013      3    1     4    3.0  13.0  9.0   NaN  300.0  54.0  -2.0   \n",
       "\n",
       "     PRES  DEWP  RAIN   wd  WSPM station  \n",
       "0  1023.0 -18.8   0.0  NNW   4.4  Wanliu  \n",
       "1  1023.2 -18.2   0.0    N   4.7  Wanliu  \n",
       "2  1023.5 -18.2   0.0  NNW   5.6  Wanliu  \n",
       "3  1024.5 -19.4   0.0   NW   3.1  Wanliu  \n",
       "4  1025.2 -19.5   0.0    N   2.0  Wanliu  "
      ]
     },
     "execution_count": 866,
     "metadata": {},
     "output_type": "execute_result"
    }
   ],
   "source": [
    "data11_df = pd.read_csv(r\"C:\\Users\\Asus\\Desktop\\submission\\data\\PRSA_Data_Wanliu_20130301-20170228.csv\")\n",
    "data11_df.head()"
   ]
  },
  {
   "cell_type": "code",
   "execution_count": 867,
   "metadata": {},
   "outputs": [
    {
     "data": {
      "text/html": [
       "<div>\n",
       "<style scoped>\n",
       "    .dataframe tbody tr th:only-of-type {\n",
       "        vertical-align: middle;\n",
       "    }\n",
       "\n",
       "    .dataframe tbody tr th {\n",
       "        vertical-align: top;\n",
       "    }\n",
       "\n",
       "    .dataframe thead th {\n",
       "        text-align: right;\n",
       "    }\n",
       "</style>\n",
       "<table border=\"1\" class=\"dataframe\">\n",
       "  <thead>\n",
       "    <tr style=\"text-align: right;\">\n",
       "      <th></th>\n",
       "      <th>No</th>\n",
       "      <th>year</th>\n",
       "      <th>month</th>\n",
       "      <th>day</th>\n",
       "      <th>hour</th>\n",
       "      <th>PM2.5</th>\n",
       "      <th>PM10</th>\n",
       "      <th>SO2</th>\n",
       "      <th>NO2</th>\n",
       "      <th>CO</th>\n",
       "      <th>O3</th>\n",
       "      <th>TEMP</th>\n",
       "      <th>PRES</th>\n",
       "      <th>DEWP</th>\n",
       "      <th>RAIN</th>\n",
       "      <th>wd</th>\n",
       "      <th>WSPM</th>\n",
       "      <th>station</th>\n",
       "    </tr>\n",
       "  </thead>\n",
       "  <tbody>\n",
       "    <tr>\n",
       "      <th>0</th>\n",
       "      <td>1</td>\n",
       "      <td>2013</td>\n",
       "      <td>3</td>\n",
       "      <td>1</td>\n",
       "      <td>0</td>\n",
       "      <td>9.0</td>\n",
       "      <td>9.0</td>\n",
       "      <td>6.0</td>\n",
       "      <td>17.0</td>\n",
       "      <td>200.0</td>\n",
       "      <td>62.0</td>\n",
       "      <td>0.3</td>\n",
       "      <td>1021.9</td>\n",
       "      <td>-19.0</td>\n",
       "      <td>0.0</td>\n",
       "      <td>WNW</td>\n",
       "      <td>2.0</td>\n",
       "      <td>Wanshouxigong</td>\n",
       "    </tr>\n",
       "    <tr>\n",
       "      <th>1</th>\n",
       "      <td>2</td>\n",
       "      <td>2013</td>\n",
       "      <td>3</td>\n",
       "      <td>1</td>\n",
       "      <td>1</td>\n",
       "      <td>11.0</td>\n",
       "      <td>11.0</td>\n",
       "      <td>7.0</td>\n",
       "      <td>14.0</td>\n",
       "      <td>200.0</td>\n",
       "      <td>66.0</td>\n",
       "      <td>-0.1</td>\n",
       "      <td>1022.4</td>\n",
       "      <td>-19.3</td>\n",
       "      <td>0.0</td>\n",
       "      <td>WNW</td>\n",
       "      <td>4.4</td>\n",
       "      <td>Wanshouxigong</td>\n",
       "    </tr>\n",
       "    <tr>\n",
       "      <th>2</th>\n",
       "      <td>3</td>\n",
       "      <td>2013</td>\n",
       "      <td>3</td>\n",
       "      <td>1</td>\n",
       "      <td>2</td>\n",
       "      <td>8.0</td>\n",
       "      <td>8.0</td>\n",
       "      <td>NaN</td>\n",
       "      <td>16.0</td>\n",
       "      <td>200.0</td>\n",
       "      <td>59.0</td>\n",
       "      <td>-0.6</td>\n",
       "      <td>1022.6</td>\n",
       "      <td>-19.7</td>\n",
       "      <td>0.0</td>\n",
       "      <td>WNW</td>\n",
       "      <td>4.7</td>\n",
       "      <td>Wanshouxigong</td>\n",
       "    </tr>\n",
       "    <tr>\n",
       "      <th>3</th>\n",
       "      <td>4</td>\n",
       "      <td>2013</td>\n",
       "      <td>3</td>\n",
       "      <td>1</td>\n",
       "      <td>3</td>\n",
       "      <td>8.0</td>\n",
       "      <td>8.0</td>\n",
       "      <td>3.0</td>\n",
       "      <td>16.0</td>\n",
       "      <td>NaN</td>\n",
       "      <td>NaN</td>\n",
       "      <td>-0.7</td>\n",
       "      <td>1023.5</td>\n",
       "      <td>-20.9</td>\n",
       "      <td>0.0</td>\n",
       "      <td>NW</td>\n",
       "      <td>2.6</td>\n",
       "      <td>Wanshouxigong</td>\n",
       "    </tr>\n",
       "    <tr>\n",
       "      <th>4</th>\n",
       "      <td>5</td>\n",
       "      <td>2013</td>\n",
       "      <td>3</td>\n",
       "      <td>1</td>\n",
       "      <td>4</td>\n",
       "      <td>8.0</td>\n",
       "      <td>8.0</td>\n",
       "      <td>3.0</td>\n",
       "      <td>NaN</td>\n",
       "      <td>300.0</td>\n",
       "      <td>36.0</td>\n",
       "      <td>-0.9</td>\n",
       "      <td>1024.1</td>\n",
       "      <td>-21.7</td>\n",
       "      <td>0.0</td>\n",
       "      <td>WNW</td>\n",
       "      <td>2.5</td>\n",
       "      <td>Wanshouxigong</td>\n",
       "    </tr>\n",
       "  </tbody>\n",
       "</table>\n",
       "</div>"
      ],
      "text/plain": [
       "   No  year  month  day  hour  PM2.5  PM10  SO2   NO2     CO    O3  TEMP  \\\n",
       "0   1  2013      3    1     0    9.0   9.0  6.0  17.0  200.0  62.0   0.3   \n",
       "1   2  2013      3    1     1   11.0  11.0  7.0  14.0  200.0  66.0  -0.1   \n",
       "2   3  2013      3    1     2    8.0   8.0  NaN  16.0  200.0  59.0  -0.6   \n",
       "3   4  2013      3    1     3    8.0   8.0  3.0  16.0    NaN   NaN  -0.7   \n",
       "4   5  2013      3    1     4    8.0   8.0  3.0   NaN  300.0  36.0  -0.9   \n",
       "\n",
       "     PRES  DEWP  RAIN   wd  WSPM        station  \n",
       "0  1021.9 -19.0   0.0  WNW   2.0  Wanshouxigong  \n",
       "1  1022.4 -19.3   0.0  WNW   4.4  Wanshouxigong  \n",
       "2  1022.6 -19.7   0.0  WNW   4.7  Wanshouxigong  \n",
       "3  1023.5 -20.9   0.0   NW   2.6  Wanshouxigong  \n",
       "4  1024.1 -21.7   0.0  WNW   2.5  Wanshouxigong  "
      ]
     },
     "execution_count": 867,
     "metadata": {},
     "output_type": "execute_result"
    }
   ],
   "source": [
    "data12_df = pd.read_csv(r\"C:\\Users\\Asus\\Desktop\\submission\\data\\PRSA_Data_Wanshouxigong_20130301-20170228.csv\")\n",
    "data12_df.head()"
   ]
  },
  {
   "cell_type": "code",
   "execution_count": 868,
   "metadata": {},
   "outputs": [],
   "source": [
    "datasets = {\n",
    "    \"data1\": data1_df, \"data2\": data2_df, \"data3\": data3_df, \"data4\": data4_df,\n",
    "    \"data5\": data5_df, \"data6\": data6_df, \"data7\": data7_df, \"data8\": data8_df,\n",
    "    \"data9\": data9_df, \"data10\": data10_df, \"data11\": data11_df, \"data12\": data12_df\n",
    "}"
   ]
  },
  {
   "cell_type": "markdown",
   "metadata": {
    "id": "MMi6xGaDkbCi"
   },
   "source": [
    "**Insight:**\n",
    "- Mengambil data pada direktori data\n",
    "- Menampilkan isi data"
   ]
  },
  {
   "cell_type": "markdown",
   "metadata": {
    "id": "FHSiqaZp8DC1"
   },
   "source": [
    "### Assessing Data"
   ]
  },
  {
   "cell_type": "markdown",
   "metadata": {},
   "source": [
    "#### Menilai tabel `data1_df`"
   ]
  },
  {
   "cell_type": "code",
   "execution_count": 869,
   "metadata": {
    "id": "ax-3tEjc9Cj1"
   },
   "outputs": [
    {
     "name": "stdout",
     "output_type": "stream",
     "text": [
      "<class 'pandas.core.frame.DataFrame'>\n",
      "RangeIndex: 35064 entries, 0 to 35063\n",
      "Data columns (total 18 columns):\n",
      " #   Column   Non-Null Count  Dtype  \n",
      "---  ------   --------------  -----  \n",
      " 0   No       35064 non-null  int64  \n",
      " 1   year     35064 non-null  int64  \n",
      " 2   month    35064 non-null  int64  \n",
      " 3   day      35064 non-null  int64  \n",
      " 4   hour     35064 non-null  int64  \n",
      " 5   PM2.5    34139 non-null  float64\n",
      " 6   PM10     34346 non-null  float64\n",
      " 7   SO2      34129 non-null  float64\n",
      " 8   NO2      34041 non-null  float64\n",
      " 9   CO       33288 non-null  float64\n",
      " 10  O3       33345 non-null  float64\n",
      " 11  TEMP     35044 non-null  float64\n",
      " 12  PRES     35044 non-null  float64\n",
      " 13  DEWP     35044 non-null  float64\n",
      " 14  RAIN     35044 non-null  float64\n",
      " 15  wd       34983 non-null  object \n",
      " 16  WSPM     35050 non-null  float64\n",
      " 17  station  35064 non-null  object \n",
      "dtypes: float64(11), int64(5), object(2)\n",
      "memory usage: 4.8+ MB\n"
     ]
    }
   ],
   "source": [
    "data1_df.info()"
   ]
  },
  {
   "cell_type": "code",
   "execution_count": 870,
   "metadata": {},
   "outputs": [
    {
     "data": {
      "text/plain": [
       "No            0\n",
       "year          0\n",
       "month         0\n",
       "day           0\n",
       "hour          0\n",
       "PM2.5       925\n",
       "PM10        718\n",
       "SO2         935\n",
       "NO2        1023\n",
       "CO         1776\n",
       "O3         1719\n",
       "TEMP         20\n",
       "PRES         20\n",
       "DEWP         20\n",
       "RAIN         20\n",
       "wd           81\n",
       "WSPM         14\n",
       "station       0\n",
       "dtype: int64"
      ]
     },
     "execution_count": 870,
     "metadata": {},
     "output_type": "execute_result"
    }
   ],
   "source": [
    "data1_df.isna().sum()"
   ]
  },
  {
   "cell_type": "code",
   "execution_count": 871,
   "metadata": {},
   "outputs": [
    {
     "name": "stdout",
     "output_type": "stream",
     "text": [
      "Jumlah Duplikasi:  0\n"
     ]
    }
   ],
   "source": [
    "print(\"Jumlah Duplikasi: \", data1_df.duplicated().sum())"
   ]
  },
  {
   "cell_type": "markdown",
   "metadata": {},
   "source": [
    "#### Menilai tabel `data2_df`"
   ]
  },
  {
   "cell_type": "code",
   "execution_count": 872,
   "metadata": {},
   "outputs": [
    {
     "name": "stdout",
     "output_type": "stream",
     "text": [
      "<class 'pandas.core.frame.DataFrame'>\n",
      "RangeIndex: 35064 entries, 0 to 35063\n",
      "Data columns (total 18 columns):\n",
      " #   Column   Non-Null Count  Dtype  \n",
      "---  ------   --------------  -----  \n",
      " 0   No       35064 non-null  int64  \n",
      " 1   year     35064 non-null  int64  \n",
      " 2   month    35064 non-null  int64  \n",
      " 3   day      35064 non-null  int64  \n",
      " 4   hour     35064 non-null  int64  \n",
      " 5   PM2.5    34290 non-null  float64\n",
      " 6   PM10     34482 non-null  float64\n",
      " 7   SO2      34436 non-null  float64\n",
      " 8   NO2      34397 non-null  float64\n",
      " 9   CO       33543 non-null  float64\n",
      " 10  O3       34460 non-null  float64\n",
      " 11  TEMP     35011 non-null  float64\n",
      " 12  PRES     35014 non-null  float64\n",
      " 13  DEWP     35011 non-null  float64\n",
      " 14  RAIN     35013 non-null  float64\n",
      " 15  wd       34924 non-null  object \n",
      " 16  WSPM     35021 non-null  float64\n",
      " 17  station  35064 non-null  object \n",
      "dtypes: float64(11), int64(5), object(2)\n",
      "memory usage: 4.8+ MB\n"
     ]
    }
   ],
   "source": [
    "data2_df.info()"
   ]
  },
  {
   "cell_type": "code",
   "execution_count": 873,
   "metadata": {},
   "outputs": [
    {
     "data": {
      "text/plain": [
       "No            0\n",
       "year          0\n",
       "month         0\n",
       "day           0\n",
       "hour          0\n",
       "PM2.5       774\n",
       "PM10        582\n",
       "SO2         628\n",
       "NO2         667\n",
       "CO         1521\n",
       "O3          604\n",
       "TEMP         53\n",
       "PRES         50\n",
       "DEWP         53\n",
       "RAIN         51\n",
       "wd          140\n",
       "WSPM         43\n",
       "station       0\n",
       "dtype: int64"
      ]
     },
     "execution_count": 873,
     "metadata": {},
     "output_type": "execute_result"
    }
   ],
   "source": [
    "data2_df.isna().sum()"
   ]
  },
  {
   "cell_type": "code",
   "execution_count": 874,
   "metadata": {},
   "outputs": [
    {
     "name": "stdout",
     "output_type": "stream",
     "text": [
      "Jumlah Duplikasi:  0\n"
     ]
    }
   ],
   "source": [
    "print(\"Jumlah Duplikasi: \", data2_df.duplicated().sum())"
   ]
  },
  {
   "cell_type": "markdown",
   "metadata": {},
   "source": [
    "#### Menilai tabel `data3_df`"
   ]
  },
  {
   "cell_type": "code",
   "execution_count": 875,
   "metadata": {},
   "outputs": [
    {
     "name": "stdout",
     "output_type": "stream",
     "text": [
      "<class 'pandas.core.frame.DataFrame'>\n",
      "RangeIndex: 35064 entries, 0 to 35063\n",
      "Data columns (total 18 columns):\n",
      " #   Column   Non-Null Count  Dtype  \n",
      "---  ------   --------------  -----  \n",
      " 0   No       35064 non-null  int64  \n",
      " 1   year     35064 non-null  int64  \n",
      " 2   month    35064 non-null  int64  \n",
      " 3   day      35064 non-null  int64  \n",
      " 4   hour     35064 non-null  int64  \n",
      " 5   PM2.5    34285 non-null  float64\n",
      " 6   PM10     34408 non-null  float64\n",
      " 7   SO2      34334 non-null  float64\n",
      " 8   NO2      33830 non-null  float64\n",
      " 9   CO       33052 non-null  float64\n",
      " 10  O3       33850 non-null  float64\n",
      " 11  TEMP     35011 non-null  float64\n",
      " 12  PRES     35014 non-null  float64\n",
      " 13  DEWP     35011 non-null  float64\n",
      " 14  RAIN     35013 non-null  float64\n",
      " 15  wd       34924 non-null  object \n",
      " 16  WSPM     35021 non-null  float64\n",
      " 17  station  35064 non-null  object \n",
      "dtypes: float64(11), int64(5), object(2)\n",
      "memory usage: 4.8+ MB\n"
     ]
    }
   ],
   "source": [
    "data3_df.info()"
   ]
  },
  {
   "cell_type": "code",
   "execution_count": 876,
   "metadata": {},
   "outputs": [
    {
     "data": {
      "text/plain": [
       "No            0\n",
       "year          0\n",
       "month         0\n",
       "day           0\n",
       "hour          0\n",
       "PM2.5       779\n",
       "PM10        656\n",
       "SO2         730\n",
       "NO2        1234\n",
       "CO         2012\n",
       "O3         1214\n",
       "TEMP         53\n",
       "PRES         50\n",
       "DEWP         53\n",
       "RAIN         51\n",
       "wd          140\n",
       "WSPM         43\n",
       "station       0\n",
       "dtype: int64"
      ]
     },
     "execution_count": 876,
     "metadata": {},
     "output_type": "execute_result"
    }
   ],
   "source": [
    "data3_df.isna().sum()"
   ]
  },
  {
   "cell_type": "code",
   "execution_count": 877,
   "metadata": {},
   "outputs": [
    {
     "name": "stdout",
     "output_type": "stream",
     "text": [
      "Jumlah Duplikasi:  0\n"
     ]
    }
   ],
   "source": [
    "print(\"Jumlah Duplikasi: \", data3_df.duplicated().sum())"
   ]
  },
  {
   "cell_type": "markdown",
   "metadata": {},
   "source": [
    "#### Menilai tabel `data4_df`"
   ]
  },
  {
   "cell_type": "code",
   "execution_count": 878,
   "metadata": {},
   "outputs": [
    {
     "name": "stdout",
     "output_type": "stream",
     "text": [
      "<class 'pandas.core.frame.DataFrame'>\n",
      "RangeIndex: 35064 entries, 0 to 35063\n",
      "Data columns (total 18 columns):\n",
      " #   Column   Non-Null Count  Dtype  \n",
      "---  ------   --------------  -----  \n",
      " 0   No       35064 non-null  int64  \n",
      " 1   year     35064 non-null  int64  \n",
      " 2   month    35064 non-null  int64  \n",
      " 3   day      35064 non-null  int64  \n",
      " 4   hour     35064 non-null  int64  \n",
      " 5   PM2.5    34314 non-null  float64\n",
      " 6   PM10     34511 non-null  float64\n",
      " 7   SO2      34401 non-null  float64\n",
      " 8   NO2      33463 non-null  float64\n",
      " 9   CO       31867 non-null  float64\n",
      " 10  O3       34400 non-null  float64\n",
      " 11  TEMP     35044 non-null  float64\n",
      " 12  PRES     35044 non-null  float64\n",
      " 13  DEWP     35044 non-null  float64\n",
      " 14  RAIN     35044 non-null  float64\n",
      " 15  wd       34986 non-null  object \n",
      " 16  WSPM     35050 non-null  float64\n",
      " 17  station  35064 non-null  object \n",
      "dtypes: float64(11), int64(5), object(2)\n",
      "memory usage: 4.8+ MB\n"
     ]
    }
   ],
   "source": [
    "data4_df.info()"
   ]
  },
  {
   "cell_type": "code",
   "execution_count": 879,
   "metadata": {},
   "outputs": [
    {
     "data": {
      "text/plain": [
       "No            0\n",
       "year          0\n",
       "month         0\n",
       "day           0\n",
       "hour          0\n",
       "PM2.5       750\n",
       "PM10        553\n",
       "SO2         663\n",
       "NO2        1601\n",
       "CO         3197\n",
       "O3          664\n",
       "TEMP         20\n",
       "PRES         20\n",
       "DEWP         20\n",
       "RAIN         20\n",
       "wd           78\n",
       "WSPM         14\n",
       "station       0\n",
       "dtype: int64"
      ]
     },
     "execution_count": 879,
     "metadata": {},
     "output_type": "execute_result"
    }
   ],
   "source": [
    "data4_df.isna().sum()"
   ]
  },
  {
   "cell_type": "code",
   "execution_count": 880,
   "metadata": {},
   "outputs": [
    {
     "name": "stdout",
     "output_type": "stream",
     "text": [
      "Jumlah Duplikasi:  0\n"
     ]
    }
   ],
   "source": [
    "print(\"Jumlah Duplikasi: \", data4_df.duplicated().sum())"
   ]
  },
  {
   "cell_type": "markdown",
   "metadata": {},
   "source": [
    "#### Menilai tabel `data5_df`"
   ]
  },
  {
   "cell_type": "code",
   "execution_count": 881,
   "metadata": {},
   "outputs": [
    {
     "name": "stdout",
     "output_type": "stream",
     "text": [
      "<class 'pandas.core.frame.DataFrame'>\n",
      "RangeIndex: 35064 entries, 0 to 35063\n",
      "Data columns (total 18 columns):\n",
      " #   Column   Non-Null Count  Dtype  \n",
      "---  ------   --------------  -----  \n",
      " 0   No       35064 non-null  int64  \n",
      " 1   year     35064 non-null  int64  \n",
      " 2   month    35064 non-null  int64  \n",
      " 3   day      35064 non-null  int64  \n",
      " 4   hour     35064 non-null  int64  \n",
      " 5   PM2.5    34448 non-null  float64\n",
      " 6   PM10     34635 non-null  float64\n",
      " 7   SO2      34590 non-null  float64\n",
      " 8   NO2      34405 non-null  float64\n",
      " 9   CO       33311 non-null  float64\n",
      " 10  O3       33891 non-null  float64\n",
      " 11  TEMP     35044 non-null  float64\n",
      " 12  PRES     35044 non-null  float64\n",
      " 13  DEWP     35044 non-null  float64\n",
      " 14  RAIN     35044 non-null  float64\n",
      " 15  wd       34983 non-null  object \n",
      " 16  WSPM     35050 non-null  float64\n",
      " 17  station  35064 non-null  object \n",
      "dtypes: float64(11), int64(5), object(2)\n",
      "memory usage: 4.8+ MB\n"
     ]
    }
   ],
   "source": [
    "data5_df.info()"
   ]
  },
  {
   "cell_type": "code",
   "execution_count": 882,
   "metadata": {},
   "outputs": [
    {
     "data": {
      "text/plain": [
       "No            0\n",
       "year          0\n",
       "month         0\n",
       "day           0\n",
       "hour          0\n",
       "PM2.5       616\n",
       "PM10        429\n",
       "SO2         474\n",
       "NO2         659\n",
       "CO         1753\n",
       "O3         1173\n",
       "TEMP         20\n",
       "PRES         20\n",
       "DEWP         20\n",
       "RAIN         20\n",
       "wd           81\n",
       "WSPM         14\n",
       "station       0\n",
       "dtype: int64"
      ]
     },
     "execution_count": 882,
     "metadata": {},
     "output_type": "execute_result"
    }
   ],
   "source": [
    "data5_df.isna().sum()"
   ]
  },
  {
   "cell_type": "code",
   "execution_count": 883,
   "metadata": {},
   "outputs": [
    {
     "name": "stdout",
     "output_type": "stream",
     "text": [
      "Jumlah Duplikasi:  0\n"
     ]
    }
   ],
   "source": [
    "print(\"Jumlah Duplikasi: \", data5_df.duplicated().sum())"
   ]
  },
  {
   "cell_type": "markdown",
   "metadata": {},
   "source": [
    "#### Menilai tabel `data6_df`"
   ]
  },
  {
   "cell_type": "code",
   "execution_count": 884,
   "metadata": {},
   "outputs": [
    {
     "name": "stdout",
     "output_type": "stream",
     "text": [
      "<class 'pandas.core.frame.DataFrame'>\n",
      "RangeIndex: 35064 entries, 0 to 35063\n",
      "Data columns (total 18 columns):\n",
      " #   Column   Non-Null Count  Dtype  \n",
      "---  ------   --------------  -----  \n",
      " 0   No       35064 non-null  int64  \n",
      " 1   year     35064 non-null  int64  \n",
      " 2   month    35064 non-null  int64  \n",
      " 3   day      35064 non-null  int64  \n",
      " 4   hour     35064 non-null  int64  \n",
      " 5   PM2.5    34418 non-null  float64\n",
      " 6   PM10     34683 non-null  float64\n",
      " 7   SO2      34557 non-null  float64\n",
      " 8   NO2      34396 non-null  float64\n",
      " 9   CO       33663 non-null  float64\n",
      " 10  O3       34335 non-null  float64\n",
      " 11  TEMP     35013 non-null  float64\n",
      " 12  PRES     35014 non-null  float64\n",
      " 13  DEWP     35013 non-null  float64\n",
      " 14  RAIN     35021 non-null  float64\n",
      " 15  wd       34905 non-null  object \n",
      " 16  WSPM     35022 non-null  float64\n",
      " 17  station  35064 non-null  object \n",
      "dtypes: float64(11), int64(5), object(2)\n",
      "memory usage: 4.8+ MB\n"
     ]
    }
   ],
   "source": [
    "data6_df.info()"
   ]
  },
  {
   "cell_type": "code",
   "execution_count": 885,
   "metadata": {},
   "outputs": [
    {
     "data": {
      "text/plain": [
       "No            0\n",
       "year          0\n",
       "month         0\n",
       "day           0\n",
       "hour          0\n",
       "PM2.5       646\n",
       "PM10        381\n",
       "SO2         507\n",
       "NO2         668\n",
       "CO         1401\n",
       "O3          729\n",
       "TEMP         51\n",
       "PRES         50\n",
       "DEWP         51\n",
       "RAIN         43\n",
       "wd          159\n",
       "WSPM         42\n",
       "station       0\n",
       "dtype: int64"
      ]
     },
     "execution_count": 885,
     "metadata": {},
     "output_type": "execute_result"
    }
   ],
   "source": [
    "data6_df.isna().sum()"
   ]
  },
  {
   "cell_type": "code",
   "execution_count": 886,
   "metadata": {},
   "outputs": [
    {
     "name": "stdout",
     "output_type": "stream",
     "text": [
      "Jumlah Duplikasi:  0\n"
     ]
    }
   ],
   "source": [
    "print(\"Jumlah Duplikasi: \", data6_df.duplicated().sum())"
   ]
  },
  {
   "cell_type": "markdown",
   "metadata": {},
   "source": [
    "#### Menilai tabel `data7_df`"
   ]
  },
  {
   "cell_type": "code",
   "execution_count": 887,
   "metadata": {},
   "outputs": [
    {
     "name": "stdout",
     "output_type": "stream",
     "text": [
      "<class 'pandas.core.frame.DataFrame'>\n",
      "RangeIndex: 35064 entries, 0 to 35063\n",
      "Data columns (total 18 columns):\n",
      " #   Column   Non-Null Count  Dtype  \n",
      "---  ------   --------------  -----  \n",
      " 0   No       35064 non-null  int64  \n",
      " 1   year     35064 non-null  int64  \n",
      " 2   month    35064 non-null  int64  \n",
      " 3   day      35064 non-null  int64  \n",
      " 4   hour     35064 non-null  int64  \n",
      " 5   PM2.5    34111 non-null  float64\n",
      " 6   PM10     34287 non-null  float64\n",
      " 7   SO2      34084 non-null  float64\n",
      " 8   NO2      33425 non-null  float64\n",
      " 9   CO       33642 non-null  float64\n",
      " 10  O3       33913 non-null  float64\n",
      " 11  TEMP     35013 non-null  float64\n",
      " 12  PRES     35011 non-null  float64\n",
      " 13  DEWP     35011 non-null  float64\n",
      " 14  RAIN     35009 non-null  float64\n",
      " 15  wd       34762 non-null  object \n",
      " 16  WSPM     35015 non-null  float64\n",
      " 17  station  35064 non-null  object \n",
      "dtypes: float64(11), int64(5), object(2)\n",
      "memory usage: 4.8+ MB\n"
     ]
    }
   ],
   "source": [
    "data7_df.info()"
   ]
  },
  {
   "cell_type": "code",
   "execution_count": 888,
   "metadata": {},
   "outputs": [
    {
     "data": {
      "text/plain": [
       "No            0\n",
       "year          0\n",
       "month         0\n",
       "day           0\n",
       "hour          0\n",
       "PM2.5       953\n",
       "PM10        777\n",
       "SO2         980\n",
       "NO2        1639\n",
       "CO         1422\n",
       "O3         1151\n",
       "TEMP         51\n",
       "PRES         53\n",
       "DEWP         53\n",
       "RAIN         55\n",
       "wd          302\n",
       "WSPM         49\n",
       "station       0\n",
       "dtype: int64"
      ]
     },
     "execution_count": 888,
     "metadata": {},
     "output_type": "execute_result"
    }
   ],
   "source": [
    "data7_df.isna().sum()"
   ]
  },
  {
   "cell_type": "code",
   "execution_count": 889,
   "metadata": {},
   "outputs": [
    {
     "name": "stdout",
     "output_type": "stream",
     "text": [
      "Jumlah Duplikasi:  0\n"
     ]
    }
   ],
   "source": [
    "print(\"Jumlah Duplikasi: \", data7_df.duplicated().sum())"
   ]
  },
  {
   "cell_type": "markdown",
   "metadata": {},
   "source": [
    "#### Menilai tabel `data8_df`"
   ]
  },
  {
   "cell_type": "code",
   "execution_count": 890,
   "metadata": {},
   "outputs": [
    {
     "name": "stdout",
     "output_type": "stream",
     "text": [
      "<class 'pandas.core.frame.DataFrame'>\n",
      "RangeIndex: 35064 entries, 0 to 35063\n",
      "Data columns (total 18 columns):\n",
      " #   Column   Non-Null Count  Dtype  \n",
      "---  ------   --------------  -----  \n",
      " 0   No       35064 non-null  int64  \n",
      " 1   year     35064 non-null  int64  \n",
      " 2   month    35064 non-null  int64  \n",
      " 3   day      35064 non-null  int64  \n",
      " 4   hour     35064 non-null  int64  \n",
      " 5   PM2.5    34436 non-null  float64\n",
      " 6   PM10     34624 non-null  float64\n",
      " 7   SO2      34618 non-null  float64\n",
      " 8   NO2      34372 non-null  float64\n",
      " 9   CO       33858 non-null  float64\n",
      " 10  O3       34558 non-null  float64\n",
      " 11  TEMP     35044 non-null  float64\n",
      " 12  PRES     35044 non-null  float64\n",
      " 13  DEWP     35044 non-null  float64\n",
      " 14  RAIN     35044 non-null  float64\n",
      " 15  wd       34986 non-null  object \n",
      " 16  WSPM     35050 non-null  float64\n",
      " 17  station  35064 non-null  object \n",
      "dtypes: float64(11), int64(5), object(2)\n",
      "memory usage: 4.8+ MB\n"
     ]
    }
   ],
   "source": [
    "data8_df.info()"
   ]
  },
  {
   "cell_type": "code",
   "execution_count": 891,
   "metadata": {},
   "outputs": [
    {
     "data": {
      "text/plain": [
       "No            0\n",
       "year          0\n",
       "month         0\n",
       "day           0\n",
       "hour          0\n",
       "PM2.5       628\n",
       "PM10        440\n",
       "SO2         446\n",
       "NO2         692\n",
       "CO         1206\n",
       "O3          506\n",
       "TEMP         20\n",
       "PRES         20\n",
       "DEWP         20\n",
       "RAIN         20\n",
       "wd           78\n",
       "WSPM         14\n",
       "station       0\n",
       "dtype: int64"
      ]
     },
     "execution_count": 891,
     "metadata": {},
     "output_type": "execute_result"
    }
   ],
   "source": [
    "data8_df.isna().sum()"
   ]
  },
  {
   "cell_type": "code",
   "execution_count": 892,
   "metadata": {},
   "outputs": [
    {
     "name": "stdout",
     "output_type": "stream",
     "text": [
      "Jumlah Publikasi:  0\n"
     ]
    }
   ],
   "source": [
    "print(\"Jumlah Publikasi: \", data8_df.duplicated().sum())"
   ]
  },
  {
   "cell_type": "markdown",
   "metadata": {},
   "source": [
    "#### Menilai tabel `data9_df`"
   ]
  },
  {
   "cell_type": "code",
   "execution_count": 893,
   "metadata": {},
   "outputs": [
    {
     "name": "stdout",
     "output_type": "stream",
     "text": [
      "<class 'pandas.core.frame.DataFrame'>\n",
      "RangeIndex: 35064 entries, 0 to 35063\n",
      "Data columns (total 18 columns):\n",
      " #   Column   Non-Null Count  Dtype  \n",
      "---  ------   --------------  -----  \n",
      " 0   No       35064 non-null  int64  \n",
      " 1   year     35064 non-null  int64  \n",
      " 2   month    35064 non-null  int64  \n",
      " 3   day      35064 non-null  int64  \n",
      " 4   hour     35064 non-null  int64  \n",
      " 5   PM2.5    34151 non-null  float64\n",
      " 6   PM10     34516 non-null  float64\n",
      " 7   SO2      33768 non-null  float64\n",
      " 8   NO2      33699 non-null  float64\n",
      " 9   CO       32886 non-null  float64\n",
      " 10  O3       33575 non-null  float64\n",
      " 11  TEMP     35013 non-null  float64\n",
      " 12  PRES     35013 non-null  float64\n",
      " 13  DEWP     35010 non-null  float64\n",
      " 14  RAIN     35013 non-null  float64\n",
      " 15  wd       34581 non-null  object \n",
      " 16  WSPM     35020 non-null  float64\n",
      " 17  station  35064 non-null  object \n",
      "dtypes: float64(11), int64(5), object(2)\n",
      "memory usage: 4.8+ MB\n"
     ]
    }
   ],
   "source": [
    "data9_df.info()"
   ]
  },
  {
   "cell_type": "code",
   "execution_count": 894,
   "metadata": {},
   "outputs": [
    {
     "data": {
      "text/plain": [
       "No            0\n",
       "year          0\n",
       "month         0\n",
       "day           0\n",
       "hour          0\n",
       "PM2.5       913\n",
       "PM10        548\n",
       "SO2        1296\n",
       "NO2        1365\n",
       "CO         2178\n",
       "O3         1489\n",
       "TEMP         51\n",
       "PRES         51\n",
       "DEWP         54\n",
       "RAIN         51\n",
       "wd          483\n",
       "WSPM         44\n",
       "station       0\n",
       "dtype: int64"
      ]
     },
     "execution_count": 894,
     "metadata": {},
     "output_type": "execute_result"
    }
   ],
   "source": [
    "data9_df.isna().sum()"
   ]
  },
  {
   "cell_type": "code",
   "execution_count": 895,
   "metadata": {},
   "outputs": [
    {
     "name": "stdout",
     "output_type": "stream",
     "text": [
      "Jumlah Duplikasi:  0\n"
     ]
    }
   ],
   "source": [
    "print(\"Jumlah Duplikasi: \", data9_df.duplicated().sum())"
   ]
  },
  {
   "cell_type": "markdown",
   "metadata": {},
   "source": [
    "#### Menilai tabel `data10_df`"
   ]
  },
  {
   "cell_type": "code",
   "execution_count": 896,
   "metadata": {},
   "outputs": [
    {
     "name": "stdout",
     "output_type": "stream",
     "text": [
      "<class 'pandas.core.frame.DataFrame'>\n",
      "RangeIndex: 35064 entries, 0 to 35063\n",
      "Data columns (total 18 columns):\n",
      " #   Column   Non-Null Count  Dtype  \n",
      "---  ------   --------------  -----  \n",
      " 0   No       35064 non-null  int64  \n",
      " 1   year     35064 non-null  int64  \n",
      " 2   month    35064 non-null  int64  \n",
      " 3   day      35064 non-null  int64  \n",
      " 4   hour     35064 non-null  int64  \n",
      " 5   PM2.5    34387 non-null  float64\n",
      " 6   PM10     34467 non-null  float64\n",
      " 7   SO2      33946 non-null  float64\n",
      " 8   NO2      34320 non-null  float64\n",
      " 9   CO       33938 non-null  float64\n",
      " 10  O3       34221 non-null  float64\n",
      " 11  TEMP     35044 non-null  float64\n",
      " 12  PRES     35044 non-null  float64\n",
      " 13  DEWP     35044 non-null  float64\n",
      " 14  RAIN     35044 non-null  float64\n",
      " 15  wd       34986 non-null  object \n",
      " 16  WSPM     35050 non-null  float64\n",
      " 17  station  35064 non-null  object \n",
      "dtypes: float64(11), int64(5), object(2)\n",
      "memory usage: 4.8+ MB\n"
     ]
    }
   ],
   "source": [
    "data10_df.info()"
   ]
  },
  {
   "cell_type": "code",
   "execution_count": 897,
   "metadata": {},
   "outputs": [
    {
     "data": {
      "text/plain": [
       "No            0\n",
       "year          0\n",
       "month         0\n",
       "day           0\n",
       "hour          0\n",
       "PM2.5       677\n",
       "PM10        597\n",
       "SO2        1118\n",
       "NO2         744\n",
       "CO         1126\n",
       "O3          843\n",
       "TEMP         20\n",
       "PRES         20\n",
       "DEWP         20\n",
       "RAIN         20\n",
       "wd           78\n",
       "WSPM         14\n",
       "station       0\n",
       "dtype: int64"
      ]
     },
     "execution_count": 897,
     "metadata": {},
     "output_type": "execute_result"
    }
   ],
   "source": [
    "data10_df.isna().sum()"
   ]
  },
  {
   "cell_type": "code",
   "execution_count": 898,
   "metadata": {},
   "outputs": [
    {
     "name": "stdout",
     "output_type": "stream",
     "text": [
      "Jumlah Duplikasi:  0\n"
     ]
    }
   ],
   "source": [
    "print(\"Jumlah Duplikasi: \", data10_df.duplicated().sum())"
   ]
  },
  {
   "cell_type": "markdown",
   "metadata": {},
   "source": [
    "#### Menilai tabel `data11_df`"
   ]
  },
  {
   "cell_type": "code",
   "execution_count": 899,
   "metadata": {},
   "outputs": [
    {
     "name": "stdout",
     "output_type": "stream",
     "text": [
      "<class 'pandas.core.frame.DataFrame'>\n",
      "RangeIndex: 35064 entries, 0 to 35063\n",
      "Data columns (total 18 columns):\n",
      " #   Column   Non-Null Count  Dtype  \n",
      "---  ------   --------------  -----  \n",
      " 0   No       35064 non-null  int64  \n",
      " 1   year     35064 non-null  int64  \n",
      " 2   month    35064 non-null  int64  \n",
      " 3   day      35064 non-null  int64  \n",
      " 4   hour     35064 non-null  int64  \n",
      " 5   PM2.5    34682 non-null  float64\n",
      " 6   PM10     34780 non-null  float64\n",
      " 7   SO2      34489 non-null  float64\n",
      " 8   NO2      33994 non-null  float64\n",
      " 9   CO       33252 non-null  float64\n",
      " 10  O3       32957 non-null  float64\n",
      " 11  TEMP     35044 non-null  float64\n",
      " 12  PRES     35044 non-null  float64\n",
      " 13  DEWP     35044 non-null  float64\n",
      " 14  RAIN     35044 non-null  float64\n",
      " 15  wd       34941 non-null  object \n",
      " 16  WSPM     35050 non-null  float64\n",
      " 17  station  35064 non-null  object \n",
      "dtypes: float64(11), int64(5), object(2)\n",
      "memory usage: 4.8+ MB\n"
     ]
    }
   ],
   "source": [
    "data11_df.info()"
   ]
  },
  {
   "cell_type": "code",
   "execution_count": 900,
   "metadata": {},
   "outputs": [
    {
     "data": {
      "text/plain": [
       "No            0\n",
       "year          0\n",
       "month         0\n",
       "day           0\n",
       "hour          0\n",
       "PM2.5       382\n",
       "PM10        284\n",
       "SO2         575\n",
       "NO2        1070\n",
       "CO         1812\n",
       "O3         2107\n",
       "TEMP         20\n",
       "PRES         20\n",
       "DEWP         20\n",
       "RAIN         20\n",
       "wd          123\n",
       "WSPM         14\n",
       "station       0\n",
       "dtype: int64"
      ]
     },
     "execution_count": 900,
     "metadata": {},
     "output_type": "execute_result"
    }
   ],
   "source": [
    "data11_df.isna().sum()"
   ]
  },
  {
   "cell_type": "code",
   "execution_count": 901,
   "metadata": {},
   "outputs": [
    {
     "name": "stdout",
     "output_type": "stream",
     "text": [
      "Jumlah Duplikasi:  0\n"
     ]
    }
   ],
   "source": [
    "print(\"Jumlah Duplikasi: \", data11_df.duplicated().sum())"
   ]
  },
  {
   "cell_type": "markdown",
   "metadata": {},
   "source": [
    "#### Menilai tabel `data12_df`"
   ]
  },
  {
   "cell_type": "code",
   "execution_count": 902,
   "metadata": {},
   "outputs": [
    {
     "name": "stdout",
     "output_type": "stream",
     "text": [
      "<class 'pandas.core.frame.DataFrame'>\n",
      "RangeIndex: 35064 entries, 0 to 35063\n",
      "Data columns (total 18 columns):\n",
      " #   Column   Non-Null Count  Dtype  \n",
      "---  ------   --------------  -----  \n",
      " 0   No       35064 non-null  int64  \n",
      " 1   year     35064 non-null  int64  \n",
      " 2   month    35064 non-null  int64  \n",
      " 3   day      35064 non-null  int64  \n",
      " 4   hour     35064 non-null  int64  \n",
      " 5   PM2.5    34368 non-null  float64\n",
      " 6   PM10     34580 non-null  float64\n",
      " 7   SO2      34395 non-null  float64\n",
      " 8   NO2      34310 non-null  float64\n",
      " 9   CO       33767 non-null  float64\n",
      " 10  O3       33986 non-null  float64\n",
      " 11  TEMP     35045 non-null  float64\n",
      " 12  PRES     35045 non-null  float64\n",
      " 13  DEWP     35045 non-null  float64\n",
      " 14  RAIN     35045 non-null  float64\n",
      " 15  wd       34985 non-null  object \n",
      " 16  WSPM     35051 non-null  float64\n",
      " 17  station  35064 non-null  object \n",
      "dtypes: float64(11), int64(5), object(2)\n",
      "memory usage: 4.8+ MB\n"
     ]
    }
   ],
   "source": [
    "data12_df.info()"
   ]
  },
  {
   "cell_type": "code",
   "execution_count": 903,
   "metadata": {},
   "outputs": [
    {
     "data": {
      "text/plain": [
       "No            0\n",
       "year          0\n",
       "month         0\n",
       "day           0\n",
       "hour          0\n",
       "PM2.5       696\n",
       "PM10        484\n",
       "SO2         669\n",
       "NO2         754\n",
       "CO         1297\n",
       "O3         1078\n",
       "TEMP         19\n",
       "PRES         19\n",
       "DEWP         19\n",
       "RAIN         19\n",
       "wd           79\n",
       "WSPM         13\n",
       "station       0\n",
       "dtype: int64"
      ]
     },
     "execution_count": 903,
     "metadata": {},
     "output_type": "execute_result"
    }
   ],
   "source": [
    "data12_df.isna().sum()"
   ]
  },
  {
   "cell_type": "code",
   "execution_count": 904,
   "metadata": {},
   "outputs": [
    {
     "name": "stdout",
     "output_type": "stream",
     "text": [
      "Jumlah Duplikasi:  0\n"
     ]
    }
   ],
   "source": [
    "print(\"Jumlah Duplikasi: \", data12_df.duplicated().sum())"
   ]
  },
  {
   "cell_type": "markdown",
   "metadata": {
    "id": "7dtxhAPrkhPL"
   },
   "source": [
    "**Insight:**\n",
    "- Menampilkan informasi data\n",
    "- Mengecek apakah terdapat data yang hilang atau missing value dan mengecek apakah terdapat data duplikat atau tidak"
   ]
  },
  {
   "cell_type": "markdown",
   "metadata": {
    "id": "EhN5R4hr8DC1"
   },
   "source": [
    "### Cleaning Data"
   ]
  },
  {
   "cell_type": "markdown",
   "metadata": {},
   "source": [
    "#### Membersihkan tabel `data1_df`"
   ]
  },
  {
   "cell_type": "code",
   "execution_count": 905,
   "metadata": {
    "id": "jVnYpprE9Evz"
   },
   "outputs": [
    {
     "data": {
      "text/plain": [
       "No         0\n",
       "year       0\n",
       "month      0\n",
       "day        0\n",
       "hour       0\n",
       "PM2.5      0\n",
       "PM10       0\n",
       "SO2        0\n",
       "NO2        0\n",
       "CO         0\n",
       "O3         0\n",
       "TEMP       0\n",
       "PRES       0\n",
       "DEWP       0\n",
       "RAIN       0\n",
       "wd         0\n",
       "WSPM       0\n",
       "station    0\n",
       "dtype: int64"
      ]
     },
     "execution_count": 905,
     "metadata": {},
     "output_type": "execute_result"
    }
   ],
   "source": [
    "data1_df.dropna(axis=0, inplace=True)\n",
    "data1_df.isna().sum()"
   ]
  },
  {
   "cell_type": "markdown",
   "metadata": {},
   "source": [
    "#### Membersihkan tabel `data2_df`"
   ]
  },
  {
   "cell_type": "code",
   "execution_count": 906,
   "metadata": {},
   "outputs": [
    {
     "data": {
      "text/plain": [
       "No         0\n",
       "year       0\n",
       "month      0\n",
       "day        0\n",
       "hour       0\n",
       "PM2.5      0\n",
       "PM10       0\n",
       "SO2        0\n",
       "NO2        0\n",
       "CO         0\n",
       "O3         0\n",
       "TEMP       0\n",
       "PRES       0\n",
       "DEWP       0\n",
       "RAIN       0\n",
       "wd         0\n",
       "WSPM       0\n",
       "station    0\n",
       "dtype: int64"
      ]
     },
     "execution_count": 906,
     "metadata": {},
     "output_type": "execute_result"
    }
   ],
   "source": [
    "data2_df.dropna(axis=0, inplace=True)\n",
    "data2_df.isna().sum()"
   ]
  },
  {
   "cell_type": "markdown",
   "metadata": {},
   "source": [
    "#### Membersihkan tabel `data3_df`"
   ]
  },
  {
   "cell_type": "code",
   "execution_count": 907,
   "metadata": {},
   "outputs": [
    {
     "data": {
      "text/plain": [
       "No         0\n",
       "year       0\n",
       "month      0\n",
       "day        0\n",
       "hour       0\n",
       "PM2.5      0\n",
       "PM10       0\n",
       "SO2        0\n",
       "NO2        0\n",
       "CO         0\n",
       "O3         0\n",
       "TEMP       0\n",
       "PRES       0\n",
       "DEWP       0\n",
       "RAIN       0\n",
       "wd         0\n",
       "WSPM       0\n",
       "station    0\n",
       "dtype: int64"
      ]
     },
     "execution_count": 907,
     "metadata": {},
     "output_type": "execute_result"
    }
   ],
   "source": [
    "data3_df.dropna(axis=0, inplace=True)\n",
    "data3_df.isna().sum()"
   ]
  },
  {
   "cell_type": "markdown",
   "metadata": {},
   "source": [
    "#### Membersihkan tabel `data4_df`"
   ]
  },
  {
   "cell_type": "code",
   "execution_count": 908,
   "metadata": {},
   "outputs": [
    {
     "data": {
      "text/plain": [
       "No         0\n",
       "year       0\n",
       "month      0\n",
       "day        0\n",
       "hour       0\n",
       "PM2.5      0\n",
       "PM10       0\n",
       "SO2        0\n",
       "NO2        0\n",
       "CO         0\n",
       "O3         0\n",
       "TEMP       0\n",
       "PRES       0\n",
       "DEWP       0\n",
       "RAIN       0\n",
       "wd         0\n",
       "WSPM       0\n",
       "station    0\n",
       "dtype: int64"
      ]
     },
     "execution_count": 908,
     "metadata": {},
     "output_type": "execute_result"
    }
   ],
   "source": [
    "data4_df.dropna(axis=0, inplace=True)\n",
    "data4_df.isna().sum()"
   ]
  },
  {
   "cell_type": "markdown",
   "metadata": {},
   "source": [
    "#### Membersihkan tabel `data5_df`"
   ]
  },
  {
   "cell_type": "code",
   "execution_count": 909,
   "metadata": {},
   "outputs": [
    {
     "data": {
      "text/plain": [
       "No         0\n",
       "year       0\n",
       "month      0\n",
       "day        0\n",
       "hour       0\n",
       "PM2.5      0\n",
       "PM10       0\n",
       "SO2        0\n",
       "NO2        0\n",
       "CO         0\n",
       "O3         0\n",
       "TEMP       0\n",
       "PRES       0\n",
       "DEWP       0\n",
       "RAIN       0\n",
       "wd         0\n",
       "WSPM       0\n",
       "station    0\n",
       "dtype: int64"
      ]
     },
     "execution_count": 909,
     "metadata": {},
     "output_type": "execute_result"
    }
   ],
   "source": [
    "data5_df.dropna(axis=0, inplace=True)\n",
    "data5_df.isna().sum()"
   ]
  },
  {
   "cell_type": "markdown",
   "metadata": {},
   "source": [
    "#### Membersihkan tabel `data6_df`"
   ]
  },
  {
   "cell_type": "code",
   "execution_count": 910,
   "metadata": {},
   "outputs": [
    {
     "data": {
      "text/plain": [
       "No         0\n",
       "year       0\n",
       "month      0\n",
       "day        0\n",
       "hour       0\n",
       "PM2.5      0\n",
       "PM10       0\n",
       "SO2        0\n",
       "NO2        0\n",
       "CO         0\n",
       "O3         0\n",
       "TEMP       0\n",
       "PRES       0\n",
       "DEWP       0\n",
       "RAIN       0\n",
       "wd         0\n",
       "WSPM       0\n",
       "station    0\n",
       "dtype: int64"
      ]
     },
     "execution_count": 910,
     "metadata": {},
     "output_type": "execute_result"
    }
   ],
   "source": [
    "data6_df.dropna(axis=0, inplace=True)\n",
    "data6_df.isna().sum()"
   ]
  },
  {
   "cell_type": "markdown",
   "metadata": {},
   "source": [
    "#### Membersihkan tabel `data7_df`"
   ]
  },
  {
   "cell_type": "code",
   "execution_count": 911,
   "metadata": {},
   "outputs": [
    {
     "data": {
      "text/plain": [
       "No         0\n",
       "year       0\n",
       "month      0\n",
       "day        0\n",
       "hour       0\n",
       "PM2.5      0\n",
       "PM10       0\n",
       "SO2        0\n",
       "NO2        0\n",
       "CO         0\n",
       "O3         0\n",
       "TEMP       0\n",
       "PRES       0\n",
       "DEWP       0\n",
       "RAIN       0\n",
       "wd         0\n",
       "WSPM       0\n",
       "station    0\n",
       "dtype: int64"
      ]
     },
     "execution_count": 911,
     "metadata": {},
     "output_type": "execute_result"
    }
   ],
   "source": [
    "data7_df.dropna(axis=0, inplace=True)\n",
    "data7_df.isna().sum()"
   ]
  },
  {
   "cell_type": "markdown",
   "metadata": {},
   "source": [
    "#### Membersihkan tabel `data8_df`"
   ]
  },
  {
   "cell_type": "code",
   "execution_count": 912,
   "metadata": {},
   "outputs": [
    {
     "data": {
      "text/plain": [
       "No         0\n",
       "year       0\n",
       "month      0\n",
       "day        0\n",
       "hour       0\n",
       "PM2.5      0\n",
       "PM10       0\n",
       "SO2        0\n",
       "NO2        0\n",
       "CO         0\n",
       "O3         0\n",
       "TEMP       0\n",
       "PRES       0\n",
       "DEWP       0\n",
       "RAIN       0\n",
       "wd         0\n",
       "WSPM       0\n",
       "station    0\n",
       "dtype: int64"
      ]
     },
     "execution_count": 912,
     "metadata": {},
     "output_type": "execute_result"
    }
   ],
   "source": [
    "data8_df.dropna(axis=0, inplace=True)\n",
    "data8_df.isna().sum()"
   ]
  },
  {
   "cell_type": "markdown",
   "metadata": {},
   "source": [
    "#### Membersihkan tabel `data9_df`"
   ]
  },
  {
   "cell_type": "code",
   "execution_count": 913,
   "metadata": {},
   "outputs": [
    {
     "data": {
      "text/plain": [
       "No         0\n",
       "year       0\n",
       "month      0\n",
       "day        0\n",
       "hour       0\n",
       "PM2.5      0\n",
       "PM10       0\n",
       "SO2        0\n",
       "NO2        0\n",
       "CO         0\n",
       "O3         0\n",
       "TEMP       0\n",
       "PRES       0\n",
       "DEWP       0\n",
       "RAIN       0\n",
       "wd         0\n",
       "WSPM       0\n",
       "station    0\n",
       "dtype: int64"
      ]
     },
     "execution_count": 913,
     "metadata": {},
     "output_type": "execute_result"
    }
   ],
   "source": [
    "data9_df.dropna(axis=0, inplace=True)\n",
    "data9_df.isna().sum()"
   ]
  },
  {
   "cell_type": "markdown",
   "metadata": {},
   "source": [
    "#### Membersihkan tabel `data10_df`"
   ]
  },
  {
   "cell_type": "code",
   "execution_count": 914,
   "metadata": {},
   "outputs": [
    {
     "data": {
      "text/plain": [
       "No         0\n",
       "year       0\n",
       "month      0\n",
       "day        0\n",
       "hour       0\n",
       "PM2.5      0\n",
       "PM10       0\n",
       "SO2        0\n",
       "NO2        0\n",
       "CO         0\n",
       "O3         0\n",
       "TEMP       0\n",
       "PRES       0\n",
       "DEWP       0\n",
       "RAIN       0\n",
       "wd         0\n",
       "WSPM       0\n",
       "station    0\n",
       "dtype: int64"
      ]
     },
     "execution_count": 914,
     "metadata": {},
     "output_type": "execute_result"
    }
   ],
   "source": [
    "data10_df.dropna(axis=0, inplace=True)\n",
    "data10_df.isna().sum()"
   ]
  },
  {
   "cell_type": "markdown",
   "metadata": {},
   "source": [
    "#### Membersihkan tabel `data11_df`"
   ]
  },
  {
   "cell_type": "code",
   "execution_count": 915,
   "metadata": {},
   "outputs": [
    {
     "data": {
      "text/plain": [
       "No         0\n",
       "year       0\n",
       "month      0\n",
       "day        0\n",
       "hour       0\n",
       "PM2.5      0\n",
       "PM10       0\n",
       "SO2        0\n",
       "NO2        0\n",
       "CO         0\n",
       "O3         0\n",
       "TEMP       0\n",
       "PRES       0\n",
       "DEWP       0\n",
       "RAIN       0\n",
       "wd         0\n",
       "WSPM       0\n",
       "station    0\n",
       "dtype: int64"
      ]
     },
     "execution_count": 915,
     "metadata": {},
     "output_type": "execute_result"
    }
   ],
   "source": [
    "data11_df.dropna(axis=0, inplace=True)\n",
    "data11_df.isna().sum()"
   ]
  },
  {
   "cell_type": "markdown",
   "metadata": {},
   "source": [
    "#### Membersihkan tabel `data12_df`"
   ]
  },
  {
   "cell_type": "code",
   "execution_count": 916,
   "metadata": {},
   "outputs": [
    {
     "data": {
      "text/plain": [
       "No         0\n",
       "year       0\n",
       "month      0\n",
       "day        0\n",
       "hour       0\n",
       "PM2.5      0\n",
       "PM10       0\n",
       "SO2        0\n",
       "NO2        0\n",
       "CO         0\n",
       "O3         0\n",
       "TEMP       0\n",
       "PRES       0\n",
       "DEWP       0\n",
       "RAIN       0\n",
       "wd         0\n",
       "WSPM       0\n",
       "station    0\n",
       "dtype: int64"
      ]
     },
     "execution_count": 916,
     "metadata": {},
     "output_type": "execute_result"
    }
   ],
   "source": [
    "data12_df.dropna(axis=0, inplace=True)\n",
    "data12_df.isna().sum()"
   ]
  },
  {
   "cell_type": "markdown",
   "metadata": {
    "id": "Q_5ejIqckiSP"
   },
   "source": [
    "**Insight:**\n",
    "- melakukan dropping data yang missing value, dikarenakan data yang didapatkan sangat banyak sehingga saya rasa tidak akan mengalami kerugian jika melakukan dropping"
   ]
  },
  {
   "cell_type": "markdown",
   "metadata": {
    "id": "gp-Y6wU38DC1"
   },
   "source": [
    "## Exploratory Data Analysis (EDA)"
   ]
  },
  {
   "cell_type": "markdown",
   "metadata": {
    "id": "MW7WF2kr8DC1"
   },
   "source": [
    "#### Explore All Data"
   ]
  },
  {
   "cell_type": "code",
   "execution_count": null,
   "metadata": {
    "id": "e9CQCZjk8DC2"
   },
   "outputs": [],
   "source": [
    "df['datetime'] = pd.to_datetime(df['datetime'])\n",
    "df['year'] = df['datetime'].dt.year\n",
    "df['month'] = df['datetime'].dt.month\n",
    "df['day'] = df['datetime'].dt.day\n",
    "df['hour'] = df['datetime'].dt.hour\n",
    "df_yearly = df.groupby('year')[['PM2.5', 'PM10']].mean()\n",
    "describe_results = {name: df.describe() for name, df in datasets.items()}"
   ]
  },
  {
   "cell_type": "code",
   "execution_count": 918,
   "metadata": {},
   "outputs": [
    {
     "name": "stdout",
     "output_type": "stream",
     "text": [
      "                 No          year         month           day          hour  \\\n",
      "count  31815.000000  31815.000000  31815.000000  31815.000000  31815.000000   \n",
      "mean   17899.423857   2014.714914      6.401886     15.578564     11.624800   \n",
      "std    10058.429849      1.162536      3.416847      8.794954      6.926874   \n",
      "min        1.000000   2013.000000      1.000000      1.000000      0.000000   \n",
      "25%     9415.500000   2014.000000      3.000000      8.000000      6.000000   \n",
      "50%    18093.000000   2015.000000      6.000000     15.000000     12.000000   \n",
      "75%    26590.500000   2016.000000      9.000000     23.000000     18.000000   \n",
      "max    35064.000000   2017.000000     12.000000     31.000000     23.000000   \n",
      "\n",
      "             PM2.5          PM10           SO2           NO2            CO  \\\n",
      "count  31815.00000  31815.000000  31815.000000  31815.000000  31815.000000   \n",
      "mean      81.86363    109.120685     17.167205     58.976332   1256.574729   \n",
      "std       80.44949     93.718017     22.760801     37.061384   1223.301208   \n",
      "min        3.00000      2.000000      0.571200      2.000000    100.000000   \n",
      "25%       22.00000     37.000000      3.000000     30.000000    500.000000   \n",
      "50%       58.00000     86.000000      8.000000     53.000000    800.000000   \n",
      "75%      114.00000    154.000000     21.000000     82.000000   1500.000000   \n",
      "max      713.00000    948.000000    229.000000    290.000000  10000.000000   \n",
      "\n",
      "                 O3          TEMP          PRES          DEWP          RAIN  \\\n",
      "count  31815.000000  31815.000000  31815.000000  31815.000000  31815.000000   \n",
      "mean      56.240938     13.775611   1011.800385      3.241106      0.068235   \n",
      "std       57.834314     11.369035     10.338869     13.667863      0.837489   \n",
      "min        0.214200    -16.800000    985.900000    -35.300000      0.000000   \n",
      "25%        8.000000      3.400000   1003.300000     -8.000000      0.000000   \n",
      "50%       42.000000     14.800000   1011.200000      4.000000      0.000000   \n",
      "75%       82.000000     23.400000   1020.000000     15.700000      0.000000   \n",
      "max      423.000000     40.500000   1042.000000     28.500000     46.400000   \n",
      "\n",
      "               WSPM  \n",
      "count  31815.000000  \n",
      "mean       1.720471  \n",
      "std        1.204240  \n",
      "min        0.000000  \n",
      "25%        0.900000  \n",
      "50%        1.400000  \n",
      "75%        2.200000  \n",
      "max       11.200000  \n"
     ]
    }
   ],
   "source": [
    "print(describe_results[\"data1\"])"
   ]
  },
  {
   "cell_type": "code",
   "execution_count": 919,
   "metadata": {},
   "outputs": [
    {
     "name": "stdout",
     "output_type": "stream",
     "text": [
      "                 No          year         month           day          hour  \\\n",
      "count  32681.000000  32681.000000  32681.000000  32681.000000  32681.000000   \n",
      "mean   17876.569658   2014.703130      6.507481     15.715156     11.506992   \n",
      "std    10010.547363      1.165678      3.478965      8.729951      6.940587   \n",
      "min        1.000000   2013.000000      1.000000      1.000000      0.000000   \n",
      "25%     9384.000000   2014.000000      3.000000      8.000000      6.000000   \n",
      "50%    17910.000000   2015.000000      7.000000     16.000000     11.000000   \n",
      "75%    26546.000000   2016.000000     10.000000     23.000000     18.000000   \n",
      "max    35064.000000   2017.000000     12.000000     31.000000     23.000000   \n",
      "\n",
      "              PM2.5          PM10           SO2           NO2            CO  \\\n",
      "count  32681.000000  32681.000000  32681.000000  32681.000000  32681.000000   \n",
      "mean      70.312328     94.086402     15.061357     44.319035   1151.716441   \n",
      "std       70.955607     82.610340     21.057574     29.591375   1105.646637   \n",
      "min        3.000000      2.000000      1.000000      2.000000    100.000000   \n",
      "25%       18.000000     33.000000      2.000000     22.000000    500.000000   \n",
      "50%       46.000000     72.000000      7.000000     36.000000    800.000000   \n",
      "75%       99.000000    130.000000     18.000000     61.000000   1400.000000   \n",
      "max      662.000000    992.000000    310.000000    208.000000  10000.000000   \n",
      "\n",
      "                 O3          TEMP          PRES          DEWP          RAIN  \\\n",
      "count  32681.000000  32681.000000  32681.000000  32681.000000  32681.000000   \n",
      "mean      57.424541     13.401677   1007.994009      1.135299      0.060736   \n",
      "std       53.792603     11.393462     10.177785     13.841226      0.765286   \n",
      "min        0.214200    -16.600000    982.400000    -35.100000      0.000000   \n",
      "25%       15.000000      3.100000    999.500000    -10.600000      0.000000   \n",
      "50%       46.000000     14.100000   1007.700000      1.100000      0.000000   \n",
      "75%       79.000000     23.100000   1016.300000     13.900000      0.000000   \n",
      "max      429.000000     41.400000   1036.500000     27.200000     52.100000   \n",
      "\n",
      "               WSPM  \n",
      "count  32681.000000  \n",
      "mean       1.865757  \n",
      "std        1.308218  \n",
      "min        0.000000  \n",
      "25%        1.000000  \n",
      "50%        1.500000  \n",
      "75%        2.300000  \n",
      "max       10.000000  \n"
     ]
    }
   ],
   "source": [
    "print(describe_results[\"data2\"])"
   ]
  },
  {
   "cell_type": "code",
   "execution_count": 920,
   "metadata": {},
   "outputs": [
    {
     "name": "stdout",
     "output_type": "stream",
     "text": [
      "                 No          year         month           day          hour  \\\n",
      "count  31306.000000  31306.000000  31306.000000  31306.000000  31306.000000   \n",
      "mean   17951.165719   2014.718297      6.422603     15.881237     11.504248   \n",
      "std     9928.922785      1.147383      3.457774      8.724373      6.952859   \n",
      "min        3.000000   2013.000000      1.000000      1.000000      0.000000   \n",
      "25%     9888.250000   2014.000000      3.000000      8.000000      6.000000   \n",
      "50%    18100.500000   2015.000000      6.000000     16.000000     11.000000   \n",
      "75%    26268.750000   2016.000000      9.000000     23.000000     18.000000   \n",
      "max    35064.000000   2017.000000     12.000000     31.000000     23.000000   \n",
      "\n",
      "              PM2.5          PM10           SO2           NO2            CO  \\\n",
      "count  31306.000000  31306.000000  31306.000000  31306.000000  31306.000000   \n",
      "mean      66.512518     84.527803     11.944167     27.267578    916.547211   \n",
      "std       72.434045     80.077511     15.625691     26.199002    910.281798   \n",
      "min        3.000000      2.000000      1.000000      2.000000    100.000000   \n",
      "25%       14.000000     26.000000      2.000000      9.000000    300.000000   \n",
      "50%       41.000000     61.000000      5.000000     19.000000    600.000000   \n",
      "75%       93.000000    118.000000     15.000000     37.000000   1200.000000   \n",
      "max      647.000000    905.000000    150.000000    205.000000  10000.000000   \n",
      "\n",
      "                 O3          TEMP          PRES          DEWP          RAIN  \\\n",
      "count  31306.000000  31306.000000  31306.000000  31306.000000  31306.000000   \n",
      "mean      69.449698     13.556274   1007.708007      1.403411      0.062387   \n",
      "std       54.576024     11.451666     10.286864     13.851456      0.776216   \n",
      "min        0.214200    -16.600000    982.800000    -35.100000      0.000000   \n",
      "25%       31.000000      3.000000    999.200000    -10.500000      0.000000   \n",
      "50%       62.000000     14.600000   1007.100000      1.600000      0.000000   \n",
      "75%       91.000000     23.300000   1016.000000     14.300000      0.000000   \n",
      "max      500.000000     41.400000   1036.500000     27.200000     52.100000   \n",
      "\n",
      "               WSPM  \n",
      "count  31306.000000  \n",
      "mean       1.850939  \n",
      "std        1.295511  \n",
      "min        0.000000  \n",
      "25%        1.000000  \n",
      "50%        1.500000  \n",
      "75%        2.300000  \n",
      "max       10.000000  \n"
     ]
    }
   ],
   "source": [
    "print(describe_results[\"data3\"])"
   ]
  },
  {
   "cell_type": "code",
   "execution_count": 921,
   "metadata": {},
   "outputs": [
    {
     "name": "stdout",
     "output_type": "stream",
     "text": [
      "                 No          year         month           day          hour  \\\n",
      "count  30338.000000  30338.000000  30338.000000  30338.000000  30338.000000   \n",
      "mean   18808.565759   2014.807832      6.530160     15.650109     11.500363   \n",
      "std     9687.590750      1.124713      3.440944      8.800479      6.951066   \n",
      "min        1.000000   2013.000000      1.000000      1.000000      0.000000   \n",
      "25%    11435.250000   2014.000000      4.000000      8.000000      5.000000   \n",
      "50%    19161.500000   2015.000000      7.000000     16.000000     11.000000   \n",
      "75%    26926.750000   2016.000000     10.000000     23.000000     18.000000   \n",
      "max    35064.000000   2017.000000     12.000000     31.000000     23.000000   \n",
      "\n",
      "              PM2.5          PM10           SO2           NO2            CO  \\\n",
      "count  30338.000000  30338.000000  30338.000000  30338.000000  30338.000000   \n",
      "mean      84.933156    110.991914     16.994466     53.717314   1316.524392   \n",
      "std       85.283368     98.426262     20.555551     34.072328   1184.329763   \n",
      "min        3.000000      2.000000      1.000000      2.000000    100.000000   \n",
      "25%       22.000000     38.000000      3.000000     27.000000    600.000000   \n",
      "50%       60.000000     87.000000      9.000000     47.000000   1000.000000   \n",
      "75%      118.000000    152.000000     23.000000     73.000000   1600.000000   \n",
      "max      695.000000    955.000000    300.000000    258.000000  10000.000000   \n",
      "\n",
      "                 O3          TEMP          PRES          DEWP          RAIN  \\\n",
      "count  30338.000000  30338.000000  30338.000000  30338.000000  30338.000000   \n",
      "mean      56.797482     13.623338   1012.879017      2.277794      0.061573   \n",
      "std       57.850622     11.223178     10.004754     13.454891      0.791068   \n",
      "min        1.000000    -16.800000    987.500000    -35.300000      0.000000   \n",
      "25%       11.673900      3.600000   1004.700000     -8.500000      0.000000   \n",
      "50%       45.000000     14.600000   1012.400000      3.000000      0.000000   \n",
      "75%       81.000000     23.000000   1020.900000     14.300000      0.000000   \n",
      "max     1071.000000     40.400000   1042.000000     28.800000     46.400000   \n",
      "\n",
      "               WSPM  \n",
      "count  30338.000000  \n",
      "mean       1.872510  \n",
      "std        1.275355  \n",
      "min        0.000000  \n",
      "25%        1.000000  \n",
      "50%        1.500000  \n",
      "75%        2.400000  \n",
      "max       10.500000  \n"
     ]
    }
   ],
   "source": [
    "print(describe_results[\"data4\"])"
   ]
  },
  {
   "cell_type": "code",
   "execution_count": 922,
   "metadata": {},
   "outputs": [
    {
     "name": "stdout",
     "output_type": "stream",
     "text": [
      "                 No          year         month           day          hour  \\\n",
      "count  32263.000000  32263.000000  32263.000000  32263.000000  32263.000000   \n",
      "mean   18055.294300   2014.731519      6.411555     15.718780     11.548368   \n",
      "std     9974.437594      1.148731      3.426927      8.842654      6.935752   \n",
      "min        1.000000   2013.000000      1.000000      1.000000      0.000000   \n",
      "25%     9790.500000   2014.000000      3.000000      8.000000      6.000000   \n",
      "50%    18323.000000   2015.000000      6.000000     16.000000     12.000000   \n",
      "75%    26555.000000   2016.000000      9.000000     23.000000     18.000000   \n",
      "max    35064.000000   2017.000000     12.000000     31.000000     23.000000   \n",
      "\n",
      "              PM2.5          PM10           SO2           NO2            CO  \\\n",
      "count  32263.000000  32263.000000  32263.000000  32263.000000  32263.000000   \n",
      "mean      83.101051    108.974559     17.263085     57.698591   1265.709760   \n",
      "std       81.448350     91.583482     23.551127     35.113587   1157.718045   \n",
      "min        3.000000      2.000000      1.000000      2.000000    100.000000   \n",
      "25%       23.000000     40.000000      3.000000     30.000000    500.000000   \n",
      "50%       59.000000     89.000000      8.000000     51.000000    900.000000   \n",
      "75%      115.000000    149.000000     21.000000     78.000000   1600.000000   \n",
      "max      680.000000    987.000000    293.000000    270.000000  10000.000000   \n",
      "\n",
      "                 O3          TEMP          PRES          DEWP          RAIN  \\\n",
      "count  32263.000000  32263.000000  32263.000000  32263.000000  32263.000000   \n",
      "mean      55.832982     13.707451   1011.856881      3.242758      0.069377   \n",
      "std       57.733303     11.423989     10.436685     13.767873      0.911777   \n",
      "min        0.214200    -16.800000    985.900000    -35.300000      0.000000   \n",
      "25%        7.000000      3.200000   1003.300000     -8.100000      0.000000   \n",
      "50%       41.000000     14.800000   1011.200000      4.100000      0.000000   \n",
      "75%       81.050000     23.400000   1020.300000     15.800000      0.000000   \n",
      "max      415.000000     40.500000   1042.000000     28.500000     72.500000   \n",
      "\n",
      "               WSPM  \n",
      "count  32263.000000  \n",
      "mean       1.719462  \n",
      "std        1.198474  \n",
      "min        0.000000  \n",
      "25%        0.900000  \n",
      "50%        1.400000  \n",
      "75%        2.200000  \n",
      "max       11.200000  \n"
     ]
    }
   ],
   "source": [
    "print(describe_results[\"data5\"])"
   ]
  },
  {
   "cell_type": "code",
   "execution_count": 923,
   "metadata": {},
   "outputs": [
    {
     "name": "stdout",
     "output_type": "stream",
     "text": [
      "                 No          year         month           day          hour  \\\n",
      "count  32504.000000  32504.000000  32504.000000  32504.000000  32504.000000   \n",
      "mean   17939.595619   2014.715174      6.449360     15.716035     11.530396   \n",
      "std    10040.092139      1.164038      3.436471      8.867932      6.943409   \n",
      "min       21.000000   2013.000000      1.000000      1.000000      0.000000   \n",
      "25%     9477.750000   2014.000000      3.000000      8.000000      6.000000   \n",
      "50%    18119.500000   2015.000000      6.000000     16.000000     12.000000   \n",
      "75%    26617.250000   2016.000000      9.000000     23.000000     18.000000   \n",
      "max    35064.000000   2017.000000     12.000000     31.000000     23.000000   \n",
      "\n",
      "              PM2.5          PM10           SO2           NO2            CO  \\\n",
      "count  32504.000000  32504.000000  32504.000000  32504.000000  32504.000000   \n",
      "mean      83.865653    119.085002     15.095190     55.583879   1325.509691   \n",
      "std       82.956802     96.796851     20.709432     36.473301   1213.640131   \n",
      "min        2.000000      2.000000      1.000000      2.000000    100.000000   \n",
      "25%       24.000000     45.000000      2.000000     26.000000    600.000000   \n",
      "50%       59.000000     99.000000      6.000000     50.000000    900.000000   \n",
      "75%      116.000000    167.000000     19.000000     79.000000   1600.000000   \n",
      "max      770.000000    994.000000    500.000000    271.000000  10000.000000   \n",
      "\n",
      "                 O3          TEMP          PRES          DEWP          RAIN  \\\n",
      "count  32504.000000  32504.000000  32504.000000  32504.000000  32504.000000   \n",
      "mean      58.280651     13.926933   1008.792848      2.632562      0.066124   \n",
      "std       57.402516     11.335756     10.154603     13.819851      0.862648   \n",
      "min        0.428400    -15.600000    984.000000    -34.600000      0.000000   \n",
      "25%       10.000000      3.700000   1000.300000     -8.900000      0.000000   \n",
      "50%       45.000000     14.800000   1008.400000      3.000000      0.000000   \n",
      "75%       84.000000     23.600000   1017.000000     15.400000      0.000000   \n",
      "max      450.000000     41.600000   1038.100000     27.400000     41.900000   \n",
      "\n",
      "               WSPM  \n",
      "count  32504.000000  \n",
      "mean       1.360549  \n",
      "std        1.157869  \n",
      "min        0.000000  \n",
      "25%        0.600000  \n",
      "50%        1.100000  \n",
      "75%        1.800000  \n",
      "max       12.000000  \n"
     ]
    }
   ],
   "source": [
    "print(describe_results[\"data6\"])"
   ]
  },
  {
   "cell_type": "code",
   "execution_count": 924,
   "metadata": {},
   "outputs": [
    {
     "name": "stdout",
     "output_type": "stream",
     "text": [
      "                 No          year         month           day          hour  \\\n",
      "count  31708.000000  31708.000000  31708.000000  31708.000000  31708.000000   \n",
      "mean   17854.999653   2014.697931      6.541504     15.668633     11.661063   \n",
      "std     9970.988647      1.165937      3.482337      8.802324      6.931031   \n",
      "min        1.000000   2013.000000      1.000000      1.000000      0.000000   \n",
      "25%     9310.750000   2014.000000      3.000000      8.000000      6.000000   \n",
      "50%    17872.500000   2015.000000      7.000000     16.000000     12.000000   \n",
      "75%    26456.250000   2016.000000     10.000000     23.000000     18.000000   \n",
      "max    35064.000000   2017.000000     12.000000     31.000000     23.000000   \n",
      "\n",
      "              PM2.5          PM10           SO2           NO2            CO  \\\n",
      "count  31708.000000  31708.000000  31708.000000  31708.000000  31708.000000   \n",
      "mean      70.285669     92.525792     12.275823     32.633827   1032.398291   \n",
      "std       71.171533     83.458181     18.951478     26.460130    904.704799   \n",
      "min        2.000000      3.000000      1.000000      2.000000    100.000000   \n",
      "25%       18.000000     29.000000      2.000000     13.000000    400.000000   \n",
      "50%       47.000000     70.000000      4.000000     25.000000    800.000000   \n",
      "75%       99.000000    132.000000     14.000000     46.000000   1300.000000   \n",
      "max      683.000000    993.000000    315.000000    231.000000  10000.000000   \n",
      "\n",
      "                 O3          TEMP          PRES          DEWP          RAIN  \\\n",
      "count  31708.000000  31708.000000  31708.000000  31708.000000  31708.000000   \n",
      "mean      59.722474     12.276487   1007.805223      2.064693      0.066904   \n",
      "std       54.914792     11.750159      9.979929     14.072017      0.852596   \n",
      "min        0.214200    -19.900000    982.800000    -34.900000      0.000000   \n",
      "25%       18.000000      2.000000    999.600000     -9.900000      0.000000   \n",
      "50%       49.000000     13.300000   1007.600000      2.300000      0.000000   \n",
      "75%       82.000000     22.200000   1015.700000     15.100000      0.000000   \n",
      "max      444.000000     40.300000   1036.500000     29.100000     45.900000   \n",
      "\n",
      "               WSPM  \n",
      "count  31708.000000  \n",
      "mean       1.654106  \n",
      "std        1.180881  \n",
      "min        0.000000  \n",
      "25%        0.900000  \n",
      "50%        1.300000  \n",
      "75%        2.000000  \n",
      "max       12.900000  \n"
     ]
    }
   ],
   "source": [
    "print(describe_results[\"data7\"])"
   ]
  },
  {
   "cell_type": "code",
   "execution_count": 925,
   "metadata": {},
   "outputs": [
    {
     "name": "stdout",
     "output_type": "stream",
     "text": [
      "                 No          year         month           day          hour  \\\n",
      "count  33114.000000  33114.000000  33114.000000  33114.000000  33114.000000   \n",
      "mean   17651.646554   2014.681373      6.461799     15.685420     11.519176   \n",
      "std    10079.349513      1.170139      3.439149      8.823626      6.948669   \n",
      "min        1.000000   2013.000000      1.000000      1.000000      0.000000   \n",
      "25%     9071.250000   2014.000000      3.000000      8.000000      6.000000   \n",
      "50%    17735.500000   2015.000000      6.000000     16.000000     11.000000   \n",
      "75%    26323.750000   2016.000000      9.000000     23.000000     18.000000   \n",
      "max    35064.000000   2017.000000     12.000000     31.000000     23.000000   \n",
      "\n",
      "              PM2.5          PM10           SO2           NO2            CO  \\\n",
      "count  33114.000000  33114.000000  33114.000000  33114.000000  33114.000000   \n",
      "mean      84.720783    109.175929     18.560198     58.213457   1327.784381   \n",
      "std       85.633679     95.022778     24.109360     36.379472   1248.356734   \n",
      "min        2.000000      2.000000      1.000000      2.000000    100.000000   \n",
      "25%       22.000000     38.000000      3.000000     29.000000    500.000000   \n",
      "50%       59.000000     86.000000      9.000000     51.000000    900.000000   \n",
      "75%      116.000000    149.000000     23.000000     80.000000   1600.000000   \n",
      "max      844.000000    995.000000    257.000000    273.000000  10000.000000   \n",
      "\n",
      "                 O3          TEMP          PRES          DEWP          RAIN  \\\n",
      "count  33114.000000  33114.000000  33114.000000  33114.000000  33114.000000   \n",
      "mean      58.614905     13.698473   1012.495573      2.521988      0.066896   \n",
      "std       58.561702     11.447876     10.268242     13.789830      0.807603   \n",
      "min        0.214200    -16.800000    987.100000    -35.300000      0.000000   \n",
      "25%       10.000000      3.200000   1003.900000     -8.700000      0.000000   \n",
      "50%       45.000000     14.600000   1012.100000      3.200000      0.000000   \n",
      "75%       84.000000     23.500000   1020.900000     15.100000      0.000000   \n",
      "max      390.000000     41.100000   1042.000000     28.800000     46.400000   \n",
      "\n",
      "               WSPM  \n",
      "count  33114.000000  \n",
      "mean       1.858045  \n",
      "std        1.272080  \n",
      "min        0.000000  \n",
      "25%        1.000000  \n",
      "50%        1.500000  \n",
      "75%        2.400000  \n",
      "max       10.500000  \n"
     ]
    }
   ],
   "source": [
    "print(describe_results[\"data8\"])"
   ]
  },
  {
   "cell_type": "code",
   "execution_count": 926,
   "metadata": {},
   "outputs": [
    {
     "name": "stdout",
     "output_type": "stream",
     "text": [
      "                 No          year         month           day          hour  \\\n",
      "count  30194.000000  30194.000000  30194.000000  30194.000000  30194.000000   \n",
      "mean   17586.308902   2014.672286      6.477214     15.797244     11.750447   \n",
      "std     9945.744376      1.162176      3.531983      8.782419      6.881524   \n",
      "min        1.000000   2013.000000      1.000000      1.000000      0.000000   \n",
      "25%     9084.250000   2014.000000      3.000000      8.000000      6.000000   \n",
      "50%    17607.500000   2015.000000      6.000000     16.000000     12.000000   \n",
      "75%    25872.750000   2016.000000     10.000000     23.000000     18.000000   \n",
      "max    35064.000000   2017.000000     12.000000     31.000000     23.000000   \n",
      "\n",
      "              PM2.5          PM10           SO2           NO2            CO  \\\n",
      "count  30194.000000  30194.000000  30194.000000  30194.000000  30194.000000   \n",
      "mean      79.400725     99.380546     14.144105     44.838483   1201.778267   \n",
      "std       81.222687     89.806815     20.111407     30.988580   1157.599187   \n",
      "min        2.000000      2.000000      1.000000      2.000000    100.000000   \n",
      "25%       19.000000     31.000000      2.000000     20.000000    400.000000   \n",
      "50%       55.000000     77.000000      5.000000     38.000000    900.000000   \n",
      "75%      111.000000    140.000000     18.000000     63.000000   1500.000000   \n",
      "max      762.000000    999.000000    207.000000    258.000000  10000.000000   \n",
      "\n",
      "                 O3          TEMP          PRES          DEWP          RAIN  \\\n",
      "count  30194.000000  30194.000000  30194.000000  30194.000000  30194.000000   \n",
      "mean      55.297919     12.787637   1013.648045      1.542873      0.055150   \n",
      "std       54.106029     11.451568     10.120229     13.657590      0.711516   \n",
      "min        0.214200    -16.800000    988.000000    -36.000000      0.000000   \n",
      "25%       11.000000      2.500000   1005.400000     -9.600000      0.000000   \n",
      "50%       44.000000     13.300000   1013.400000      1.400000      0.000000   \n",
      "75%       77.000000     22.600000   1021.600000     14.100000      0.000000   \n",
      "max      340.000000     39.000000   1042.800000     27.500000     37.300000   \n",
      "\n",
      "               WSPM  \n",
      "count  30194.000000  \n",
      "mean       1.842306  \n",
      "std        1.294560  \n",
      "min        0.000000  \n",
      "25%        1.000000  \n",
      "50%        1.500000  \n",
      "75%        2.300000  \n",
      "max       12.800000  \n"
     ]
    }
   ],
   "source": [
    "print(describe_results[\"data9\"])"
   ]
  },
  {
   "cell_type": "code",
   "execution_count": 927,
   "metadata": {},
   "outputs": [
    {
     "name": "stdout",
     "output_type": "stream",
     "text": [
      "                 No          year         month           day          hour  \\\n",
      "count  32843.000000  32843.000000  32843.000000  32843.000000  32843.000000   \n",
      "mean   17807.867217   2014.693481      6.533447     15.579697     11.527449   \n",
      "std    10119.373561      1.178400      3.451280      8.802954      6.945901   \n",
      "min        1.000000   2013.000000      1.000000      1.000000      0.000000   \n",
      "25%     9026.500000   2014.000000      4.000000      8.000000      6.000000   \n",
      "50%    18025.000000   2015.000000      7.000000     15.000000     12.000000   \n",
      "75%    26551.500000   2016.000000     10.000000     23.000000     18.000000   \n",
      "max    35064.000000   2017.000000     12.000000     31.000000     23.000000   \n",
      "\n",
      "              PM2.5          PM10           SO2           NO2            CO  \\\n",
      "count  32843.000000  32843.000000  32843.000000  32843.000000  32843.000000   \n",
      "mean      81.749840    105.627866     14.140742     53.213083   1297.434187   \n",
      "std       79.881882     88.640813     19.785953     32.008904   1162.709669   \n",
      "min        3.000000      2.000000      1.000000      2.000000    100.000000   \n",
      "25%       22.000000     40.000000      3.000000     28.000000    500.000000   \n",
      "50%       58.000000     85.000000      7.000000     47.000000    900.000000   \n",
      "75%      113.000000    143.000000     17.000000     71.000000   1600.000000   \n",
      "max      821.000000    988.000000    230.000000    238.000000  10000.000000   \n",
      "\n",
      "                 O3          TEMP          PRES          DEWP          RAIN  \\\n",
      "count  32843.000000  32843.000000  32843.000000  32843.000000  32843.000000   \n",
      "mean      55.297030     13.632013   1012.607762      2.495482      0.065585   \n",
      "std       58.395485     11.393054     10.178583     13.854362      0.802663   \n",
      "min        0.428400    -16.800000    987.100000    -35.300000      0.000000   \n",
      "25%        7.000000      3.200000   1004.200000     -8.700000      0.000000   \n",
      "50%       40.000000     14.500000   1012.300000      3.100000      0.000000   \n",
      "75%       80.000000     23.400000   1020.800000     15.100000      0.000000   \n",
      "max      674.000000     38.400000   1042.000000     28.800000     46.400000   \n",
      "\n",
      "               WSPM  \n",
      "count  32843.000000  \n",
      "mean       1.853415  \n",
      "std        1.273672  \n",
      "min        0.000000  \n",
      "25%        1.000000  \n",
      "50%        1.500000  \n",
      "75%        2.400000  \n",
      "max       10.500000  \n"
     ]
    }
   ],
   "source": [
    "print(describe_results[\"data10\"])"
   ]
  },
  {
   "cell_type": "code",
   "execution_count": 928,
   "metadata": {},
   "outputs": [
    {
     "name": "stdout",
     "output_type": "stream",
     "text": [
      "                 No          year         month           day          hour  \\\n",
      "count  30634.000000  30634.000000  30634.000000  30634.000000  30634.000000   \n",
      "mean   18281.563067   2014.752954      6.459587     15.853627     11.716687   \n",
      "std    10088.872293      1.160205      3.373101      8.864187      6.908334   \n",
      "min        1.000000   2013.000000      1.000000      1.000000      0.000000   \n",
      "25%    10147.250000   2014.000000      3.000000      8.000000      6.000000   \n",
      "50%    18933.500000   2015.000000      7.000000     16.000000     12.000000   \n",
      "75%    27013.750000   2016.000000      9.000000     24.000000     18.000000   \n",
      "max    35064.000000   2017.000000     12.000000     31.000000     23.000000   \n",
      "\n",
      "              PM2.5          PM10           SO2           NO2            CO  \\\n",
      "count  30634.000000  30634.000000  30634.000000  30634.000000  30634.000000   \n",
      "mean      81.981459    108.765861     17.700088     64.429290   1293.450153   \n",
      "std       80.976505     91.696002     21.655131     37.944554   1238.370788   \n",
      "min        2.000000      2.000000      0.285600      2.000000    100.000000   \n",
      "25%       23.000000     40.000000      4.000000     35.000000    500.000000   \n",
      "50%       57.000000     86.000000     10.000000     58.305200    900.000000   \n",
      "75%      114.000000    150.000000     22.000000     87.000000   1500.000000   \n",
      "max      770.000000    923.000000    204.000000    264.000000  10000.000000   \n",
      "\n",
      "                 O3          TEMP          PRES          DEWP          RAIN  \\\n",
      "count  30634.000000  30634.000000  30634.000000  30634.000000  30634.000000   \n",
      "mean      49.474836     14.020991   1010.748772      3.831086      0.074695   \n",
      "std       55.772630     11.365609     10.410570     13.804524      0.951957   \n",
      "min        0.214200    -15.800000    985.900000    -34.900000      0.000000   \n",
      "25%        4.000000      3.700000   1002.100000     -7.700000      0.000000   \n",
      "50%       32.000000     15.300000   1010.000000      5.200000      0.000000   \n",
      "75%       74.000000     23.500000   1019.100000     16.500000      0.000000   \n",
      "max      364.000000     40.500000   1040.300000     28.500000     72.500000   \n",
      "\n",
      "               WSPM  \n",
      "count  30634.000000  \n",
      "mean       1.502971  \n",
      "std        1.090126  \n",
      "min        0.000000  \n",
      "25%        0.800000  \n",
      "50%        1.300000  \n",
      "75%        2.000000  \n",
      "max       11.200000  \n"
     ]
    }
   ],
   "source": [
    "print(describe_results[\"data11\"])"
   ]
  },
  {
   "cell_type": "code",
   "execution_count": 929,
   "metadata": {},
   "outputs": [
    {
     "name": "stdout",
     "output_type": "stream",
     "text": [
      "                 No          year         month           day          hour  \\\n",
      "count  32768.000000  32768.000000  32768.000000  32768.000000  32768.000000   \n",
      "mean   17813.193787   2014.696228      6.504272     15.705750     11.530457   \n",
      "std    10033.128152      1.163612      3.451823      8.794971      6.927700   \n",
      "min        1.000000   2013.000000      1.000000      1.000000      0.000000   \n",
      "25%     9401.750000   2014.000000      4.000000      8.000000      6.000000   \n",
      "50%    17925.500000   2015.000000      7.000000     16.000000     12.000000   \n",
      "75%    26452.250000   2016.000000     10.000000     23.000000     18.000000   \n",
      "max    35064.000000   2017.000000     12.000000     31.000000     23.000000   \n",
      "\n",
      "              PM2.5          PM10           SO2           NO2            CO  \\\n",
      "count  32768.000000  32768.000000  32768.000000  32768.000000  32768.000000   \n",
      "mean      84.238510    111.918692     17.152569     55.307181   1362.531647   \n",
      "std       84.583645     96.632285     23.758647     35.695505   1221.299973   \n",
      "min        3.000000      2.000000      0.571200      2.000000    100.000000   \n",
      "25%       22.000000     39.000000      3.000000     28.000000    600.000000   \n",
      "50%       60.000000     90.000000      8.000000     48.000000   1000.000000   \n",
      "75%      115.000000    153.000000     21.000000     76.000000   1700.000000   \n",
      "max      823.000000    961.000000    273.000000    241.000000   9800.000000   \n",
      "\n",
      "                 O3          TEMP          PRES          DEWP          RAIN  \\\n",
      "count  32768.000000  32768.000000  32768.000000  32768.000000  32768.000000   \n",
      "mean      55.922622     13.773187   1011.560042      2.607440      0.062372   \n",
      "std       57.035526     11.371280     10.554562     13.719285      0.786202   \n",
      "min        0.214200    -16.800000    985.100000    -35.300000      0.000000   \n",
      "25%        8.000000      3.500000   1003.000000     -8.600000      0.000000   \n",
      "50%       42.000000     14.700000   1011.000000      3.200000      0.000000   \n",
      "75%       82.000000     23.500000   1020.000000     15.100000      0.000000   \n",
      "max      358.000000     40.600000   1042.000000     28.500000     46.400000   \n",
      "\n",
      "               WSPM  \n",
      "count  32768.000000  \n",
      "mean       1.755984  \n",
      "std        1.203560  \n",
      "min        0.000000  \n",
      "25%        0.900000  \n",
      "50%        1.400000  \n",
      "75%        2.300000  \n",
      "max       13.200000  \n"
     ]
    }
   ],
   "source": [
    "print(describe_results[\"data12\"])"
   ]
  },
  {
   "cell_type": "markdown",
   "metadata": {},
   "source": [
    "### Pengelompokan Semua Data berdasarkan tren tahunan"
   ]
  },
  {
   "cell_type": "code",
   "execution_count": 930,
   "metadata": {},
   "outputs": [],
   "source": [
    "def get_season(month):\n",
    "    if month in [12, 1, 2]:\n",
    "        return 'Winter'\n",
    "    elif month in [3, 4, 5]:\n",
    "        return 'Spring'\n",
    "    elif month in [6, 7, 8]:\n",
    "        return 'Summer'\n",
    "    else:\n",
    "        return 'Autumn'\n",
    "    \n",
    "for name, df in datasets.items():\n",
    "    if 'month' in df.columns:\n",
    "        df['season'] = df['month'].apply(get_season)\n",
    "\n",
    "pollution_analysis = {\n",
    "    name: {\n",
    "        \"yearly\": df.groupby('year')[['PM2.5', 'PM10']].mean() if 'year' in df.columns else None,\n",
    "        \"seasonal\": df.groupby('season')[['PM2.5', 'PM10']].mean() if 'season' in df.columns else None\n",
    "    }\n",
    "    for name, df in datasets.items()\n",
    "}"
   ]
  },
  {
   "cell_type": "markdown",
   "metadata": {},
   "source": [
    "##### Data 1"
   ]
  },
  {
   "cell_type": "code",
   "execution_count": 931,
   "metadata": {},
   "outputs": [
    {
     "name": "stdout",
     "output_type": "stream",
     "text": [
      "          PM2.5        PM10\n",
      "year                       \n",
      "2013  81.752918  112.373625\n",
      "2014  90.201877  121.718791\n",
      "2015  79.639229  109.548314\n",
      "2016  73.894794   94.281883\n",
      "2017  95.325616  108.040329\n",
      "            PM2.5        PM10\n",
      "season                       \n",
      "Autumn  84.869684  108.386642\n",
      "Spring  81.251440  131.615707\n",
      "Summer  66.813323   80.572797\n",
      "Winter  95.216578  116.079125\n"
     ]
    }
   ],
   "source": [
    "print(pollution_analysis[\"data1\"][\"yearly\"])\n",
    "print(pollution_analysis[\"data1\"][\"seasonal\"])"
   ]
  },
  {
   "cell_type": "markdown",
   "metadata": {},
   "source": [
    "##### Data 2"
   ]
  },
  {
   "cell_type": "code",
   "execution_count": 932,
   "metadata": {},
   "outputs": [
    {
     "name": "stdout",
     "output_type": "stream",
     "text": [
      "          PM2.5        PM10\n",
      "year                       \n",
      "2013  70.793076   90.422623\n",
      "2014  79.005075  106.122316\n",
      "2015  69.377287   93.497604\n",
      "2016  60.837451   85.564015\n",
      "2017  79.469373   93.792620\n",
      "            PM2.5        PM10\n",
      "season                       \n",
      "Autumn  70.753382   90.260558\n",
      "Spring  71.781672  111.950549\n",
      "Summer  55.129211   69.579905\n",
      "Winter  83.074646  103.381502\n"
     ]
    }
   ],
   "source": [
    "print(pollution_analysis[\"data2\"][\"yearly\"])\n",
    "print(pollution_analysis[\"data2\"][\"seasonal\"]) "
   ]
  },
  {
   "cell_type": "markdown",
   "metadata": {},
   "source": [
    "##### Data 3"
   ]
  },
  {
   "cell_type": "code",
   "execution_count": 933,
   "metadata": {},
   "outputs": [
    {
     "name": "stdout",
     "output_type": "stream",
     "text": [
      "          PM2.5       PM10\n",
      "year                      \n",
      "2013  66.920524  79.876749\n",
      "2014  74.994575  91.313233\n",
      "2015  64.496995  85.385466\n",
      "2016  59.147778  80.785760\n",
      "2017  68.527367  78.922337\n",
      "            PM2.5        PM10\n",
      "season                       \n",
      "Autumn  66.624287   79.114508\n",
      "Spring  68.923001  104.405279\n",
      "Summer  52.797544   62.715137\n",
      "Winter  77.494896   90.688885\n"
     ]
    }
   ],
   "source": [
    "print(pollution_analysis[\"data3\"][\"yearly\"])\n",
    "print(pollution_analysis[\"data3\"][\"seasonal\"]) "
   ]
  },
  {
   "cell_type": "markdown",
   "metadata": {},
   "source": [
    "##### Data 4"
   ]
  },
  {
   "cell_type": "code",
   "execution_count": 934,
   "metadata": {},
   "outputs": [
    {
     "name": "stdout",
     "output_type": "stream",
     "text": [
      "          PM2.5        PM10\n",
      "year                       \n",
      "2013  89.258854  111.807390\n",
      "2014  82.468891  114.785129\n",
      "2015  87.031096  111.775149\n",
      "2016  80.304521  103.554159\n",
      "2017  99.471031  127.714071\n",
      "            PM2.5        PM10\n",
      "season                       \n",
      "Autumn  89.624157  113.055096\n",
      "Spring  82.404134  125.435220\n",
      "Summer  67.853640   80.404440\n",
      "Winter  99.350092  121.662109\n"
     ]
    }
   ],
   "source": [
    "print(pollution_analysis[\"data4\"][\"yearly\"])\n",
    "print(pollution_analysis[\"data4\"][\"seasonal\"])"
   ]
  },
  {
   "cell_type": "markdown",
   "metadata": {},
   "source": [
    "##### Data 5"
   ]
  },
  {
   "cell_type": "code",
   "execution_count": 935,
   "metadata": {},
   "outputs": [
    {
     "name": "stdout",
     "output_type": "stream",
     "text": [
      "          PM2.5        PM10\n",
      "year                       \n",
      "2013  83.067467  107.101548\n",
      "2014  88.292366  116.161403\n",
      "2015  82.519743  106.694346\n",
      "2016  77.084510  105.176736\n",
      "2017  93.163623  111.456621\n",
      "            PM2.5        PM10\n",
      "season                       \n",
      "Autumn  87.218294  108.424823\n",
      "Spring  78.670491  124.960957\n",
      "Summer  68.949622   86.043183\n",
      "Winter  98.473570  117.196190\n"
     ]
    }
   ],
   "source": [
    "print(pollution_analysis[\"data5\"][\"yearly\"])\n",
    "print(pollution_analysis[\"data5\"][\"seasonal\"])"
   ]
  },
  {
   "cell_type": "markdown",
   "metadata": {},
   "source": [
    "##### Data 6"
   ]
  },
  {
   "cell_type": "code",
   "execution_count": 936,
   "metadata": {},
   "outputs": [
    {
     "name": "stdout",
     "output_type": "stream",
     "text": [
      "           PM2.5        PM10\n",
      "year                        \n",
      "2013   82.728291  113.759130\n",
      "2014   89.051769  133.696756\n",
      "2015   83.618192  116.208587\n",
      "2016   77.357076  110.748354\n",
      "2017  100.379362  125.654046\n",
      "             PM2.5        PM10\n",
      "season                        \n",
      "Autumn   88.463707  117.444091\n",
      "Spring   80.743797  139.145580\n",
      "Summer   66.449697   97.470562\n",
      "Winter  100.966974  122.967175\n"
     ]
    }
   ],
   "source": [
    "print(pollution_analysis[\"data6\"][\"yearly\"])\n",
    "print(pollution_analysis[\"data6\"][\"seasonal\"])"
   ]
  },
  {
   "cell_type": "markdown",
   "metadata": {},
   "source": [
    "##### Data 7"
   ]
  },
  {
   "cell_type": "code",
   "execution_count": 937,
   "metadata": {},
   "outputs": [
    {
     "name": "stdout",
     "output_type": "stream",
     "text": [
      "          PM2.5        PM10\n",
      "year                       \n",
      "2013  71.589300   98.433698\n",
      "2014  76.980720  100.198586\n",
      "2015  71.188282   90.461231\n",
      "2016  61.124690   82.569465\n",
      "2017  73.817841   91.836582\n",
      "            PM2.5        PM10\n",
      "season                       \n",
      "Autumn  70.309014   87.812734\n",
      "Spring  71.785155  110.171432\n",
      "Summer  58.798461   78.179215\n",
      "Winter  79.994585   93.953602\n"
     ]
    }
   ],
   "source": [
    "print(pollution_analysis[\"data7\"][\"yearly\"])\n",
    "print(pollution_analysis[\"data7\"][\"seasonal\"])"
   ]
  },
  {
   "cell_type": "markdown",
   "metadata": {},
   "source": [
    "##### Data 8"
   ]
  },
  {
   "cell_type": "code",
   "execution_count": 938,
   "metadata": {},
   "outputs": [
    {
     "name": "stdout",
     "output_type": "stream",
     "text": [
      "          PM2.5        PM10\n",
      "year                       \n",
      "2013  85.517029  104.472318\n",
      "2014  90.352720  125.775208\n",
      "2015  85.117655  107.234883\n",
      "2016  75.725787   97.062739\n",
      "2017  99.681073  117.883756\n",
      "             PM2.5        PM10\n",
      "season                        \n",
      "Autumn   90.647753  112.300870\n",
      "Spring   78.948869  120.190531\n",
      "Summer   65.983857   80.847827\n",
      "Winter  104.353630  124.251824\n"
     ]
    }
   ],
   "source": [
    "print(pollution_analysis[\"data8\"][\"yearly\"])\n",
    "print(pollution_analysis[\"data8\"][\"seasonal\"])"
   ]
  },
  {
   "cell_type": "markdown",
   "metadata": {},
   "source": [
    "##### Data 9"
   ]
  },
  {
   "cell_type": "code",
   "execution_count": 939,
   "metadata": {},
   "outputs": [
    {
     "name": "stdout",
     "output_type": "stream",
     "text": [
      "          PM2.5        PM10\n",
      "year                       \n",
      "2013  78.597429   98.928202\n",
      "2014  84.546379  110.994835\n",
      "2015  80.527901   99.289145\n",
      "2016  71.076625   86.734100\n",
      "2017  92.013997  103.431571\n",
      "            PM2.5        PM10\n",
      "season                       \n",
      "Autumn  80.507502  100.462815\n",
      "Spring  78.029191  112.409038\n",
      "Summer  65.659661   78.936272\n",
      "Winter  92.127109  104.419125\n"
     ]
    }
   ],
   "source": [
    "print(pollution_analysis[\"data9\"][\"yearly\"])\n",
    "print(pollution_analysis[\"data9\"][\"seasonal\"]) "
   ]
  },
  {
   "cell_type": "markdown",
   "metadata": {},
   "source": [
    "##### Data 10"
   ]
  },
  {
   "cell_type": "code",
   "execution_count": 940,
   "metadata": {},
   "outputs": [
    {
     "name": "stdout",
     "output_type": "stream",
     "text": [
      "          PM2.5        PM10\n",
      "year                       \n",
      "2013  84.297693  109.216208\n",
      "2014  86.242809  112.865709\n",
      "2015  81.467797  101.996219\n",
      "2016  73.914747   97.253771\n",
      "2017  94.715679  121.994749\n",
      "            PM2.5        PM10\n",
      "season                       \n",
      "Autumn  84.043746  104.583770\n",
      "Spring  76.065023  113.726371\n",
      "Summer  68.653097   84.960334\n",
      "Winter  98.830198  120.482725\n"
     ]
    }
   ],
   "source": [
    "print(pollution_analysis[\"data10\"][\"yearly\"])\n",
    "print(pollution_analysis[\"data10\"][\"seasonal\"])"
   ]
  },
  {
   "cell_type": "markdown",
   "metadata": {},
   "source": [
    "##### Data 11"
   ]
  },
  {
   "cell_type": "code",
   "execution_count": 941,
   "metadata": {},
   "outputs": [
    {
     "name": "stdout",
     "output_type": "stream",
     "text": [
      "          PM2.5        PM10\n",
      "year                       \n",
      "2013  89.917593  109.046759\n",
      "2014  87.546054  129.420364\n",
      "2015  80.620131  104.998840\n",
      "2016  71.393692   92.963425\n",
      "2017  91.388682  107.669397\n",
      "            PM2.5        PM10\n",
      "season                       \n",
      "Autumn  84.945370  108.479749\n",
      "Spring  79.456573  125.635141\n",
      "Summer  68.573918   86.010140\n",
      "Winter  96.978307  117.490658\n"
     ]
    }
   ],
   "source": [
    "print(pollution_analysis[\"data11\"][\"yearly\"])\n",
    "print(pollution_analysis[\"data11\"][\"seasonal\"])"
   ]
  },
  {
   "cell_type": "markdown",
   "metadata": {},
   "source": [
    "##### Data 12"
   ]
  },
  {
   "cell_type": "code",
   "execution_count": 942,
   "metadata": {},
   "outputs": [
    {
     "name": "stdout",
     "output_type": "stream",
     "text": [
      "           PM2.5        PM10\n",
      "year                        \n",
      "2013   83.597009  111.103743\n",
      "2014   87.970723  125.921362\n",
      "2015   83.987719  110.538498\n",
      "2016   78.224454   99.167513\n",
      "2017  104.731575  119.342126\n",
      "             PM2.5        PM10\n",
      "season                        \n",
      "Autumn   84.522859  109.883225\n",
      "Spring   78.868440  122.880380\n",
      "Summer   67.181752   85.381800\n",
      "Winter  106.823834  129.300567\n"
     ]
    }
   ],
   "source": [
    "print(pollution_analysis[\"data12\"][\"yearly\"])\n",
    "print(pollution_analysis[\"data12\"][\"seasonal\"])"
   ]
  },
  {
   "cell_type": "markdown",
   "metadata": {},
   "source": [
    "### Pengolompokan Semua Data berdasarkan faktor cuaca"
   ]
  },
  {
   "cell_type": "code",
   "execution_count": 943,
   "metadata": {},
   "outputs": [],
   "source": [
    "weather_pollution_groupby = {\n",
    "    name: df.groupby('year')[['PM2.5', 'PM10', 'TEMP', 'WSPM', 'RAIN']].mean()\n",
    "    for name, df in datasets.items() if 'year' in df.columns\n",
    "}\n"
   ]
  },
  {
   "cell_type": "markdown",
   "metadata": {},
   "source": [
    "##### Data 1"
   ]
  },
  {
   "cell_type": "code",
   "execution_count": 944,
   "metadata": {},
   "outputs": [
    {
     "name": "stdout",
     "output_type": "stream",
     "text": [
      "          PM2.5        PM10       TEMP      WSPM      RAIN\n",
      "year                                                      \n",
      "2013  81.752918  112.373625  16.011787  1.554652  0.069840\n",
      "2014  90.201877  121.718791  14.508445  1.461504  0.061016\n",
      "2015  79.639229  109.548314  13.439490  1.891921  0.069226\n",
      "2016  73.894794   94.281883  13.890870  1.879080  0.083716\n",
      "2017  95.325616  108.040329   0.744240  1.977371  0.002763\n"
     ]
    }
   ],
   "source": [
    "print(weather_pollution_groupby[\"data1\"])"
   ]
  },
  {
   "cell_type": "markdown",
   "metadata": {},
   "source": [
    "##### Data 2"
   ]
  },
  {
   "cell_type": "code",
   "execution_count": 945,
   "metadata": {},
   "outputs": [
    {
     "name": "stdout",
     "output_type": "stream",
     "text": [
      "          PM2.5        PM10       TEMP      WSPM      RAIN\n",
      "year                                                      \n",
      "2013  70.793076   90.422623  15.157754  1.686200  0.062013\n",
      "2014  79.005075  106.122316  14.140396  1.872334  0.039556\n",
      "2015  69.377287   93.497604  13.445787  1.828195  0.085140\n",
      "2016  60.837451   85.564015  13.400505  1.983237  0.066344\n",
      "2017  79.469373   93.792620   0.472576  2.151587  0.001255\n"
     ]
    }
   ],
   "source": [
    "print(weather_pollution_groupby[\"data2\"])"
   ]
  },
  {
   "cell_type": "markdown",
   "metadata": {},
   "source": [
    "##### Data 3"
   ]
  },
  {
   "cell_type": "code",
   "execution_count": 946,
   "metadata": {},
   "outputs": [
    {
     "name": "stdout",
     "output_type": "stream",
     "text": [
      "          PM2.5       PM10       TEMP      WSPM      RAIN\n",
      "year                                                     \n",
      "2013  66.920524  79.876749  16.682562  1.620201  0.079064\n",
      "2014  74.994575  91.313233  14.422116  1.852627  0.036070\n",
      "2015  64.496995  85.385466  13.621925  1.825540  0.082485\n",
      "2016  59.147778  80.785760  12.618860  1.991727  0.067025\n",
      "2017  68.527367  78.922337   0.433247  2.136391  0.001479\n"
     ]
    }
   ],
   "source": [
    "print(weather_pollution_groupby[\"data3\"])"
   ]
  },
  {
   "cell_type": "markdown",
   "metadata": {},
   "source": [
    "##### Data 4"
   ]
  },
  {
   "cell_type": "code",
   "execution_count": 947,
   "metadata": {},
   "outputs": [
    {
     "name": "stdout",
     "output_type": "stream",
     "text": [
      "          PM2.5        PM10       TEMP      WSPM      RAIN\n",
      "year                                                      \n",
      "2013  89.258854  111.807390  15.044644  1.863030  0.032073\n",
      "2014  82.468891  114.785129  15.490016  1.815436  0.058946\n",
      "2015  87.031096  111.775149  13.355462  1.927038  0.073184\n",
      "2016  80.304521  103.554159  13.474692  1.853494  0.077744\n",
      "2017  99.471031  127.714071   0.688799  1.999549  0.002784\n"
     ]
    }
   ],
   "source": [
    "print(weather_pollution_groupby[\"data4\"])"
   ]
  },
  {
   "cell_type": "markdown",
   "metadata": {},
   "source": [
    "##### Data 5"
   ]
  },
  {
   "cell_type": "code",
   "execution_count": 948,
   "metadata": {},
   "outputs": [
    {
     "name": "stdout",
     "output_type": "stream",
     "text": [
      "          PM2.5        PM10       TEMP      WSPM      RAIN\n",
      "year                                                      \n",
      "2013  83.067467  107.101548  17.047522  1.525509  0.090315\n",
      "2014  88.292366  116.161403  13.924997  1.493547  0.049872\n",
      "2015  82.519743  106.694346  13.421280  1.883995  0.073189\n",
      "2016  77.084510  105.176736  13.543920  1.861507  0.080736\n",
      "2017  93.163623  111.456621   0.641936  1.997793  0.001979\n"
     ]
    }
   ],
   "source": [
    "print(weather_pollution_groupby[\"data5\"])"
   ]
  },
  {
   "cell_type": "markdown",
   "metadata": {},
   "source": [
    "##### Data 6"
   ]
  },
  {
   "cell_type": "code",
   "execution_count": 949,
   "metadata": {},
   "outputs": [
    {
     "name": "stdout",
     "output_type": "stream",
     "text": [
      "           PM2.5        PM10       TEMP      WSPM      RAIN\n",
      "year                                                       \n",
      "2013   82.728291  113.759130  16.780863  1.016815  0.076643\n",
      "2014   89.051769  133.696756  14.452298  1.127808  0.036016\n",
      "2015   83.618192  116.208587  13.951934  1.123281  0.082371\n",
      "2016   77.357076  110.748354  13.485537  1.909450  0.081523\n",
      "2017  100.379362  125.654046   0.332402  2.342687  0.001930\n"
     ]
    }
   ],
   "source": [
    "print(weather_pollution_groupby[\"data6\"])"
   ]
  },
  {
   "cell_type": "markdown",
   "metadata": {},
   "source": [
    "##### Data 7"
   ]
  },
  {
   "cell_type": "code",
   "execution_count": 950,
   "metadata": {},
   "outputs": [
    {
     "name": "stdout",
     "output_type": "stream",
     "text": [
      "          PM2.5        PM10       TEMP      WSPM      RAIN\n",
      "year                                                      \n",
      "2013  71.589300   98.433698  14.250938  1.399902  0.067493\n",
      "2014  76.980720  100.198586  12.669206  1.586166  0.050521\n",
      "2015  71.188282   90.461231  12.351376  1.734661  0.083274\n",
      "2016  61.124690   82.569465  12.524523  1.791147  0.076734\n",
      "2017  73.817841   91.836582  -1.127512  1.913718  0.004198\n"
     ]
    }
   ],
   "source": [
    "print(weather_pollution_groupby[\"data7\"])"
   ]
  },
  {
   "cell_type": "markdown",
   "metadata": {},
   "source": [
    "##### Data 8"
   ]
  },
  {
   "cell_type": "code",
   "execution_count": 951,
   "metadata": {},
   "outputs": [
    {
     "name": "stdout",
     "output_type": "stream",
     "text": [
      "          PM2.5        PM10       TEMP      WSPM      RAIN\n",
      "year                                                      \n",
      "2013  85.517029  104.472318  16.472768  1.800870  0.062836\n",
      "2014  90.352720  125.775208  13.935445  1.826867  0.057112\n",
      "2015  85.117655  107.234883  13.408935  1.905490  0.075124\n",
      "2016  75.725787   97.062739  13.632264  1.866365  0.081787\n",
      "2017  99.681073  117.883756   0.689635  1.984426  0.002757\n"
     ]
    }
   ],
   "source": [
    "print(weather_pollution_groupby[\"data8\"])"
   ]
  },
  {
   "cell_type": "markdown",
   "metadata": {},
   "source": [
    "##### Data 9"
   ]
  },
  {
   "cell_type": "code",
   "execution_count": 952,
   "metadata": {},
   "outputs": [
    {
     "name": "stdout",
     "output_type": "stream",
     "text": [
      "          PM2.5        PM10       TEMP      WSPM      RAIN\n",
      "year                                                      \n",
      "2013  78.597429   98.928202  13.962982  1.832009  0.041576\n",
      "2014  84.546379  110.994835  13.394705  1.740034  0.042344\n",
      "2015  80.527901   99.289145  13.379852  1.802889  0.079677\n",
      "2016  71.076625   86.734100  12.757589  1.957074  0.062228\n",
      "2017  92.013997  103.431571   0.162657  2.104121  0.002877\n"
     ]
    }
   ],
   "source": [
    "print(weather_pollution_groupby[\"data9\"])"
   ]
  },
  {
   "cell_type": "markdown",
   "metadata": {},
   "source": [
    "##### Data 10"
   ]
  },
  {
   "cell_type": "code",
   "execution_count": 953,
   "metadata": {},
   "outputs": [
    {
     "name": "stdout",
     "output_type": "stream",
     "text": [
      "          PM2.5        PM10       TEMP      WSPM      RAIN\n",
      "year                                                      \n",
      "2013  84.297693  109.216208  16.363206  1.793182  0.062334\n",
      "2014  86.242809  112.865709  13.716250  1.796211  0.056714\n",
      "2015  81.467797  101.996219  13.281339  1.929276  0.069800\n",
      "2016  73.914747   97.253771  13.759639  1.856414  0.081838\n",
      "2017  94.715679  121.994749   0.687738  1.992573  0.002776\n"
     ]
    }
   ],
   "source": [
    "print(weather_pollution_groupby[\"data10\"])"
   ]
  },
  {
   "cell_type": "markdown",
   "metadata": {},
   "source": [
    "##### Data 11"
   ]
  },
  {
   "cell_type": "code",
   "execution_count": 954,
   "metadata": {},
   "outputs": [
    {
     "name": "stdout",
     "output_type": "stream",
     "text": [
      "          PM2.5        PM10       TEMP      WSPM      RAIN\n",
      "year                                                      \n",
      "2013  89.917593  109.046759  18.002907  1.555426  0.092889\n",
      "2014  87.546054  129.420364  14.798024  1.489157  0.062749\n",
      "2015  80.620131  104.998840  13.393680  1.451669  0.075280\n",
      "2016  71.393692   92.963425  13.478110  1.475465  0.085178\n",
      "2017  91.388682  107.669397   0.496514  1.839389  0.002383\n"
     ]
    }
   ],
   "source": [
    "print(weather_pollution_groupby[\"data11\"])"
   ]
  },
  {
   "cell_type": "markdown",
   "metadata": {},
   "source": [
    "##### Data 12"
   ]
  },
  {
   "cell_type": "code",
   "execution_count": 955,
   "metadata": {},
   "outputs": [
    {
     "name": "stdout",
     "output_type": "stream",
     "text": [
      "           PM2.5        PM10       TEMP      WSPM      RAIN\n",
      "year                                                       \n",
      "2013   83.597009  111.103743  15.855606  1.614469  0.059521\n",
      "2014   87.970723  125.921362  14.610894  1.593836  0.050517\n",
      "2015   83.987719  110.538498  13.484965  1.883089  0.069356\n",
      "2016   78.224454   99.167513  13.669360  1.862658  0.078169\n",
      "2017  104.731575  119.342126   0.671848  1.962607  0.002870\n"
     ]
    }
   ],
   "source": [
    "print(weather_pollution_groupby[\"data12\"])"
   ]
  },
  {
   "cell_type": "markdown",
   "metadata": {
    "id": "th_Lzl2Fkj9O"
   },
   "source": [
    "**Insight:**\n",
    "- mengetahui bahwa dataset ini berisi data kualitas udara dengan pengukuran dari berbagai polutan dan kondisi cuaca yang relevan pada waktu tertentu.\n",
    "- memeriksa statistik deskriptif ini dengan melihat apakah kualitas udara cukup konsisten atau sangat bervariasi antar waktu."
   ]
  },
  {
   "cell_type": "markdown",
   "metadata": {
    "id": "zsyZjqak8DC2"
   },
   "source": [
    "## Visualization & Explanatory Analysis"
   ]
  },
  {
   "cell_type": "code",
   "execution_count": 956,
   "metadata": {},
   "outputs": [],
   "source": [
    "dataframes = [data1_df, data2_df, data3_df, data4_df, data5_df, \n",
    "              data6_df, data7_df, data8_df, data9_df, data10_df, \n",
    "              data11_df, data12_df]\n",
    "df_all = pd.concat(dataframes, ignore_index=True)\n",
    "df_all['datetime'] = pd.to_datetime(df_all[['year', 'month', 'day', 'hour']])\n",
    "df_all = df_all.sort_values(by=\"datetime\")"
   ]
  },
  {
   "cell_type": "markdown",
   "metadata": {
    "id": "HZxOiQ6n8DC2"
   },
   "source": [
    "### Pertanyaan 1:"
   ]
  },
  {
   "cell_type": "code",
   "execution_count": 957,
   "metadata": {
    "id": "1swJUdAD8DC2"
   },
   "outputs": [
    {
     "data": {
      "image/png": "[encoded data removed]",
      "text/plain": [
       "<Figure size 1200x600 with 1 Axes>"
      ]
     },
     "metadata": {},
     "output_type": "display_data"
    },
    {
     "data": {
      "image/png": "[encoded data removed]",
      "text/plain": [
       "<Figure size 1200x600 with 1 Axes>"
      ]
     },
     "metadata": {},
     "output_type": "display_data"
    },
    {
     "data": {
      "image/png": "[encoded data removed]",
      "text/plain": [
       "<Figure size 1000x500 with 1 Axes>"
      ]
     },
     "metadata": {},
     "output_type": "display_data"
    }
   ],
   "source": [
    "plt.figure(figsize=(12, 6))\n",
    "sns.lineplot(data=df_all, x=\"datetime\", y=\"PM2.5\", hue=\"station\", errorbar=None)\n",
    "plt.title(\"Tren PM2.5 di Semua Lokasi (2013-2017)\")\n",
    "plt.xlabel(\"Waktu\")\n",
    "plt.ylabel(\"Konsentrasi PM2.5 (µg/m³)\")\n",
    "plt.legend(title=\"Lokasi\")\n",
    "plt.grid(True)\n",
    "plt.show()\n",
    "\n",
    "plt.figure(figsize=(12, 6))\n",
    "sns.lineplot(data=df_all, x=\"datetime\", y=\"PM10\", hue=\"station\", errorbar=None)\n",
    "plt.title(\"Tren PM10 di Semua Lokasi (2013-2017)\")\n",
    "plt.xlabel(\"Waktu\")\n",
    "plt.ylabel(\"Konsentrasi PM10 (µg/m³)\")\n",
    "plt.legend(title=\"Lokasi\")\n",
    "plt.grid(True)\n",
    "plt.show()\n",
    "\n",
    "plt.figure(figsize=(10, 5))\n",
    "sns.lineplot(data=df_yearly, markers=True)\n",
    "plt.title('Tren Tahunan PM2.5 dan PM10')\n",
    "plt.ylabel('Konsentrasi (µg/m³)')\n",
    "plt.xlabel('Tahun')\n",
    "plt.grid()\n",
    "plt.show()\n",
    "\n"
   ]
  },
  {
   "cell_type": "markdown",
   "metadata": {
    "id": "DgHI7CiU8DC2"
   },
   "source": [
    "### Pertanyaan 2:"
   ]
  },
  {
   "cell_type": "code",
   "execution_count": 958,
   "metadata": {
    "id": "Go0lCsvO8DC2"
   },
   "outputs": [
    {
     "data": {
      "image/png": "[encoded data removed]",
      "text/plain": [
       "<Figure size 800x500 with 1 Axes>"
      ]
     },
     "metadata": {},
     "output_type": "display_data"
    },
    {
     "data": {
      "image/png": "[encoded data removed]",
      "text/plain": [
       "<Figure size 1200x600 with 1 Axes>"
      ]
     },
     "metadata": {},
     "output_type": "display_data"
    },
    {
     "data": {
      "image/png": "[encoded data removed]",
      "text/plain": [
       "<Figure size 1200x600 with 1 Axes>"
      ]
     },
     "metadata": {},
     "output_type": "display_data"
    }
   ],
   "source": [
    "df['datetime'] = pd.to_datetime(df[['year', 'month', 'day', 'hour']])\n",
    "def get_season(month):\n",
    "    if month in [12, 1, 2]:\n",
    "        return 'Winter'\n",
    "    elif month in [3, 4, 5]:\n",
    "        return 'Spring'\n",
    "    elif month in [6, 7, 8]:\n",
    "        return 'Summer'\n",
    "    else:\n",
    "        return 'Autumn'\n",
    "\n",
    "df['season'] = df['datetime'].dt.month.apply(get_season)\n",
    "df_seasonal = df.groupby('season')[['PM2.5', 'PM10']].mean()\n",
    "\n",
    "plt.figure(figsize=(8, 5))\n",
    "sns.barplot(data=df_seasonal.reset_index(), x='season', y='PM2.5', label='PM2.5', alpha=0.7)\n",
    "sns.barplot(data=df_seasonal.reset_index(), x='season', y='PM10', label='PM10', alpha=0.7)\n",
    "plt.title('Pola Musiman PM2.5 dan PM10')\n",
    "plt.ylabel('Konsentrasi (µg/m³)')\n",
    "plt.xlabel('Musim')\n",
    "plt.legend()\n",
    "plt.show()\n",
    "\n",
    "plt.figure(figsize=(12, 6))\n",
    "sns.boxplot(data=df_all, x=\"season\", y=\"PM2.5\", hue=\"station\")\n",
    "plt.title(\"Distribusi PM2.5 Berdasarkan Musim\")\n",
    "plt.xlabel(\"Musim\")\n",
    "plt.ylabel(\"Konsentrasi PM2.5 (µg/m³)\")\n",
    "plt.legend(title=\"Lokasi\")\n",
    "plt.grid(True)\n",
    "plt.show()\n",
    "\n",
    "plt.figure(figsize=(12, 6))\n",
    "sns.boxplot(data=df_all, x=\"season\", y=\"PM10\", hue=\"station\")\n",
    "plt.title(\"Distribusi PM10 Berdasarkan Musim\")\n",
    "plt.xlabel(\"Musim\")\n",
    "plt.ylabel(\"Konsentrasi PM10 (µg/m³)\")\n",
    "plt.legend(title=\"Lokasi\")\n",
    "plt.grid(True)\n",
    "plt.show()"
   ]
  },
  {
   "cell_type": "markdown",
   "metadata": {
    "id": "_0-36BDLklRg"
   },
   "source": [
    "**Insight:**\n",
    "- Menampilkan hasil Visualisasi dari kedua pertanyaan yang ada"
   ]
  },
  {
   "cell_type": "markdown",
   "metadata": {
    "id": "_WeHlCeX8DC2"
   },
   "source": [
    "## Conclusion"
   ]
  },
  {
   "cell_type": "markdown",
   "metadata": {
    "id": "ZTcyR48Y8DC2"
   },
   "source": [
    "- Konsentrasi PM2.5 dan PM10 menunjukkan pola musiman yang jelas, dengan tingkat polusi cenderung lebih tinggi pada bulan-bulan tertentu, terutama saat musim kemarau.\n",
    "Dalam beberapa tahun terakhir, terjadi peningkatan kadar PM2.5 dan PM10 di beberapa lokasi, menunjukkan tren memburuknya kualitas udara.\n",
    "Pengaruh Faktor Cuaca:\n",
    "\n",
    "- Suhu memiliki korelasi negatif dengan tingkat polusi, yang menunjukkan bahwa suhu yang lebih tinggi cenderung dikaitkan dengan kadar PM yang lebih rendah.\n",
    "Kecepatan angin berperan dalam menyebarkan polutan, sehingga lokasi dengan angin lebih kencang cenderung memiliki kadar polusi lebih rendah.\n",
    "Curah hujan memiliki efek pencucian udara (washout effect), di mana hujan dapat membantu menurunkan kadar polutan.\n",
    "Perbandingan Lokasi:\n",
    "\n",
    "- Terdapat perbedaan signifikan dalam kualitas udara di antara lokasi-lokasi yang dianalisis. Beberapa lokasi lebih rentan terhadap polusi udara akibat faktor lingkungan dan aktivitas manusia di sekitarnya."
   ]
  },
  {
   "cell_type": "markdown",
   "metadata": {},
   "source": [
    "**Insight:**\n",
    "- Pengelolaan Polusi Udara:\n",
    "Dengan tren peningkatan polusi di beberapa lokasi, diperlukan upaya pengelolaan yang lebih baik, seperti regulasi industri, pengurangan emisi kendaraan, dan penghijauan di area perkotaan.\n",
    "\n",
    "- Monitoring & Intervensi Berdasarkan Cuaca:\n",
    "Mengingat pengaruh cuaca terhadap polusi, kebijakan mitigasi seperti penyemprotan air di daerah padat kendaraan atau pembatasan aktivitas industri pada musim kemarau dapat membantu mengurangi dampak buruk polusi.\n",
    "\n",
    "- Peningkatan Kesadaran Masyarakat:\n",
    "Edukasi masyarakat mengenai pola polusi udara dan faktor cuaca dapat meningkatkan kewaspadaan, misalnya dengan mendorong penggunaan masker atau pembatasan aktivitas luar ruangan pada hari dengan tingkat polusi tinggi.\n",
    "\n",
    "- Peningkatan Sistem Monitoring & Prediksi Polusi:\n",
    "Dengan memahami pola musiman dan cuaca yang mempengaruhi polusi, pengembangan sistem prediksi berbasis data dapat membantu memberikan peringatan dini terhadap lonjakan polusi udara."
   ]
  }
 ],
 "metadata": {
  "colab": {
   "provenance": []
  },
  "kernelspec": {
   "display_name": "base",
   "language": "python",
   "name": "python3"
  },
  "language_info": {
   "codemirror_mode": {
    "name": "ipython",
    "version": 3
   },
   "file_extension": ".py",
   "mimetype": "text/x-python",
   "name": "python",
   "nbconvert_exporter": "python",
   "pygments_lexer": "ipython3",
   "version": "3.12.7"
  }
 },
 "nbformat": 4,
 "nbformat_minor": 0
}
